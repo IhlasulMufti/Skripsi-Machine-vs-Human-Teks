{
  "cells": [
    {
      "cell_type": "markdown",
      "metadata": {
        "id": "0_GcWEDeE09u"
      },
      "source": [
        "# Install Library"
      ]
    },
    {
      "cell_type": "code",
      "execution_count": null,
      "metadata": {
        "id": "GkxCCqK_gP1z"
      },
      "outputs": [],
      "source": [
        "# %pip install datasets"
      ]
    },
    {
      "cell_type": "code",
      "execution_count": null,
      "metadata": {
        "id": "BOZ180y_SaGT"
      },
      "outputs": [],
      "source": [
        "# %pip install transformers"
      ]
    },
    {
      "cell_type": "code",
      "execution_count": null,
      "metadata": {
        "id": "IS-iuLVg334W"
      },
      "outputs": [],
      "source": [
        "# %pip install tensorflow"
      ]
    },
    {
      "cell_type": "code",
      "execution_count": null,
      "metadata": {
        "id": "EPPL55WB334X"
      },
      "outputs": [],
      "source": [
        "# %pip install tf-keras"
      ]
    },
    {
      "cell_type": "code",
      "execution_count": null,
      "metadata": {
        "id": "Tua9a7js334Y"
      },
      "outputs": [],
      "source": [
        "# %pip install matplotlib"
      ]
    },
    {
      "cell_type": "code",
      "execution_count": null,
      "metadata": {
        "id": "MIPvbhdk334Y"
      },
      "outputs": [],
      "source": [
        "# %pip install ipywidgets"
      ]
    },
    {
      "cell_type": "code",
      "execution_count": null,
      "metadata": {
        "id": "R3sOJJ1i334Z"
      },
      "outputs": [],
      "source": [
        "# %pip install sentencepiece"
      ]
    },
    {
      "cell_type": "code",
      "execution_count": null,
      "metadata": {
        "id": "-1o1yKnVThvl"
      },
      "outputs": [],
      "source": [
        "# %pip install scikit-learn"
      ]
    },
    {
      "cell_type": "code",
      "execution_count": null,
      "metadata": {
        "id": "zLkgLCZ1Tx7e"
      },
      "outputs": [],
      "source": [
        "# from google.colab import drive\n",
        "# drive.mount('/content/drive')"
      ]
    },
    {
      "cell_type": "markdown",
      "metadata": {
        "id": "7tYfGlUHE5Su"
      },
      "source": [
        "# Load Datasets"
      ]
    },
    {
      "cell_type": "markdown",
      "metadata": {
        "id": "FnEZQSYjE878"
      },
      "source": [
        "## Load Data dari Hugging Face"
      ]
    },
    {
      "cell_type": "code",
      "execution_count": null,
      "metadata": {
        "id": "flqQo11Of9FI"
      },
      "outputs": [],
      "source": [
        "from datasets import load_dataset\n",
        "import pandas as pd"
      ]
    },
    {
      "cell_type": "code",
      "execution_count": null,
      "metadata": {
        "id": "Pk6N39l3iCsO"
      },
      "outputs": [],
      "source": [
        "from huggingface_hub import login\n",
        "login()"
      ]
    },
    {
      "cell_type": "markdown",
      "metadata": {
        "id": "Yx0s1i3mT8nJ"
      },
      "source": [
        "## Datasets Tunggal"
      ]
    },
    {
      "cell_type": "markdown",
      "metadata": {
        "id": "28FlLoLzFDP0"
      },
      "source": [
        "### Wiki-Label Datasets"
      ]
    },
    {
      "cell_type": "code",
      "execution_count": null,
      "metadata": {
        "colab": {
          "base_uri": "https://localhost:8080/",
          "height": 576,
          "referenced_widgets": [
            "2ba3baebb1c34f8f831f10bffe802e36",
            "8ab1ff1e498a41a3b08bd0a9eb6c377f",
            "9f5f87908ce44d63948e827d883435f0",
            "6c620c548c944aa491ee6578b49a7367",
            "98c98920b5334226be9ffd5b6939aeb8",
            "61902a18675b49da972d2a063e36f713",
            "2bc6ae3ec9cf4fffb51b62c21f1cfe70",
            "af46331912cd4795bcc9928079798829",
            "d142cb5040d44ba4be5defcd7bcf5ffc",
            "f6c1d9b1f66d42edbea18d1ac718b0d9",
            "ddc474ce4be846dfb918aaf59dae028c",
            "08948786bd3349969950c08560dc0da9",
            "7fbcea77bc9c4963b8f1a71716076fd9",
            "1f5abaf1aa8a46e9b6cc4d2fcaac6813",
            "79d70057bacb4cce906f41b4a2179154",
            "eb7b7b659383490e9d731814ba8b4bae",
            "6ed6c234f4904183beb4a504cfddf5ee",
            "a078b2d07b754e2a8d59746c8065553d",
            "40bf61b95b214e139d78d2dcc791960a",
            "456f0b1e22994e0f9caead0b0270d922",
            "d49abed8a1cd49acbba3aadc45479a41",
            "6200d93b92fd4dd4ad140fd820210914",
            "6b70baa1279c40a58100c7843b48fa09",
            "0a2e0e200d16439b8648bc2a6282fc16",
            "ca422866283244ef9994546fe97fa4b3",
            "2cc38b7129d04bbcbb91361f7ff9676b",
            "2a25d8bd814e4615ada926e99c7a4c80",
            "a0deb3721f2e4ac3b0de6517f5f7e678",
            "b4a1f2d0ba3b41299ade4df77ccd4108",
            "50ab110e6dc044b79ec7142ec4452b66",
            "8aeeadaf235640a59f06c78223de8054",
            "5eb5a302f87f4bdf8d0742b719a4c390",
            "9667384b77f542e8b85e3b8ae47a9554",
            "dfa8e26361b54908b7be062750678994",
            "2fceb0677e8845708356efa0f733ddf5",
            "3d1a6f8e2c7042fc80fdbedf81bb281c",
            "701001c3b438414392de07bdb0f85512",
            "f5d38d0b235046068504e62b60f4f5ad",
            "20957e2416ef4dc6972465eba084f1cb",
            "b722b27caeb34f0a8a23d81d89b40f89",
            "4c0eccfe13f242e898d01f2ccf8efd31",
            "f1cc23cd12cb410caf73cdd4799a6b44",
            "3a692a2ff2dc4160aad4b49cfbec1d06",
            "5d78e88c323045118a212de965107451",
            "0297bdf047a047afa195a1e469a53605",
            "20c91f94933f4652b82adb5c82bebbd8",
            "142b6b2f9ff04fb994b3d1f96de3392f",
            "d25d34a48eca4f67b9992685d22bdb37",
            "8973eefd35c247fbbd0865b4fb061de5",
            "d536c7198ade4424a824494aba875a0c",
            "9435a8890fae4374a24f3673472864ee",
            "c496464675924e159a4d2bd6576efec4",
            "ea8c3d3bf7a742cea79a5b5f617121c2",
            "cf24fe8df2984fd7aa4745e549a20919",
            "c177f9fcff234cea95132239d12db1eb",
            "afb447d88e2d4313bf7e418be5910b5a",
            "f190f7174d2e4ae2ae97b9b8aeeb53bb",
            "dd04582aaaa544c1b370a8e27fc8e5cf",
            "80e273fcbf594c3ab922b3cb626b1955",
            "133763c63fe743d095cf4da2451490be",
            "076d9ed96ebd4b3d822c181f2131c274",
            "86269489c435492297f59cad08430c0a",
            "288e54da33754212995d3fe071be6f26",
            "b3daf72cc74944a598a7423ff9395b7c",
            "6b1a53fec1744cceb2d42746d9dd9ee3",
            "85228c62f8314226b9e4eb14cf7bca7a"
          ]
        },
        "id": "YsfUPMZPgJw2",
        "outputId": "b3c44291-1006-4c83-dc74-990b2f887154"
      },
      "outputs": [
        {
          "name": "stderr",
          "output_type": "stream",
          "text": [
            "/usr/local/lib/python3.10/dist-packages/huggingface_hub/utils/_token.py:89: UserWarning: \n",
            "The secret `HF_TOKEN` does not exist in your Colab secrets.\n",
            "To authenticate with the Hugging Face Hub, create a token in your settings tab (https://huggingface.co/settings/tokens), set it as secret in your Google Colab and restart your session.\n",
            "You will be able to reuse this secret in all of your notebooks.\n",
            "Please note that authentication is recommended but still optional to access public models or datasets.\n",
            "  warnings.warn(\n"
          ]
        },
        {
          "data": {
            "application/vnd.jupyter.widget-view+json": {
              "model_id": "2ba3baebb1c34f8f831f10bffe802e36",
              "version_major": 2,
              "version_minor": 0
            },
            "text/plain": [
              "Downloading data:   0%|          | 0.00/130M [00:00<?, ?B/s]"
            ]
          },
          "metadata": {},
          "output_type": "display_data"
        },
        {
          "data": {
            "application/vnd.jupyter.widget-view+json": {
              "model_id": "08948786bd3349969950c08560dc0da9",
              "version_major": 2,
              "version_minor": 0
            },
            "text/plain": [
              "Downloading data:   0%|          | 0.00/27.8M [00:00<?, ?B/s]"
            ]
          },
          "metadata": {},
          "output_type": "display_data"
        },
        {
          "data": {
            "application/vnd.jupyter.widget-view+json": {
              "model_id": "6b70baa1279c40a58100c7843b48fa09",
              "version_major": 2,
              "version_minor": 0
            },
            "text/plain": [
              "Downloading data:   0%|          | 0.00/27.8M [00:00<?, ?B/s]"
            ]
          },
          "metadata": {},
          "output_type": "display_data"
        },
        {
          "data": {
            "application/vnd.jupyter.widget-view+json": {
              "model_id": "dfa8e26361b54908b7be062750678994",
              "version_major": 2,
              "version_minor": 0
            },
            "text/plain": [
              "Generating train split:   0%|          | 0/210000 [00:00<?, ? examples/s]"
            ]
          },
          "metadata": {},
          "output_type": "display_data"
        },
        {
          "data": {
            "application/vnd.jupyter.widget-view+json": {
              "model_id": "0297bdf047a047afa195a1e469a53605",
              "version_major": 2,
              "version_minor": 0
            },
            "text/plain": [
              "Generating test split:   0%|          | 0/45000 [00:00<?, ? examples/s]"
            ]
          },
          "metadata": {},
          "output_type": "display_data"
        },
        {
          "data": {
            "application/vnd.jupyter.widget-view+json": {
              "model_id": "afb447d88e2d4313bf7e418be5910b5a",
              "version_major": 2,
              "version_minor": 0
            },
            "text/plain": [
              "Generating validation split:   0%|          | 0/45000 [00:00<?, ? examples/s]"
            ]
          },
          "metadata": {},
          "output_type": "display_data"
        },
        {
          "data": {
            "text/plain": [
              "DatasetDict({\n",
              "    train: Dataset({\n",
              "        features: ['title', 'label', 'text', 'word_count'],\n",
              "        num_rows: 210000\n",
              "    })\n",
              "    test: Dataset({\n",
              "        features: ['title', 'label', 'text', 'word_count'],\n",
              "        num_rows: 45000\n",
              "    })\n",
              "    validation: Dataset({\n",
              "        features: ['title', 'label', 'text', 'word_count'],\n",
              "        num_rows: 45000\n",
              "    })\n",
              "})"
            ]
          },
          "execution_count": 12,
          "metadata": {},
          "output_type": "execute_result"
        }
      ],
      "source": [
        "# If the dataset is gated/private, make sure you have run huggingface-cli login\n",
        "wiki_dataset = load_dataset(\"NicolaiSivesind/human-vs-machine\", \"wiki_labeled\")\n",
        "\n",
        "wiki_dataset"
      ]
    },
    {
      "cell_type": "code",
      "execution_count": null,
      "metadata": {
        "id": "rEowacqZjmL5"
      },
      "outputs": [],
      "source": [
        "# Konversi dataset ke DataFrame Pandas\n",
        "train_wiki_df = wiki_dataset[\"train\"].to_pandas().iloc[:144000]\n",
        "test_wiki_df = wiki_dataset[\"test\"].to_pandas().iloc[:16000]\n",
        "val_wiki_df = wiki_dataset[\"validation\"].to_pandas().iloc[:16000]"
      ]
    },
    {
      "cell_type": "code",
      "execution_count": null,
      "metadata": {
        "colab": {
          "base_uri": "https://localhost:8080/"
        },
        "id": "fe-GYopXjpQt",
        "outputId": "3158350e-c4c7-4603-c7e0-3ce642b272b1"
      },
      "outputs": [
        {
          "name": "stdout",
          "output_type": "stream",
          "text": [
            "Ukuran Train Wiki-Label: (144000, 4)\n",
            "Ukuran Test Wiki-Label: (16000, 4)\n",
            "Ukuran Val Wiki-Label: (16000, 4)\n"
          ]
        }
      ],
      "source": [
        "print(f\"Ukuran Train Wiki-Label: {train_wiki_df.shape}\")\n",
        "print(f\"Ukuran Test Wiki-Label: {test_wiki_df.shape}\")\n",
        "print(f\"Ukuran Val Wiki-Label: {val_wiki_df.shape}\")"
      ]
    },
    {
      "cell_type": "code",
      "execution_count": null,
      "metadata": {
        "colab": {
          "base_uri": "https://localhost:8080/",
          "height": 493
        },
        "id": "e4PTMF6hJCvW",
        "outputId": "f369cc1f-5b55-47b3-8d4b-64f94723ce65"
      },
      "outputs": [
        {
          "data": {
            "application/vnd.google.colaboratory.intrinsic+json": {
              "type": "dataframe",
              "variable_name": "train_wiki_df"
            },
            "text/html": [
              "\n",
              "  <div id=\"df-18036e60-66a6-4857-af3f-c7606a54e9b1\" class=\"colab-df-container\">\n",
              "    <div>\n",
              "<style scoped>\n",
              "    .dataframe tbody tr th:only-of-type {\n",
              "        vertical-align: middle;\n",
              "    }\n",
              "\n",
              "    .dataframe tbody tr th {\n",
              "        vertical-align: top;\n",
              "    }\n",
              "\n",
              "    .dataframe thead th {\n",
              "        text-align: right;\n",
              "    }\n",
              "</style>\n",
              "<table border=\"1\" class=\"dataframe\">\n",
              "  <thead>\n",
              "    <tr style=\"text-align: right;\">\n",
              "      <th></th>\n",
              "      <th>title</th>\n",
              "      <th>label</th>\n",
              "      <th>text</th>\n",
              "      <th>word_count</th>\n",
              "    </tr>\n",
              "  </thead>\n",
              "  <tbody>\n",
              "    <tr>\n",
              "      <th>0</th>\n",
              "      <td>James Scobie</td>\n",
              "      <td>0</td>\n",
              "      <td>James Scobie (29 November 1826 – 7 October 185...</td>\n",
              "      <td>175</td>\n",
              "    </tr>\n",
              "    <tr>\n",
              "      <th>1</th>\n",
              "      <td>James Scobie</td>\n",
              "      <td>1</td>\n",
              "      <td>James Scobie (29 November 1826 – 7 October 189...</td>\n",
              "      <td>242</td>\n",
              "    </tr>\n",
              "    <tr>\n",
              "      <th>2</th>\n",
              "      <td>Dagliç sheep</td>\n",
              "      <td>0</td>\n",
              "      <td>The Dagliç is a breed of sheep found primarily...</td>\n",
              "      <td>152</td>\n",
              "    </tr>\n",
              "    <tr>\n",
              "      <th>3</th>\n",
              "      <td>Dagliç sheep</td>\n",
              "      <td>1</td>\n",
              "      <td>The Dagliç is a breed of sheep that is found i...</td>\n",
              "      <td>33</td>\n",
              "    </tr>\n",
              "    <tr>\n",
              "      <th>4</th>\n",
              "      <td>Hamdard India</td>\n",
              "      <td>0</td>\n",
              "      <td>Hamdard Laboratories (India), is a Unani pharm...</td>\n",
              "      <td>160</td>\n",
              "    </tr>\n",
              "    <tr>\n",
              "      <th>...</th>\n",
              "      <td>...</td>\n",
              "      <td>...</td>\n",
              "      <td>...</td>\n",
              "      <td>...</td>\n",
              "    </tr>\n",
              "    <tr>\n",
              "      <th>143995</th>\n",
              "      <td>Diggers' Song</td>\n",
              "      <td>1</td>\n",
              "      <td>The \"Diggers' Song\" (also known as \"Levellers'...</td>\n",
              "      <td>218</td>\n",
              "    </tr>\n",
              "    <tr>\n",
              "      <th>143996</th>\n",
              "      <td>Geylang International FC</td>\n",
              "      <td>0</td>\n",
              "      <td>Geylang International Football Club is a profe...</td>\n",
              "      <td>166</td>\n",
              "    </tr>\n",
              "    <tr>\n",
              "      <th>143997</th>\n",
              "      <td>Geylang International FC</td>\n",
              "      <td>1</td>\n",
              "      <td>Geylang International Football Club is a profe...</td>\n",
              "      <td>207</td>\n",
              "    </tr>\n",
              "    <tr>\n",
              "      <th>143998</th>\n",
              "      <td>Takayama Main Line</td>\n",
              "      <td>0</td>\n",
              "      <td>The  is a Japanese railway line between Gifu S...</td>\n",
              "      <td>180</td>\n",
              "    </tr>\n",
              "    <tr>\n",
              "      <th>143999</th>\n",
              "      <td>Takayama Main Line</td>\n",
              "      <td>1</td>\n",
              "      <td>The  is a Japanese railway line connecting the...</td>\n",
              "      <td>72</td>\n",
              "    </tr>\n",
              "  </tbody>\n",
              "</table>\n",
              "<p>144000 rows × 4 columns</p>\n",
              "</div>\n",
              "    <div class=\"colab-df-buttons\">\n",
              "\n",
              "  <div class=\"colab-df-container\">\n",
              "    <button class=\"colab-df-convert\" onclick=\"convertToInteractive('df-18036e60-66a6-4857-af3f-c7606a54e9b1')\"\n",
              "            title=\"Convert this dataframe to an interactive table.\"\n",
              "            style=\"display:none;\">\n",
              "\n",
              "  <svg xmlns=\"http://www.w3.org/2000/svg\" height=\"24px\" viewBox=\"0 -960 960 960\">\n",
              "    <path d=\"M120-120v-720h720v720H120Zm60-500h600v-160H180v160Zm220 220h160v-160H400v160Zm0 220h160v-160H400v160ZM180-400h160v-160H180v160Zm440 0h160v-160H620v160ZM180-180h160v-160H180v160Zm440 0h160v-160H620v160Z\"/>\n",
              "  </svg>\n",
              "    </button>\n",
              "\n",
              "  <style>\n",
              "    .colab-df-container {\n",
              "      display:flex;\n",
              "      gap: 12px;\n",
              "    }\n",
              "\n",
              "    .colab-df-convert {\n",
              "      background-color: #E8F0FE;\n",
              "      border: none;\n",
              "      border-radius: 50%;\n",
              "      cursor: pointer;\n",
              "      display: none;\n",
              "      fill: #1967D2;\n",
              "      height: 32px;\n",
              "      padding: 0 0 0 0;\n",
              "      width: 32px;\n",
              "    }\n",
              "\n",
              "    .colab-df-convert:hover {\n",
              "      background-color: #E2EBFA;\n",
              "      box-shadow: 0px 1px 2px rgba(60, 64, 67, 0.3), 0px 1px 3px 1px rgba(60, 64, 67, 0.15);\n",
              "      fill: #174EA6;\n",
              "    }\n",
              "\n",
              "    .colab-df-buttons div {\n",
              "      margin-bottom: 4px;\n",
              "    }\n",
              "\n",
              "    [theme=dark] .colab-df-convert {\n",
              "      background-color: #3B4455;\n",
              "      fill: #D2E3FC;\n",
              "    }\n",
              "\n",
              "    [theme=dark] .colab-df-convert:hover {\n",
              "      background-color: #434B5C;\n",
              "      box-shadow: 0px 1px 3px 1px rgba(0, 0, 0, 0.15);\n",
              "      filter: drop-shadow(0px 1px 2px rgba(0, 0, 0, 0.3));\n",
              "      fill: #FFFFFF;\n",
              "    }\n",
              "  </style>\n",
              "\n",
              "    <script>\n",
              "      const buttonEl =\n",
              "        document.querySelector('#df-18036e60-66a6-4857-af3f-c7606a54e9b1 button.colab-df-convert');\n",
              "      buttonEl.style.display =\n",
              "        google.colab.kernel.accessAllowed ? 'block' : 'none';\n",
              "\n",
              "      async function convertToInteractive(key) {\n",
              "        const element = document.querySelector('#df-18036e60-66a6-4857-af3f-c7606a54e9b1');\n",
              "        const dataTable =\n",
              "          await google.colab.kernel.invokeFunction('convertToInteractive',\n",
              "                                                    [key], {});\n",
              "        if (!dataTable) return;\n",
              "\n",
              "        const docLinkHtml = 'Like what you see? Visit the ' +\n",
              "          '<a target=\"_blank\" href=https://colab.research.google.com/notebooks/data_table.ipynb>data table notebook</a>'\n",
              "          + ' to learn more about interactive tables.';\n",
              "        element.innerHTML = '';\n",
              "        dataTable['output_type'] = 'display_data';\n",
              "        await google.colab.output.renderOutput(dataTable, element);\n",
              "        const docLink = document.createElement('div');\n",
              "        docLink.innerHTML = docLinkHtml;\n",
              "        element.appendChild(docLink);\n",
              "      }\n",
              "    </script>\n",
              "  </div>\n",
              "\n",
              "\n",
              "<div id=\"df-d175bdd1-5ad8-4629-ad02-dabd2cc82dd7\">\n",
              "  <button class=\"colab-df-quickchart\" onclick=\"quickchart('df-d175bdd1-5ad8-4629-ad02-dabd2cc82dd7')\"\n",
              "            title=\"Suggest charts\"\n",
              "            style=\"display:none;\">\n",
              "\n",
              "<svg xmlns=\"http://www.w3.org/2000/svg\" height=\"24px\"viewBox=\"0 0 24 24\"\n",
              "     width=\"24px\">\n",
              "    <g>\n",
              "        <path d=\"M19 3H5c-1.1 0-2 .9-2 2v14c0 1.1.9 2 2 2h14c1.1 0 2-.9 2-2V5c0-1.1-.9-2-2-2zM9 17H7v-7h2v7zm4 0h-2V7h2v10zm4 0h-2v-4h2v4z\"/>\n",
              "    </g>\n",
              "</svg>\n",
              "  </button>\n",
              "\n",
              "<style>\n",
              "  .colab-df-quickchart {\n",
              "      --bg-color: #E8F0FE;\n",
              "      --fill-color: #1967D2;\n",
              "      --hover-bg-color: #E2EBFA;\n",
              "      --hover-fill-color: #174EA6;\n",
              "      --disabled-fill-color: #AAA;\n",
              "      --disabled-bg-color: #DDD;\n",
              "  }\n",
              "\n",
              "  [theme=dark] .colab-df-quickchart {\n",
              "      --bg-color: #3B4455;\n",
              "      --fill-color: #D2E3FC;\n",
              "      --hover-bg-color: #434B5C;\n",
              "      --hover-fill-color: #FFFFFF;\n",
              "      --disabled-bg-color: #3B4455;\n",
              "      --disabled-fill-color: #666;\n",
              "  }\n",
              "\n",
              "  .colab-df-quickchart {\n",
              "    background-color: var(--bg-color);\n",
              "    border: none;\n",
              "    border-radius: 50%;\n",
              "    cursor: pointer;\n",
              "    display: none;\n",
              "    fill: var(--fill-color);\n",
              "    height: 32px;\n",
              "    padding: 0;\n",
              "    width: 32px;\n",
              "  }\n",
              "\n",
              "  .colab-df-quickchart:hover {\n",
              "    background-color: var(--hover-bg-color);\n",
              "    box-shadow: 0 1px 2px rgba(60, 64, 67, 0.3), 0 1px 3px 1px rgba(60, 64, 67, 0.15);\n",
              "    fill: var(--button-hover-fill-color);\n",
              "  }\n",
              "\n",
              "  .colab-df-quickchart-complete:disabled,\n",
              "  .colab-df-quickchart-complete:disabled:hover {\n",
              "    background-color: var(--disabled-bg-color);\n",
              "    fill: var(--disabled-fill-color);\n",
              "    box-shadow: none;\n",
              "  }\n",
              "\n",
              "  .colab-df-spinner {\n",
              "    border: 2px solid var(--fill-color);\n",
              "    border-color: transparent;\n",
              "    border-bottom-color: var(--fill-color);\n",
              "    animation:\n",
              "      spin 1s steps(1) infinite;\n",
              "  }\n",
              "\n",
              "  @keyframes spin {\n",
              "    0% {\n",
              "      border-color: transparent;\n",
              "      border-bottom-color: var(--fill-color);\n",
              "      border-left-color: var(--fill-color);\n",
              "    }\n",
              "    20% {\n",
              "      border-color: transparent;\n",
              "      border-left-color: var(--fill-color);\n",
              "      border-top-color: var(--fill-color);\n",
              "    }\n",
              "    30% {\n",
              "      border-color: transparent;\n",
              "      border-left-color: var(--fill-color);\n",
              "      border-top-color: var(--fill-color);\n",
              "      border-right-color: var(--fill-color);\n",
              "    }\n",
              "    40% {\n",
              "      border-color: transparent;\n",
              "      border-right-color: var(--fill-color);\n",
              "      border-top-color: var(--fill-color);\n",
              "    }\n",
              "    60% {\n",
              "      border-color: transparent;\n",
              "      border-right-color: var(--fill-color);\n",
              "    }\n",
              "    80% {\n",
              "      border-color: transparent;\n",
              "      border-right-color: var(--fill-color);\n",
              "      border-bottom-color: var(--fill-color);\n",
              "    }\n",
              "    90% {\n",
              "      border-color: transparent;\n",
              "      border-bottom-color: var(--fill-color);\n",
              "    }\n",
              "  }\n",
              "</style>\n",
              "\n",
              "  <script>\n",
              "    async function quickchart(key) {\n",
              "      const quickchartButtonEl =\n",
              "        document.querySelector('#' + key + ' button');\n",
              "      quickchartButtonEl.disabled = true;  // To prevent multiple clicks.\n",
              "      quickchartButtonEl.classList.add('colab-df-spinner');\n",
              "      try {\n",
              "        const charts = await google.colab.kernel.invokeFunction(\n",
              "            'suggestCharts', [key], {});\n",
              "      } catch (error) {\n",
              "        console.error('Error during call to suggestCharts:', error);\n",
              "      }\n",
              "      quickchartButtonEl.classList.remove('colab-df-spinner');\n",
              "      quickchartButtonEl.classList.add('colab-df-quickchart-complete');\n",
              "    }\n",
              "    (() => {\n",
              "      let quickchartButtonEl =\n",
              "        document.querySelector('#df-d175bdd1-5ad8-4629-ad02-dabd2cc82dd7 button');\n",
              "      quickchartButtonEl.style.display =\n",
              "        google.colab.kernel.accessAllowed ? 'block' : 'none';\n",
              "    })();\n",
              "  </script>\n",
              "</div>\n",
              "\n",
              "  <div id=\"id_e76c0609-55e4-4912-97ca-6734c1d5baff\">\n",
              "    <style>\n",
              "      .colab-df-generate {\n",
              "        background-color: #E8F0FE;\n",
              "        border: none;\n",
              "        border-radius: 50%;\n",
              "        cursor: pointer;\n",
              "        display: none;\n",
              "        fill: #1967D2;\n",
              "        height: 32px;\n",
              "        padding: 0 0 0 0;\n",
              "        width: 32px;\n",
              "      }\n",
              "\n",
              "      .colab-df-generate:hover {\n",
              "        background-color: #E2EBFA;\n",
              "        box-shadow: 0px 1px 2px rgba(60, 64, 67, 0.3), 0px 1px 3px 1px rgba(60, 64, 67, 0.15);\n",
              "        fill: #174EA6;\n",
              "      }\n",
              "\n",
              "      [theme=dark] .colab-df-generate {\n",
              "        background-color: #3B4455;\n",
              "        fill: #D2E3FC;\n",
              "      }\n",
              "\n",
              "      [theme=dark] .colab-df-generate:hover {\n",
              "        background-color: #434B5C;\n",
              "        box-shadow: 0px 1px 3px 1px rgba(0, 0, 0, 0.15);\n",
              "        filter: drop-shadow(0px 1px 2px rgba(0, 0, 0, 0.3));\n",
              "        fill: #FFFFFF;\n",
              "      }\n",
              "    </style>\n",
              "    <button class=\"colab-df-generate\" onclick=\"generateWithVariable('train_wiki_df')\"\n",
              "            title=\"Generate code using this dataframe.\"\n",
              "            style=\"display:none;\">\n",
              "\n",
              "  <svg xmlns=\"http://www.w3.org/2000/svg\" height=\"24px\"viewBox=\"0 0 24 24\"\n",
              "       width=\"24px\">\n",
              "    <path d=\"M7,19H8.4L18.45,9,17,7.55,7,17.6ZM5,21V16.75L18.45,3.32a2,2,0,0,1,2.83,0l1.4,1.43a1.91,1.91,0,0,1,.58,1.4,1.91,1.91,0,0,1-.58,1.4L9.25,21ZM18.45,9,17,7.55Zm-12,3A5.31,5.31,0,0,0,4.9,8.1,5.31,5.31,0,0,0,1,6.5,5.31,5.31,0,0,0,4.9,4.9,5.31,5.31,0,0,0,6.5,1,5.31,5.31,0,0,0,8.1,4.9,5.31,5.31,0,0,0,12,6.5,5.46,5.46,0,0,0,6.5,12Z\"/>\n",
              "  </svg>\n",
              "    </button>\n",
              "    <script>\n",
              "      (() => {\n",
              "      const buttonEl =\n",
              "        document.querySelector('#id_e76c0609-55e4-4912-97ca-6734c1d5baff button.colab-df-generate');\n",
              "      buttonEl.style.display =\n",
              "        google.colab.kernel.accessAllowed ? 'block' : 'none';\n",
              "\n",
              "      buttonEl.onclick = () => {\n",
              "        google.colab.notebook.generateWithVariable('train_wiki_df');\n",
              "      }\n",
              "      })();\n",
              "    </script>\n",
              "  </div>\n",
              "\n",
              "    </div>\n",
              "  </div>\n"
            ],
            "text/plain": [
              "                           title  label  \\\n",
              "0                   James Scobie      0   \n",
              "1                   James Scobie      1   \n",
              "2                   Dagliç sheep      0   \n",
              "3                   Dagliç sheep      1   \n",
              "4                  Hamdard India      0   \n",
              "...                          ...    ...   \n",
              "143995             Diggers' Song      1   \n",
              "143996  Geylang International FC      0   \n",
              "143997  Geylang International FC      1   \n",
              "143998        Takayama Main Line      0   \n",
              "143999        Takayama Main Line      1   \n",
              "\n",
              "                                                     text  word_count  \n",
              "0       James Scobie (29 November 1826 – 7 October 185...         175  \n",
              "1       James Scobie (29 November 1826 – 7 October 189...         242  \n",
              "2       The Dagliç is a breed of sheep found primarily...         152  \n",
              "3       The Dagliç is a breed of sheep that is found i...          33  \n",
              "4       Hamdard Laboratories (India), is a Unani pharm...         160  \n",
              "...                                                   ...         ...  \n",
              "143995  The \"Diggers' Song\" (also known as \"Levellers'...         218  \n",
              "143996  Geylang International Football Club is a profe...         166  \n",
              "143997  Geylang International Football Club is a profe...         207  \n",
              "143998  The  is a Japanese railway line between Gifu S...         180  \n",
              "143999  The  is a Japanese railway line connecting the...          72  \n",
              "\n",
              "[144000 rows x 4 columns]"
            ]
          },
          "execution_count": 15,
          "metadata": {},
          "output_type": "execute_result"
        }
      ],
      "source": [
        "train_wiki_df"
      ]
    },
    {
      "cell_type": "markdown",
      "metadata": {
        "id": "btB3DbgMFOhk"
      },
      "source": [
        "### Research-Abstract-Label Datasets"
      ]
    },
    {
      "cell_type": "code",
      "execution_count": null,
      "metadata": {
        "colab": {
          "base_uri": "https://localhost:8080/",
          "height": 452,
          "referenced_widgets": [
            "a9725fb256bd4b4db0128bfc0a1cb21d",
            "ed3d3c2a5cca49fa9d9a9296e42cc728",
            "e97e1a1eebfb4bd1a5372d70ab2c8222",
            "2d12661a0dec47ba9fbf60c4c8fd4a2a",
            "f8e47fdf9bec4712a305bb1e424075ee",
            "3d66a2f6f12f484993ca183c76f888c6",
            "a7d4393621614acb9d85dfac786575d6",
            "9c7d239d70f94f7a834a24d623c5966a",
            "3bf7fc7e7ca9468f8628e1b0fa4036a5",
            "ae05542a08b5464aba971239bb5c322c",
            "705242c7335a4e558b7f3fb5fdde79be",
            "23f4918716eb45e48a08d309d7015bc6",
            "4a90bddeda944e8aab75b49d38c2b8db",
            "49f8fba6b4fb477fb29c756314bf9430",
            "96dbb0522d464cbd8b6f8f5da5274bb1",
            "857b32f334e24f698f4d3785caaafdfe",
            "32625b6b4994450ab91be9c62ac651fa",
            "b6374302388f42f6b88271a19e24c201",
            "ec5ab2e59fc142a38cf52f3d98a7e558",
            "bbe0c703641d4324a8b51858b9494277",
            "6f6c646c33284e32b16ca7a990ba2a0a",
            "409ab2dab6e84b43a1d1b120d6b2b0a1",
            "bfbabf8709d64191a88f917582fa7e15",
            "022b45bef5904e10b4b0941907f50747",
            "88f51f4fa8ba487bbaa8a5dca154ecaa",
            "81e81ec3639a4a1bb57d401a6bf8b7a4",
            "5f13964cb3d74384a38c597cca8ac475",
            "8e535cf0e10a401a8fce024f304f8e8d",
            "1fafe044103f4f20b0a31977177d25f7",
            "8a596ad341f04c058e83b0f6e94a2596",
            "98be0f4248f14702bfaf4f4604b7bb66",
            "587ee2bc05d64f80b9aa0899e9d9106b",
            "668940578ce349438fd196e791635f74",
            "07badbdf2364462f8cadd1fd5ccb9360",
            "4c9b2b5241ff4fc28d67dd74c7c98d86",
            "c805f201f9834828ad927b04a7ec5385",
            "f3d57a4caa6d4d1d903bbc8fa9c15ee2",
            "bb759a2973064c31b2ac7e7787d3a730",
            "a0e8a9cc86d443a3b11c1506ca8525ce",
            "7c8d14adff71489f9798f06f6e028af5",
            "fe669f07d89846f8afc27ba83cdd7451",
            "95b5586ad403405cb2b546c42f625254",
            "904ca604611d4f37bd5543adde0b250a",
            "86c48e21213643f883421ea00989d645",
            "64b4a68e702b4879b19ef3fb3d7038ba",
            "a70fe4e5116940d193c8e8b144429bb2",
            "9d7bc61b283a4b06b9aec4423297cc37",
            "400857def22442488685c0e85eead789",
            "3e39d337d4a84a1b99cacc59fb1e466d",
            "218c6451989f4323b8bb0022421442e4",
            "c6d25675bdc14a97bcbb97817d3b988a",
            "7941838a62d644bf88ff0cee9aa1e9ea",
            "ed50af4767d847b5af7588304d9cee8f",
            "0f9c38a71c4842c6a5fbaa34cb3c0b60",
            "18a85e2adb5544108f7dd8cb1124c6bf",
            "546e450f6e66481db70c184cd09f3c7f",
            "ae282dc5892846f9893496cc13350620",
            "562002fab00b4451ae49f68a8c6a79e0",
            "29c568cfa1464e41ba807f3bec8e318e",
            "ed7617afb23044b6a0befd6b9be83356",
            "3d834db0eea64bbab19c6cbed3b489c3",
            "5d39ac20fdcc484bb0eb8805508da0c5",
            "29252cc4384a4d06a20c4ab2beab8b0a",
            "9d42dce979db4472b15ebc383ffda302",
            "a3e7d56755c741919a03627638eef582",
            "5ca8fda5e9d7408ba797a573b1b13f16"
          ]
        },
        "id": "e6fYNy-BFa-G",
        "outputId": "8d7491d4-9803-41a0-87ca-3db8f8345b84"
      },
      "outputs": [
        {
          "data": {
            "application/vnd.jupyter.widget-view+json": {
              "model_id": "a9725fb256bd4b4db0128bfc0a1cb21d",
              "version_major": 2,
              "version_minor": 0
            },
            "text/plain": [
              "Downloading data:   0%|          | 0.00/10.1M [00:00<?, ?B/s]"
            ]
          },
          "metadata": {},
          "output_type": "display_data"
        },
        {
          "data": {
            "application/vnd.jupyter.widget-view+json": {
              "model_id": "23f4918716eb45e48a08d309d7015bc6",
              "version_major": 2,
              "version_minor": 0
            },
            "text/plain": [
              "Downloading data:   0%|          | 0.00/2.14M [00:00<?, ?B/s]"
            ]
          },
          "metadata": {},
          "output_type": "display_data"
        },
        {
          "data": {
            "application/vnd.jupyter.widget-view+json": {
              "model_id": "bfbabf8709d64191a88f917582fa7e15",
              "version_major": 2,
              "version_minor": 0
            },
            "text/plain": [
              "Downloading data:   0%|          | 0.00/2.15M [00:00<?, ?B/s]"
            ]
          },
          "metadata": {},
          "output_type": "display_data"
        },
        {
          "data": {
            "application/vnd.jupyter.widget-view+json": {
              "model_id": "07badbdf2364462f8cadd1fd5ccb9360",
              "version_major": 2,
              "version_minor": 0
            },
            "text/plain": [
              "Generating train split:   0%|          | 0/14000 [00:00<?, ? examples/s]"
            ]
          },
          "metadata": {},
          "output_type": "display_data"
        },
        {
          "data": {
            "application/vnd.jupyter.widget-view+json": {
              "model_id": "64b4a68e702b4879b19ef3fb3d7038ba",
              "version_major": 2,
              "version_minor": 0
            },
            "text/plain": [
              "Generating test split:   0%|          | 0/3000 [00:00<?, ? examples/s]"
            ]
          },
          "metadata": {},
          "output_type": "display_data"
        },
        {
          "data": {
            "application/vnd.jupyter.widget-view+json": {
              "model_id": "546e450f6e66481db70c184cd09f3c7f",
              "version_major": 2,
              "version_minor": 0
            },
            "text/plain": [
              "Generating validation split:   0%|          | 0/3000 [00:00<?, ? examples/s]"
            ]
          },
          "metadata": {},
          "output_type": "display_data"
        },
        {
          "data": {
            "text/plain": [
              "DatasetDict({\n",
              "    train: Dataset({\n",
              "        features: ['title', 'label', 'text', 'word_count'],\n",
              "        num_rows: 14000\n",
              "    })\n",
              "    test: Dataset({\n",
              "        features: ['title', 'label', 'text', 'word_count'],\n",
              "        num_rows: 3000\n",
              "    })\n",
              "    validation: Dataset({\n",
              "        features: ['title', 'label', 'text', 'word_count'],\n",
              "        num_rows: 3000\n",
              "    })\n",
              "})"
            ]
          },
          "execution_count": 16,
          "metadata": {},
          "output_type": "execute_result"
        }
      ],
      "source": [
        "# If the dataset is gated/private, make sure you have run huggingface-cli login\n",
        "abstract_dataset = load_dataset(\"NicolaiSivesind/human-vs-machine\", \"research_abstracts_labeled\")\n",
        "\n",
        "abstract_dataset"
      ]
    },
    {
      "cell_type": "code",
      "execution_count": null,
      "metadata": {
        "id": "mmFOr_cQH_tu"
      },
      "outputs": [],
      "source": [
        "# Konversi dataset ke DataFrame Pandas\n",
        "train_abstract_df = abstract_dataset[\"train\"].to_pandas()\n",
        "test_abstract_df = abstract_dataset[\"test\"].to_pandas()\n",
        "val_abstract_df = abstract_dataset[\"validation\"].to_pandas()"
      ]
    },
    {
      "cell_type": "code",
      "execution_count": null,
      "metadata": {
        "colab": {
          "base_uri": "https://localhost:8080/"
        },
        "id": "24w6rSllIBbN",
        "outputId": "0871007b-5c41-406d-d8cf-7f4f77f5c0d5"
      },
      "outputs": [
        {
          "name": "stdout",
          "output_type": "stream",
          "text": [
            "Ukuran Train abstract-Label: (14000, 4)\n",
            "Ukuran Test abstract-Label: (3000, 4)\n",
            "Ukuran Val abstract-Label: (3000, 4)\n"
          ]
        }
      ],
      "source": [
        "print(f\"Ukuran Train abstract-Label: {train_abstract_df.shape}\")\n",
        "print(f\"Ukuran Test abstract-Label: {test_abstract_df.shape}\")\n",
        "print(f\"Ukuran Val abstract-Label: {val_abstract_df.shape}\")"
      ]
    },
    {
      "cell_type": "code",
      "execution_count": null,
      "metadata": {
        "colab": {
          "base_uri": "https://localhost:8080/",
          "height": 597
        },
        "id": "aOkWHp-NJGw8",
        "outputId": "81808e17-6c47-49fe-95c4-5a1e5a8f5998"
      },
      "outputs": [
        {
          "data": {
            "application/vnd.google.colaboratory.intrinsic+json": {
              "summary": "{\n  \"name\": \"train_abstract_df\",\n  \"rows\": 14000,\n  \"fields\": [\n    {\n      \"column\": \"title\",\n      \"properties\": {\n        \"dtype\": \"string\",\n        \"num_unique_values\": 7000,\n        \"samples\": [\n          \"Decision-facilitating information in hidden-action setups: An agent-based approach\",\n          \"The best bounds of harmonic sequence\",\n          \"Observations and analysis of CH$^+$ vibrational emissions from the young, carbon-rich planetary nebula NGC 7027: a textbook example of chemical pumping\"\n        ],\n        \"semantic_type\": \"\",\n        \"description\": \"\"\n      }\n    },\n    {\n      \"column\": \"label\",\n      \"properties\": {\n        \"dtype\": \"number\",\n        \"std\": 0,\n        \"min\": 0,\n        \"max\": 1,\n        \"num_unique_values\": 2,\n        \"samples\": [\n          1,\n          0\n        ],\n        \"semantic_type\": \"\",\n        \"description\": \"\"\n      }\n    },\n    {\n      \"column\": \"text\",\n      \"properties\": {\n        \"dtype\": \"string\",\n        \"num_unique_values\": 14000,\n        \"samples\": [\n          \"[ABRIDGED] In this study, we set out to a) demonstrate the sensitivity to <4 R_E transiting planets with periods of a few days around our program stars, and b) improve our knowledge of some astrophysical properties(e.g., activity, rotation) of our targets by combining spectroscopic information and our differential photometric measurements. We achieve a typical nightly RMS photometric precision of ~5 mmag, with little or no dependence on the instrumentation used or on the details of the adopted methods for differential photometry. The presence of correlated (red) noise in our data degrades the precision by a factor ~1.3 with respect to a pure white noise regime. Based on a detailed stellar variability analysis, a) we detected no transit-like events; b) we determined photometric rotation periods of ~0.47 days and ~0.22 days for LHS 3445 and GJ 1167A, respectively; c) these values agree with the large projected rotational velocities (~25 km/s and ~33 km/s, respectively) inferred for both stars based on the analysis of archival spectra; d) the estimated inclinations of the stellar rotation axes for LHS 3445 and GJ 1167A are consistent with those derived using a simple spot model; e) short-term, low-amplitude flaring events were recorded for LHS 3445 and LHS 2686. Finally, based on simulations of transit signals of given period and amplitude injected in the actual (nightly reduced) photometric data for our sample, we derive a relationship between transit detection probability and phase coverage. We find that, using the BLS search algorithm, even when phase coverage approaches 100%, there is a limit to the detection probability of ~90%. Around program stars with phase coverage >50% we would have had >80% chances of detecting planets with P<1 day inducing fractional transit depths >0.5%, corresponding to minimum detectable radii in the range 1.0-2.2 R_E. [ABRIDGED]\",\n          \"This research paper investigates the physics of high-intensity high-energy particle beam propagation, focusing on the context of open air and outer-space plasma environments. The study explores the unique properties and mechanisms of these plasmas, as well as the challenges and opportunities they present for particle beam propagation.\\n\\nThe research team employs theoretical models, numerical simulations, and experimental measurements to analyze the behavior and evolution of particle beams in these plasma environments. The team investigates phenomena such as beam plasma instabilities, wave-particle interactions, and propagation effects, using advanced diagnostic tools and techniques.\\n\\nThe study reveals the important role of plasma physics in understanding and managing particle beam propagation in these environments. It also highlights the potential applications of high-energy particle beams in a variety of fields, such as space exploration, plasma processing, and particle physics research.\\n\\nBased on the results of the study, the research team proposes new methods and technologies for optimizing particle beam propagation in open air and outer-space plasma environments, and identifies key areas for future research and development. This research paper provides valuable insights and knowledge for scientists, engineers, and researchers involved in high-energy physics and plasma science.\"\n        ],\n        \"semantic_type\": \"\",\n        \"description\": \"\"\n      }\n    },\n    {\n      \"column\": \"word_count\",\n      \"properties\": {\n        \"dtype\": \"number\",\n        \"std\": 91,\n        \"min\": 27,\n        \"max\": 594,\n        \"num_unique_values\": 435,\n        \"samples\": [\n          383,\n          152\n        ],\n        \"semantic_type\": \"\",\n        \"description\": \"\"\n      }\n    }\n  ]\n}",
              "type": "dataframe",
              "variable_name": "train_abstract_df"
            },
            "text/html": [
              "\n",
              "  <div id=\"df-9380e128-3440-4fdb-9036-b8ededf17a4f\" class=\"colab-df-container\">\n",
              "    <div>\n",
              "<style scoped>\n",
              "    .dataframe tbody tr th:only-of-type {\n",
              "        vertical-align: middle;\n",
              "    }\n",
              "\n",
              "    .dataframe tbody tr th {\n",
              "        vertical-align: top;\n",
              "    }\n",
              "\n",
              "    .dataframe thead th {\n",
              "        text-align: right;\n",
              "    }\n",
              "</style>\n",
              "<table border=\"1\" class=\"dataframe\">\n",
              "  <thead>\n",
              "    <tr style=\"text-align: right;\">\n",
              "      <th></th>\n",
              "      <th>title</th>\n",
              "      <th>label</th>\n",
              "      <th>text</th>\n",
              "      <th>word_count</th>\n",
              "    </tr>\n",
              "  </thead>\n",
              "  <tbody>\n",
              "    <tr>\n",
              "      <th>0</th>\n",
              "      <td>Study of coupling loss on bi-columnar BSCCO/Ag...</td>\n",
              "      <td>0</td>\n",
              "      <td>Coupling losses were studied in composite tape...</td>\n",
              "      <td>280</td>\n",
              "    </tr>\n",
              "    <tr>\n",
              "      <th>1</th>\n",
              "      <td>Study of coupling loss on bi-columnar BSCCO/Ag...</td>\n",
              "      <td>1</td>\n",
              "      <td>In this study, we investigate the coupling los...</td>\n",
              "      <td>215</td>\n",
              "    </tr>\n",
              "    <tr>\n",
              "      <th>2</th>\n",
              "      <td>Weighted Solyanik estimates for the strong max...</td>\n",
              "      <td>0</td>\n",
              "      <td>Let $\\mathsf M_{\\mathsf S}$ denote the strong ...</td>\n",
              "      <td>332</td>\n",
              "    </tr>\n",
              "    <tr>\n",
              "      <th>3</th>\n",
              "      <td>Weighted Solyanik estimates for the strong max...</td>\n",
              "      <td>1</td>\n",
              "      <td>In this paper, we investigate Weighted Solyani...</td>\n",
              "      <td>225</td>\n",
              "    </tr>\n",
              "    <tr>\n",
              "      <th>4</th>\n",
              "      <td>SOFIA-EXES Observations of Betelgeuse during t...</td>\n",
              "      <td>0</td>\n",
              "      <td>In 2019 October Betelgeuse began a decline in ...</td>\n",
              "      <td>268</td>\n",
              "    </tr>\n",
              "    <tr>\n",
              "      <th>...</th>\n",
              "      <td>...</td>\n",
              "      <td>...</td>\n",
              "      <td>...</td>\n",
              "      <td>...</td>\n",
              "    </tr>\n",
              "    <tr>\n",
              "      <th>13995</th>\n",
              "      <td>Effects of bonding type and interface geometry...</td>\n",
              "      <td>1</td>\n",
              "      <td>The coherent transport of magnetic information...</td>\n",
              "      <td>286</td>\n",
              "    </tr>\n",
              "    <tr>\n",
              "      <th>13996</th>\n",
              "      <td>GOODS-Herschel: The far-infrared view of star ...</td>\n",
              "      <td>0</td>\n",
              "      <td>We present a study of the infrared properties ...</td>\n",
              "      <td>330</td>\n",
              "    </tr>\n",
              "    <tr>\n",
              "      <th>13997</th>\n",
              "      <td>GOODS-Herschel: The far-infrared view of star ...</td>\n",
              "      <td>1</td>\n",
              "      <td>This paper presents the results of a study of ...</td>\n",
              "      <td>339</td>\n",
              "    </tr>\n",
              "    <tr>\n",
              "      <th>13998</th>\n",
              "      <td>Single-qubit peration sharing with Bell and W ...</td>\n",
              "      <td>0</td>\n",
              "      <td>Two tripartite schemes are put forward with sh...</td>\n",
              "      <td>98</td>\n",
              "    </tr>\n",
              "    <tr>\n",
              "      <th>13999</th>\n",
              "      <td>Single-qubit peration sharing with Bell and W ...</td>\n",
              "      <td>1</td>\n",
              "      <td>In quantum computing, sharing single-qubit ope...</td>\n",
              "      <td>95</td>\n",
              "    </tr>\n",
              "  </tbody>\n",
              "</table>\n",
              "<p>14000 rows × 4 columns</p>\n",
              "</div>\n",
              "    <div class=\"colab-df-buttons\">\n",
              "\n",
              "  <div class=\"colab-df-container\">\n",
              "    <button class=\"colab-df-convert\" onclick=\"convertToInteractive('df-9380e128-3440-4fdb-9036-b8ededf17a4f')\"\n",
              "            title=\"Convert this dataframe to an interactive table.\"\n",
              "            style=\"display:none;\">\n",
              "\n",
              "  <svg xmlns=\"http://www.w3.org/2000/svg\" height=\"24px\" viewBox=\"0 -960 960 960\">\n",
              "    <path d=\"M120-120v-720h720v720H120Zm60-500h600v-160H180v160Zm220 220h160v-160H400v160Zm0 220h160v-160H400v160ZM180-400h160v-160H180v160Zm440 0h160v-160H620v160ZM180-180h160v-160H180v160Zm440 0h160v-160H620v160Z\"/>\n",
              "  </svg>\n",
              "    </button>\n",
              "\n",
              "  <style>\n",
              "    .colab-df-container {\n",
              "      display:flex;\n",
              "      gap: 12px;\n",
              "    }\n",
              "\n",
              "    .colab-df-convert {\n",
              "      background-color: #E8F0FE;\n",
              "      border: none;\n",
              "      border-radius: 50%;\n",
              "      cursor: pointer;\n",
              "      display: none;\n",
              "      fill: #1967D2;\n",
              "      height: 32px;\n",
              "      padding: 0 0 0 0;\n",
              "      width: 32px;\n",
              "    }\n",
              "\n",
              "    .colab-df-convert:hover {\n",
              "      background-color: #E2EBFA;\n",
              "      box-shadow: 0px 1px 2px rgba(60, 64, 67, 0.3), 0px 1px 3px 1px rgba(60, 64, 67, 0.15);\n",
              "      fill: #174EA6;\n",
              "    }\n",
              "\n",
              "    .colab-df-buttons div {\n",
              "      margin-bottom: 4px;\n",
              "    }\n",
              "\n",
              "    [theme=dark] .colab-df-convert {\n",
              "      background-color: #3B4455;\n",
              "      fill: #D2E3FC;\n",
              "    }\n",
              "\n",
              "    [theme=dark] .colab-df-convert:hover {\n",
              "      background-color: #434B5C;\n",
              "      box-shadow: 0px 1px 3px 1px rgba(0, 0, 0, 0.15);\n",
              "      filter: drop-shadow(0px 1px 2px rgba(0, 0, 0, 0.3));\n",
              "      fill: #FFFFFF;\n",
              "    }\n",
              "  </style>\n",
              "\n",
              "    <script>\n",
              "      const buttonEl =\n",
              "        document.querySelector('#df-9380e128-3440-4fdb-9036-b8ededf17a4f button.colab-df-convert');\n",
              "      buttonEl.style.display =\n",
              "        google.colab.kernel.accessAllowed ? 'block' : 'none';\n",
              "\n",
              "      async function convertToInteractive(key) {\n",
              "        const element = document.querySelector('#df-9380e128-3440-4fdb-9036-b8ededf17a4f');\n",
              "        const dataTable =\n",
              "          await google.colab.kernel.invokeFunction('convertToInteractive',\n",
              "                                                    [key], {});\n",
              "        if (!dataTable) return;\n",
              "\n",
              "        const docLinkHtml = 'Like what you see? Visit the ' +\n",
              "          '<a target=\"_blank\" href=https://colab.research.google.com/notebooks/data_table.ipynb>data table notebook</a>'\n",
              "          + ' to learn more about interactive tables.';\n",
              "        element.innerHTML = '';\n",
              "        dataTable['output_type'] = 'display_data';\n",
              "        await google.colab.output.renderOutput(dataTable, element);\n",
              "        const docLink = document.createElement('div');\n",
              "        docLink.innerHTML = docLinkHtml;\n",
              "        element.appendChild(docLink);\n",
              "      }\n",
              "    </script>\n",
              "  </div>\n",
              "\n",
              "\n",
              "<div id=\"df-c577b684-1c4b-4e3d-a96c-6e0262d64fde\">\n",
              "  <button class=\"colab-df-quickchart\" onclick=\"quickchart('df-c577b684-1c4b-4e3d-a96c-6e0262d64fde')\"\n",
              "            title=\"Suggest charts\"\n",
              "            style=\"display:none;\">\n",
              "\n",
              "<svg xmlns=\"http://www.w3.org/2000/svg\" height=\"24px\"viewBox=\"0 0 24 24\"\n",
              "     width=\"24px\">\n",
              "    <g>\n",
              "        <path d=\"M19 3H5c-1.1 0-2 .9-2 2v14c0 1.1.9 2 2 2h14c1.1 0 2-.9 2-2V5c0-1.1-.9-2-2-2zM9 17H7v-7h2v7zm4 0h-2V7h2v10zm4 0h-2v-4h2v4z\"/>\n",
              "    </g>\n",
              "</svg>\n",
              "  </button>\n",
              "\n",
              "<style>\n",
              "  .colab-df-quickchart {\n",
              "      --bg-color: #E8F0FE;\n",
              "      --fill-color: #1967D2;\n",
              "      --hover-bg-color: #E2EBFA;\n",
              "      --hover-fill-color: #174EA6;\n",
              "      --disabled-fill-color: #AAA;\n",
              "      --disabled-bg-color: #DDD;\n",
              "  }\n",
              "\n",
              "  [theme=dark] .colab-df-quickchart {\n",
              "      --bg-color: #3B4455;\n",
              "      --fill-color: #D2E3FC;\n",
              "      --hover-bg-color: #434B5C;\n",
              "      --hover-fill-color: #FFFFFF;\n",
              "      --disabled-bg-color: #3B4455;\n",
              "      --disabled-fill-color: #666;\n",
              "  }\n",
              "\n",
              "  .colab-df-quickchart {\n",
              "    background-color: var(--bg-color);\n",
              "    border: none;\n",
              "    border-radius: 50%;\n",
              "    cursor: pointer;\n",
              "    display: none;\n",
              "    fill: var(--fill-color);\n",
              "    height: 32px;\n",
              "    padding: 0;\n",
              "    width: 32px;\n",
              "  }\n",
              "\n",
              "  .colab-df-quickchart:hover {\n",
              "    background-color: var(--hover-bg-color);\n",
              "    box-shadow: 0 1px 2px rgba(60, 64, 67, 0.3), 0 1px 3px 1px rgba(60, 64, 67, 0.15);\n",
              "    fill: var(--button-hover-fill-color);\n",
              "  }\n",
              "\n",
              "  .colab-df-quickchart-complete:disabled,\n",
              "  .colab-df-quickchart-complete:disabled:hover {\n",
              "    background-color: var(--disabled-bg-color);\n",
              "    fill: var(--disabled-fill-color);\n",
              "    box-shadow: none;\n",
              "  }\n",
              "\n",
              "  .colab-df-spinner {\n",
              "    border: 2px solid var(--fill-color);\n",
              "    border-color: transparent;\n",
              "    border-bottom-color: var(--fill-color);\n",
              "    animation:\n",
              "      spin 1s steps(1) infinite;\n",
              "  }\n",
              "\n",
              "  @keyframes spin {\n",
              "    0% {\n",
              "      border-color: transparent;\n",
              "      border-bottom-color: var(--fill-color);\n",
              "      border-left-color: var(--fill-color);\n",
              "    }\n",
              "    20% {\n",
              "      border-color: transparent;\n",
              "      border-left-color: var(--fill-color);\n",
              "      border-top-color: var(--fill-color);\n",
              "    }\n",
              "    30% {\n",
              "      border-color: transparent;\n",
              "      border-left-color: var(--fill-color);\n",
              "      border-top-color: var(--fill-color);\n",
              "      border-right-color: var(--fill-color);\n",
              "    }\n",
              "    40% {\n",
              "      border-color: transparent;\n",
              "      border-right-color: var(--fill-color);\n",
              "      border-top-color: var(--fill-color);\n",
              "    }\n",
              "    60% {\n",
              "      border-color: transparent;\n",
              "      border-right-color: var(--fill-color);\n",
              "    }\n",
              "    80% {\n",
              "      border-color: transparent;\n",
              "      border-right-color: var(--fill-color);\n",
              "      border-bottom-color: var(--fill-color);\n",
              "    }\n",
              "    90% {\n",
              "      border-color: transparent;\n",
              "      border-bottom-color: var(--fill-color);\n",
              "    }\n",
              "  }\n",
              "</style>\n",
              "\n",
              "  <script>\n",
              "    async function quickchart(key) {\n",
              "      const quickchartButtonEl =\n",
              "        document.querySelector('#' + key + ' button');\n",
              "      quickchartButtonEl.disabled = true;  // To prevent multiple clicks.\n",
              "      quickchartButtonEl.classList.add('colab-df-spinner');\n",
              "      try {\n",
              "        const charts = await google.colab.kernel.invokeFunction(\n",
              "            'suggestCharts', [key], {});\n",
              "      } catch (error) {\n",
              "        console.error('Error during call to suggestCharts:', error);\n",
              "      }\n",
              "      quickchartButtonEl.classList.remove('colab-df-spinner');\n",
              "      quickchartButtonEl.classList.add('colab-df-quickchart-complete');\n",
              "    }\n",
              "    (() => {\n",
              "      let quickchartButtonEl =\n",
              "        document.querySelector('#df-c577b684-1c4b-4e3d-a96c-6e0262d64fde button');\n",
              "      quickchartButtonEl.style.display =\n",
              "        google.colab.kernel.accessAllowed ? 'block' : 'none';\n",
              "    })();\n",
              "  </script>\n",
              "</div>\n",
              "\n",
              "  <div id=\"id_69eb7446-ad7c-4b3e-8435-fbea8c3a433c\">\n",
              "    <style>\n",
              "      .colab-df-generate {\n",
              "        background-color: #E8F0FE;\n",
              "        border: none;\n",
              "        border-radius: 50%;\n",
              "        cursor: pointer;\n",
              "        display: none;\n",
              "        fill: #1967D2;\n",
              "        height: 32px;\n",
              "        padding: 0 0 0 0;\n",
              "        width: 32px;\n",
              "      }\n",
              "\n",
              "      .colab-df-generate:hover {\n",
              "        background-color: #E2EBFA;\n",
              "        box-shadow: 0px 1px 2px rgba(60, 64, 67, 0.3), 0px 1px 3px 1px rgba(60, 64, 67, 0.15);\n",
              "        fill: #174EA6;\n",
              "      }\n",
              "\n",
              "      [theme=dark] .colab-df-generate {\n",
              "        background-color: #3B4455;\n",
              "        fill: #D2E3FC;\n",
              "      }\n",
              "\n",
              "      [theme=dark] .colab-df-generate:hover {\n",
              "        background-color: #434B5C;\n",
              "        box-shadow: 0px 1px 3px 1px rgba(0, 0, 0, 0.15);\n",
              "        filter: drop-shadow(0px 1px 2px rgba(0, 0, 0, 0.3));\n",
              "        fill: #FFFFFF;\n",
              "      }\n",
              "    </style>\n",
              "    <button class=\"colab-df-generate\" onclick=\"generateWithVariable('train_abstract_df')\"\n",
              "            title=\"Generate code using this dataframe.\"\n",
              "            style=\"display:none;\">\n",
              "\n",
              "  <svg xmlns=\"http://www.w3.org/2000/svg\" height=\"24px\"viewBox=\"0 0 24 24\"\n",
              "       width=\"24px\">\n",
              "    <path d=\"M7,19H8.4L18.45,9,17,7.55,7,17.6ZM5,21V16.75L18.45,3.32a2,2,0,0,1,2.83,0l1.4,1.43a1.91,1.91,0,0,1,.58,1.4,1.91,1.91,0,0,1-.58,1.4L9.25,21ZM18.45,9,17,7.55Zm-12,3A5.31,5.31,0,0,0,4.9,8.1,5.31,5.31,0,0,0,1,6.5,5.31,5.31,0,0,0,4.9,4.9,5.31,5.31,0,0,0,6.5,1,5.31,5.31,0,0,0,8.1,4.9,5.31,5.31,0,0,0,12,6.5,5.46,5.46,0,0,0,6.5,12Z\"/>\n",
              "  </svg>\n",
              "    </button>\n",
              "    <script>\n",
              "      (() => {\n",
              "      const buttonEl =\n",
              "        document.querySelector('#id_69eb7446-ad7c-4b3e-8435-fbea8c3a433c button.colab-df-generate');\n",
              "      buttonEl.style.display =\n",
              "        google.colab.kernel.accessAllowed ? 'block' : 'none';\n",
              "\n",
              "      buttonEl.onclick = () => {\n",
              "        google.colab.notebook.generateWithVariable('train_abstract_df');\n",
              "      }\n",
              "      })();\n",
              "    </script>\n",
              "  </div>\n",
              "\n",
              "    </div>\n",
              "  </div>\n"
            ],
            "text/plain": [
              "                                                   title  label  \\\n",
              "0      Study of coupling loss on bi-columnar BSCCO/Ag...      0   \n",
              "1      Study of coupling loss on bi-columnar BSCCO/Ag...      1   \n",
              "2      Weighted Solyanik estimates for the strong max...      0   \n",
              "3      Weighted Solyanik estimates for the strong max...      1   \n",
              "4      SOFIA-EXES Observations of Betelgeuse during t...      0   \n",
              "...                                                  ...    ...   \n",
              "13995  Effects of bonding type and interface geometry...      1   \n",
              "13996  GOODS-Herschel: The far-infrared view of star ...      0   \n",
              "13997  GOODS-Herschel: The far-infrared view of star ...      1   \n",
              "13998  Single-qubit peration sharing with Bell and W ...      0   \n",
              "13999  Single-qubit peration sharing with Bell and W ...      1   \n",
              "\n",
              "                                                    text  word_count  \n",
              "0      Coupling losses were studied in composite tape...         280  \n",
              "1      In this study, we investigate the coupling los...         215  \n",
              "2      Let $\\mathsf M_{\\mathsf S}$ denote the strong ...         332  \n",
              "3      In this paper, we investigate Weighted Solyani...         225  \n",
              "4      In 2019 October Betelgeuse began a decline in ...         268  \n",
              "...                                                  ...         ...  \n",
              "13995  The coherent transport of magnetic information...         286  \n",
              "13996  We present a study of the infrared properties ...         330  \n",
              "13997  This paper presents the results of a study of ...         339  \n",
              "13998  Two tripartite schemes are put forward with sh...          98  \n",
              "13999  In quantum computing, sharing single-qubit ope...          95  \n",
              "\n",
              "[14000 rows x 4 columns]"
            ]
          },
          "execution_count": 19,
          "metadata": {},
          "output_type": "execute_result"
        }
      ],
      "source": [
        "train_abstract_df"
      ]
    },
    {
      "cell_type": "markdown",
      "metadata": {
        "id": "p9Y_GYa9UC4e"
      },
      "source": [
        "## Datasets Gabungan"
      ]
    },
    {
      "cell_type": "markdown",
      "metadata": {
        "id": "UHgd5yaeXKhv"
      },
      "source": [
        "### Datasets Gabungan Balance"
      ]
    },
    {
      "cell_type": "code",
      "execution_count": null,
      "metadata": {
        "id": "BgGVbIN1Ucl8"
      },
      "outputs": [],
      "source": [
        "train_balMerg_df = pd.concat([train_wiki_df.iloc[:14000], train_abstract_df]).reset_index(drop=True)\n",
        "val_balMerg_df = pd.concat([val_wiki_df.iloc[:3000], val_abstract_df]).reset_index(drop=True)\n",
        "test_balMerg_df = pd.concat([test_wiki_df.iloc[:3000], test_abstract_df]).reset_index(drop=True)"
      ]
    },
    {
      "cell_type": "code",
      "execution_count": null,
      "metadata": {
        "colab": {
          "base_uri": "https://localhost:8080/"
        },
        "id": "4JGuAaMCWRMQ",
        "outputId": "8746cdd7-6297-440d-98e0-cefb8470996f"
      },
      "outputs": [
        {
          "name": "stdout",
          "output_type": "stream",
          "text": [
            "Ukuran Train abstract-Label: (28000, 4)\n",
            "Ukuran Test abstract-Label: (6000, 4)\n",
            "Ukuran Val abstract-Label: (6000, 4)\n"
          ]
        }
      ],
      "source": [
        "print(f\"Ukuran Train abstract-Label: {train_balMerg_df.shape}\")\n",
        "print(f\"Ukuran Test abstract-Label: {val_balMerg_df.shape}\")\n",
        "print(f\"Ukuran Val abstract-Label: {test_balMerg_df.shape}\")"
      ]
    },
    {
      "cell_type": "code",
      "execution_count": null,
      "metadata": {
        "colab": {
          "base_uri": "https://localhost:8080/",
          "height": 597
        },
        "id": "WZfmkv25U7me",
        "outputId": "4fb818b8-6b6f-4c2c-9d0a-ba4aef49c187"
      },
      "outputs": [
        {
          "data": {
            "application/vnd.google.colaboratory.intrinsic+json": {
              "summary": "{\n  \"name\": \"train_balMerg_df\",\n  \"rows\": 28000,\n  \"fields\": [\n    {\n      \"column\": \"title\",\n      \"properties\": {\n        \"dtype\": \"string\",\n        \"num_unique_values\": 14000,\n        \"samples\": [\n          \"South Eastern Times\",\n          \"Neighbourhood effect\",\n          \"Separation Axioms in Bi-soft Topological Spaces\"\n        ],\n        \"semantic_type\": \"\",\n        \"description\": \"\"\n      }\n    },\n    {\n      \"column\": \"label\",\n      \"properties\": {\n        \"dtype\": \"number\",\n        \"std\": 0,\n        \"min\": 0,\n        \"max\": 1,\n        \"num_unique_values\": 2,\n        \"samples\": [\n          1,\n          0\n        ],\n        \"semantic_type\": \"\",\n        \"description\": \"\"\n      }\n    },\n    {\n      \"column\": \"text\",\n      \"properties\": {\n        \"dtype\": \"string\",\n        \"num_unique_values\": 28000,\n        \"samples\": [\n          \"We use N-body simulations to revisit the globular cluster (GC) ``timing problem'' in the Fornax dwarf spheroidal (dSph). In agreement with earlier work, we find that, due to dynamical friction, GCs sink to the center of dark matter halos with a cuspy inner density profile but ``stall'' at roughly 1/3 of the core radius ($r_{\\\\rm core}$) in halos with constant-density cores. The timescales to sink or stall depend strongly on the mass of the GC and on the initial orbital radius, but are essentially the same for either cuspy (NFW) or cored halos normalized to have the same total mass within $r_{\\\\rm core}$.\\n\\nArguing against a cusp on the basis that GCs have not sunk to the center is thus no different from arguing against a core, unless all clusters are today at $\\\\sim (1/3)\\\\, r_{\\\\rm core}$. This would imply a core radius exceeding $\\\\sim 3$ kpc, much larger than seems plausible in any core-formation scenario. (The average projected distance of Fornax GCs is $\\\\langle R_{\\\\rm GC,Fnx}\\\\rangle\\\\sim 1$ kpc and its effective radius is $\\\\sim 700$ pc.) A simpler explanation is that Fornax GCs have only been modestly affected by dynamical friction, as expected if clusters started orbiting at initial radii of order $\\\\sim 1$-$2$ kpc, just outside Fornax's present-day half-light radius but well within the tidal radius imprinted by Galactic tides. This is not entirely unexpected.\\n\\nFornax GCs are significantly older and more metal-poor than most Fornax stars, and such populations in dSphs tend to be more spatially extended than their younger and more metal-rich counterparts. Contrary to some earlier claims, our simulations further suggest that GCs do not truly ``stall'' at $\\\\sim 0.3\\\\, r_{\\\\rm core}$, but rather continue decaying toward the center, albeit at reduced rates. We conclude that dismissing the presence of a cusp in Fornax based on the spatial distribution of its GC population is unwarranted.\",\n          \"Awesome Color was a musical trio formed in Brooklyn in 2004. They disbanded in 2010. History\\nThe band was formed by Michigan natives Michael Troutman (aka Michael Awesome), Allison Busch (aka Allison Awesome), and Derek Stanton (aka Derek Awesome) in Brooklyn, New York, in 2004. Inspired by Detroit garage rock, they came to the attention of Thurston Moore, who signed the band to his Ecstatic Peace label. \\nThey released a self-titled debut album in 2006, which was followed by a second album, Electric Aborigines in 2008, both released by Ecstatic Peace. (Vinyl editions for both albums were released by American Dust.) The first album drew comparisons with the Stooges (with Stylus Magazine going as far as saying \\\"there are times when you could play Fun House and this album back-to-back and not be able to tell the difference between the two\\\") as did Electric Aborigines, although this album expanded the band's sound and drew comparisons with The Scientists and Spacemen 3. The band were described by Rolling Stone as sounding like \\\"a grimier version of Sonic Youth\\\". In 2007, the song \\u00a8Hat Energy\\u00a8 from the album Awesome Color appeared in the film I Know Who Killed Me, starring Lindsay Lohan. After the second album, the band toured the world in support of Sonic Youth and Dinosaur Jr. during 2008.  They recorded and released Massa Hypnos on April 6, 2010.  They toured to promote it with Tyvek and Hair Police.  \"\n        ],\n        \"semantic_type\": \"\",\n        \"description\": \"\"\n      }\n    },\n    {\n      \"column\": \"word_count\",\n      \"properties\": {\n        \"dtype\": \"number\",\n        \"std\": 79,\n        \"min\": 8,\n        \"max\": 594,\n        \"num_unique_values\": 458,\n        \"samples\": [\n          285,\n          244\n        ],\n        \"semantic_type\": \"\",\n        \"description\": \"\"\n      }\n    }\n  ]\n}",
              "type": "dataframe",
              "variable_name": "train_balMerg_df"
            },
            "text/html": [
              "\n",
              "  <div id=\"df-46aeadab-6a6c-47f8-b412-722b72ea2f31\" class=\"colab-df-container\">\n",
              "    <div>\n",
              "<style scoped>\n",
              "    .dataframe tbody tr th:only-of-type {\n",
              "        vertical-align: middle;\n",
              "    }\n",
              "\n",
              "    .dataframe tbody tr th {\n",
              "        vertical-align: top;\n",
              "    }\n",
              "\n",
              "    .dataframe thead th {\n",
              "        text-align: right;\n",
              "    }\n",
              "</style>\n",
              "<table border=\"1\" class=\"dataframe\">\n",
              "  <thead>\n",
              "    <tr style=\"text-align: right;\">\n",
              "      <th></th>\n",
              "      <th>title</th>\n",
              "      <th>label</th>\n",
              "      <th>text</th>\n",
              "      <th>word_count</th>\n",
              "    </tr>\n",
              "  </thead>\n",
              "  <tbody>\n",
              "    <tr>\n",
              "      <th>0</th>\n",
              "      <td>James Scobie</td>\n",
              "      <td>0</td>\n",
              "      <td>James Scobie (29 November 1826 – 7 October 185...</td>\n",
              "      <td>175</td>\n",
              "    </tr>\n",
              "    <tr>\n",
              "      <th>1</th>\n",
              "      <td>James Scobie</td>\n",
              "      <td>1</td>\n",
              "      <td>James Scobie (29 November 1826 – 7 October 189...</td>\n",
              "      <td>242</td>\n",
              "    </tr>\n",
              "    <tr>\n",
              "      <th>2</th>\n",
              "      <td>Dagliç sheep</td>\n",
              "      <td>0</td>\n",
              "      <td>The Dagliç is a breed of sheep found primarily...</td>\n",
              "      <td>152</td>\n",
              "    </tr>\n",
              "    <tr>\n",
              "      <th>3</th>\n",
              "      <td>Dagliç sheep</td>\n",
              "      <td>1</td>\n",
              "      <td>The Dagliç is a breed of sheep that is found i...</td>\n",
              "      <td>33</td>\n",
              "    </tr>\n",
              "    <tr>\n",
              "      <th>4</th>\n",
              "      <td>Hamdard India</td>\n",
              "      <td>0</td>\n",
              "      <td>Hamdard Laboratories (India), is a Unani pharm...</td>\n",
              "      <td>160</td>\n",
              "    </tr>\n",
              "    <tr>\n",
              "      <th>...</th>\n",
              "      <td>...</td>\n",
              "      <td>...</td>\n",
              "      <td>...</td>\n",
              "      <td>...</td>\n",
              "    </tr>\n",
              "    <tr>\n",
              "      <th>27995</th>\n",
              "      <td>Effects of bonding type and interface geometry...</td>\n",
              "      <td>1</td>\n",
              "      <td>The coherent transport of magnetic information...</td>\n",
              "      <td>286</td>\n",
              "    </tr>\n",
              "    <tr>\n",
              "      <th>27996</th>\n",
              "      <td>GOODS-Herschel: The far-infrared view of star ...</td>\n",
              "      <td>0</td>\n",
              "      <td>We present a study of the infrared properties ...</td>\n",
              "      <td>330</td>\n",
              "    </tr>\n",
              "    <tr>\n",
              "      <th>27997</th>\n",
              "      <td>GOODS-Herschel: The far-infrared view of star ...</td>\n",
              "      <td>1</td>\n",
              "      <td>This paper presents the results of a study of ...</td>\n",
              "      <td>339</td>\n",
              "    </tr>\n",
              "    <tr>\n",
              "      <th>27998</th>\n",
              "      <td>Single-qubit peration sharing with Bell and W ...</td>\n",
              "      <td>0</td>\n",
              "      <td>Two tripartite schemes are put forward with sh...</td>\n",
              "      <td>98</td>\n",
              "    </tr>\n",
              "    <tr>\n",
              "      <th>27999</th>\n",
              "      <td>Single-qubit peration sharing with Bell and W ...</td>\n",
              "      <td>1</td>\n",
              "      <td>In quantum computing, sharing single-qubit ope...</td>\n",
              "      <td>95</td>\n",
              "    </tr>\n",
              "  </tbody>\n",
              "</table>\n",
              "<p>28000 rows × 4 columns</p>\n",
              "</div>\n",
              "    <div class=\"colab-df-buttons\">\n",
              "\n",
              "  <div class=\"colab-df-container\">\n",
              "    <button class=\"colab-df-convert\" onclick=\"convertToInteractive('df-46aeadab-6a6c-47f8-b412-722b72ea2f31')\"\n",
              "            title=\"Convert this dataframe to an interactive table.\"\n",
              "            style=\"display:none;\">\n",
              "\n",
              "  <svg xmlns=\"http://www.w3.org/2000/svg\" height=\"24px\" viewBox=\"0 -960 960 960\">\n",
              "    <path d=\"M120-120v-720h720v720H120Zm60-500h600v-160H180v160Zm220 220h160v-160H400v160Zm0 220h160v-160H400v160ZM180-400h160v-160H180v160Zm440 0h160v-160H620v160ZM180-180h160v-160H180v160Zm440 0h160v-160H620v160Z\"/>\n",
              "  </svg>\n",
              "    </button>\n",
              "\n",
              "  <style>\n",
              "    .colab-df-container {\n",
              "      display:flex;\n",
              "      gap: 12px;\n",
              "    }\n",
              "\n",
              "    .colab-df-convert {\n",
              "      background-color: #E8F0FE;\n",
              "      border: none;\n",
              "      border-radius: 50%;\n",
              "      cursor: pointer;\n",
              "      display: none;\n",
              "      fill: #1967D2;\n",
              "      height: 32px;\n",
              "      padding: 0 0 0 0;\n",
              "      width: 32px;\n",
              "    }\n",
              "\n",
              "    .colab-df-convert:hover {\n",
              "      background-color: #E2EBFA;\n",
              "      box-shadow: 0px 1px 2px rgba(60, 64, 67, 0.3), 0px 1px 3px 1px rgba(60, 64, 67, 0.15);\n",
              "      fill: #174EA6;\n",
              "    }\n",
              "\n",
              "    .colab-df-buttons div {\n",
              "      margin-bottom: 4px;\n",
              "    }\n",
              "\n",
              "    [theme=dark] .colab-df-convert {\n",
              "      background-color: #3B4455;\n",
              "      fill: #D2E3FC;\n",
              "    }\n",
              "\n",
              "    [theme=dark] .colab-df-convert:hover {\n",
              "      background-color: #434B5C;\n",
              "      box-shadow: 0px 1px 3px 1px rgba(0, 0, 0, 0.15);\n",
              "      filter: drop-shadow(0px 1px 2px rgba(0, 0, 0, 0.3));\n",
              "      fill: #FFFFFF;\n",
              "    }\n",
              "  </style>\n",
              "\n",
              "    <script>\n",
              "      const buttonEl =\n",
              "        document.querySelector('#df-46aeadab-6a6c-47f8-b412-722b72ea2f31 button.colab-df-convert');\n",
              "      buttonEl.style.display =\n",
              "        google.colab.kernel.accessAllowed ? 'block' : 'none';\n",
              "\n",
              "      async function convertToInteractive(key) {\n",
              "        const element = document.querySelector('#df-46aeadab-6a6c-47f8-b412-722b72ea2f31');\n",
              "        const dataTable =\n",
              "          await google.colab.kernel.invokeFunction('convertToInteractive',\n",
              "                                                    [key], {});\n",
              "        if (!dataTable) return;\n",
              "\n",
              "        const docLinkHtml = 'Like what you see? Visit the ' +\n",
              "          '<a target=\"_blank\" href=https://colab.research.google.com/notebooks/data_table.ipynb>data table notebook</a>'\n",
              "          + ' to learn more about interactive tables.';\n",
              "        element.innerHTML = '';\n",
              "        dataTable['output_type'] = 'display_data';\n",
              "        await google.colab.output.renderOutput(dataTable, element);\n",
              "        const docLink = document.createElement('div');\n",
              "        docLink.innerHTML = docLinkHtml;\n",
              "        element.appendChild(docLink);\n",
              "      }\n",
              "    </script>\n",
              "  </div>\n",
              "\n",
              "\n",
              "<div id=\"df-124440ba-adeb-45d7-b1e8-ec7350a5c6cf\">\n",
              "  <button class=\"colab-df-quickchart\" onclick=\"quickchart('df-124440ba-adeb-45d7-b1e8-ec7350a5c6cf')\"\n",
              "            title=\"Suggest charts\"\n",
              "            style=\"display:none;\">\n",
              "\n",
              "<svg xmlns=\"http://www.w3.org/2000/svg\" height=\"24px\"viewBox=\"0 0 24 24\"\n",
              "     width=\"24px\">\n",
              "    <g>\n",
              "        <path d=\"M19 3H5c-1.1 0-2 .9-2 2v14c0 1.1.9 2 2 2h14c1.1 0 2-.9 2-2V5c0-1.1-.9-2-2-2zM9 17H7v-7h2v7zm4 0h-2V7h2v10zm4 0h-2v-4h2v4z\"/>\n",
              "    </g>\n",
              "</svg>\n",
              "  </button>\n",
              "\n",
              "<style>\n",
              "  .colab-df-quickchart {\n",
              "      --bg-color: #E8F0FE;\n",
              "      --fill-color: #1967D2;\n",
              "      --hover-bg-color: #E2EBFA;\n",
              "      --hover-fill-color: #174EA6;\n",
              "      --disabled-fill-color: #AAA;\n",
              "      --disabled-bg-color: #DDD;\n",
              "  }\n",
              "\n",
              "  [theme=dark] .colab-df-quickchart {\n",
              "      --bg-color: #3B4455;\n",
              "      --fill-color: #D2E3FC;\n",
              "      --hover-bg-color: #434B5C;\n",
              "      --hover-fill-color: #FFFFFF;\n",
              "      --disabled-bg-color: #3B4455;\n",
              "      --disabled-fill-color: #666;\n",
              "  }\n",
              "\n",
              "  .colab-df-quickchart {\n",
              "    background-color: var(--bg-color);\n",
              "    border: none;\n",
              "    border-radius: 50%;\n",
              "    cursor: pointer;\n",
              "    display: none;\n",
              "    fill: var(--fill-color);\n",
              "    height: 32px;\n",
              "    padding: 0;\n",
              "    width: 32px;\n",
              "  }\n",
              "\n",
              "  .colab-df-quickchart:hover {\n",
              "    background-color: var(--hover-bg-color);\n",
              "    box-shadow: 0 1px 2px rgba(60, 64, 67, 0.3), 0 1px 3px 1px rgba(60, 64, 67, 0.15);\n",
              "    fill: var(--button-hover-fill-color);\n",
              "  }\n",
              "\n",
              "  .colab-df-quickchart-complete:disabled,\n",
              "  .colab-df-quickchart-complete:disabled:hover {\n",
              "    background-color: var(--disabled-bg-color);\n",
              "    fill: var(--disabled-fill-color);\n",
              "    box-shadow: none;\n",
              "  }\n",
              "\n",
              "  .colab-df-spinner {\n",
              "    border: 2px solid var(--fill-color);\n",
              "    border-color: transparent;\n",
              "    border-bottom-color: var(--fill-color);\n",
              "    animation:\n",
              "      spin 1s steps(1) infinite;\n",
              "  }\n",
              "\n",
              "  @keyframes spin {\n",
              "    0% {\n",
              "      border-color: transparent;\n",
              "      border-bottom-color: var(--fill-color);\n",
              "      border-left-color: var(--fill-color);\n",
              "    }\n",
              "    20% {\n",
              "      border-color: transparent;\n",
              "      border-left-color: var(--fill-color);\n",
              "      border-top-color: var(--fill-color);\n",
              "    }\n",
              "    30% {\n",
              "      border-color: transparent;\n",
              "      border-left-color: var(--fill-color);\n",
              "      border-top-color: var(--fill-color);\n",
              "      border-right-color: var(--fill-color);\n",
              "    }\n",
              "    40% {\n",
              "      border-color: transparent;\n",
              "      border-right-color: var(--fill-color);\n",
              "      border-top-color: var(--fill-color);\n",
              "    }\n",
              "    60% {\n",
              "      border-color: transparent;\n",
              "      border-right-color: var(--fill-color);\n",
              "    }\n",
              "    80% {\n",
              "      border-color: transparent;\n",
              "      border-right-color: var(--fill-color);\n",
              "      border-bottom-color: var(--fill-color);\n",
              "    }\n",
              "    90% {\n",
              "      border-color: transparent;\n",
              "      border-bottom-color: var(--fill-color);\n",
              "    }\n",
              "  }\n",
              "</style>\n",
              "\n",
              "  <script>\n",
              "    async function quickchart(key) {\n",
              "      const quickchartButtonEl =\n",
              "        document.querySelector('#' + key + ' button');\n",
              "      quickchartButtonEl.disabled = true;  // To prevent multiple clicks.\n",
              "      quickchartButtonEl.classList.add('colab-df-spinner');\n",
              "      try {\n",
              "        const charts = await google.colab.kernel.invokeFunction(\n",
              "            'suggestCharts', [key], {});\n",
              "      } catch (error) {\n",
              "        console.error('Error during call to suggestCharts:', error);\n",
              "      }\n",
              "      quickchartButtonEl.classList.remove('colab-df-spinner');\n",
              "      quickchartButtonEl.classList.add('colab-df-quickchart-complete');\n",
              "    }\n",
              "    (() => {\n",
              "      let quickchartButtonEl =\n",
              "        document.querySelector('#df-124440ba-adeb-45d7-b1e8-ec7350a5c6cf button');\n",
              "      quickchartButtonEl.style.display =\n",
              "        google.colab.kernel.accessAllowed ? 'block' : 'none';\n",
              "    })();\n",
              "  </script>\n",
              "</div>\n",
              "\n",
              "  <div id=\"id_74f73be5-1003-402b-b795-a6261fc94a27\">\n",
              "    <style>\n",
              "      .colab-df-generate {\n",
              "        background-color: #E8F0FE;\n",
              "        border: none;\n",
              "        border-radius: 50%;\n",
              "        cursor: pointer;\n",
              "        display: none;\n",
              "        fill: #1967D2;\n",
              "        height: 32px;\n",
              "        padding: 0 0 0 0;\n",
              "        width: 32px;\n",
              "      }\n",
              "\n",
              "      .colab-df-generate:hover {\n",
              "        background-color: #E2EBFA;\n",
              "        box-shadow: 0px 1px 2px rgba(60, 64, 67, 0.3), 0px 1px 3px 1px rgba(60, 64, 67, 0.15);\n",
              "        fill: #174EA6;\n",
              "      }\n",
              "\n",
              "      [theme=dark] .colab-df-generate {\n",
              "        background-color: #3B4455;\n",
              "        fill: #D2E3FC;\n",
              "      }\n",
              "\n",
              "      [theme=dark] .colab-df-generate:hover {\n",
              "        background-color: #434B5C;\n",
              "        box-shadow: 0px 1px 3px 1px rgba(0, 0, 0, 0.15);\n",
              "        filter: drop-shadow(0px 1px 2px rgba(0, 0, 0, 0.3));\n",
              "        fill: #FFFFFF;\n",
              "      }\n",
              "    </style>\n",
              "    <button class=\"colab-df-generate\" onclick=\"generateWithVariable('train_balMerg_df')\"\n",
              "            title=\"Generate code using this dataframe.\"\n",
              "            style=\"display:none;\">\n",
              "\n",
              "  <svg xmlns=\"http://www.w3.org/2000/svg\" height=\"24px\"viewBox=\"0 0 24 24\"\n",
              "       width=\"24px\">\n",
              "    <path d=\"M7,19H8.4L18.45,9,17,7.55,7,17.6ZM5,21V16.75L18.45,3.32a2,2,0,0,1,2.83,0l1.4,1.43a1.91,1.91,0,0,1,.58,1.4,1.91,1.91,0,0,1-.58,1.4L9.25,21ZM18.45,9,17,7.55Zm-12,3A5.31,5.31,0,0,0,4.9,8.1,5.31,5.31,0,0,0,1,6.5,5.31,5.31,0,0,0,4.9,4.9,5.31,5.31,0,0,0,6.5,1,5.31,5.31,0,0,0,8.1,4.9,5.31,5.31,0,0,0,12,6.5,5.46,5.46,0,0,0,6.5,12Z\"/>\n",
              "  </svg>\n",
              "    </button>\n",
              "    <script>\n",
              "      (() => {\n",
              "      const buttonEl =\n",
              "        document.querySelector('#id_74f73be5-1003-402b-b795-a6261fc94a27 button.colab-df-generate');\n",
              "      buttonEl.style.display =\n",
              "        google.colab.kernel.accessAllowed ? 'block' : 'none';\n",
              "\n",
              "      buttonEl.onclick = () => {\n",
              "        google.colab.notebook.generateWithVariable('train_balMerg_df');\n",
              "      }\n",
              "      })();\n",
              "    </script>\n",
              "  </div>\n",
              "\n",
              "    </div>\n",
              "  </div>\n"
            ],
            "text/plain": [
              "                                                   title  label  \\\n",
              "0                                           James Scobie      0   \n",
              "1                                           James Scobie      1   \n",
              "2                                           Dagliç sheep      0   \n",
              "3                                           Dagliç sheep      1   \n",
              "4                                          Hamdard India      0   \n",
              "...                                                  ...    ...   \n",
              "27995  Effects of bonding type and interface geometry...      1   \n",
              "27996  GOODS-Herschel: The far-infrared view of star ...      0   \n",
              "27997  GOODS-Herschel: The far-infrared view of star ...      1   \n",
              "27998  Single-qubit peration sharing with Bell and W ...      0   \n",
              "27999  Single-qubit peration sharing with Bell and W ...      1   \n",
              "\n",
              "                                                    text  word_count  \n",
              "0      James Scobie (29 November 1826 – 7 October 185...         175  \n",
              "1      James Scobie (29 November 1826 – 7 October 189...         242  \n",
              "2      The Dagliç is a breed of sheep found primarily...         152  \n",
              "3      The Dagliç is a breed of sheep that is found i...          33  \n",
              "4      Hamdard Laboratories (India), is a Unani pharm...         160  \n",
              "...                                                  ...         ...  \n",
              "27995  The coherent transport of magnetic information...         286  \n",
              "27996  We present a study of the infrared properties ...         330  \n",
              "27997  This paper presents the results of a study of ...         339  \n",
              "27998  Two tripartite schemes are put forward with sh...          98  \n",
              "27999  In quantum computing, sharing single-qubit ope...          95  \n",
              "\n",
              "[28000 rows x 4 columns]"
            ]
          },
          "execution_count": 22,
          "metadata": {},
          "output_type": "execute_result"
        }
      ],
      "source": [
        "train_balMerg_df"
      ]
    },
    {
      "cell_type": "markdown",
      "metadata": {
        "id": "HLNdWSZx334i"
      },
      "source": [
        "### Datasets Gabungan Full"
      ]
    },
    {
      "cell_type": "code",
      "execution_count": null,
      "metadata": {
        "id": "_qvXekWn334i"
      },
      "outputs": [],
      "source": [
        "train_fullMerg_df = pd.concat([train_wiki_df, train_abstract_df]).reset_index(drop=True)\n",
        "val_fullMerg_df = pd.concat([val_wiki_df, val_abstract_df]).reset_index(drop=True)\n",
        "test_fullMerg_df = pd.concat([test_wiki_df, test_abstract_df]).reset_index(drop=True)"
      ]
    },
    {
      "cell_type": "code",
      "execution_count": null,
      "metadata": {
        "colab": {
          "base_uri": "https://localhost:8080/"
        },
        "id": "rltM0HsG334i",
        "outputId": "a38bc9cb-282e-4bdb-adf2-55d55f8a0568"
      },
      "outputs": [
        {
          "name": "stdout",
          "output_type": "stream",
          "text": [
            "Ukuran Train abstract-Label: (158000, 4)\n",
            "Ukuran Test abstract-Label: (19000, 4)\n",
            "Ukuran Val abstract-Label: (19000, 4)\n"
          ]
        }
      ],
      "source": [
        "print(f\"Ukuran Train abstract-Label: {train_fullMerg_df.shape}\")\n",
        "print(f\"Ukuran Test abstract-Label: {val_fullMerg_df.shape}\")\n",
        "print(f\"Ukuran Val abstract-Label: {test_fullMerg_df.shape}\")"
      ]
    },
    {
      "cell_type": "code",
      "execution_count": null,
      "metadata": {
        "colab": {
          "base_uri": "https://localhost:8080/",
          "height": 597
        },
        "id": "P-gs2pw7334j",
        "outputId": "85dbeea7-0028-4a2e-c4ec-4bf4b13ea443"
      },
      "outputs": [
        {
          "data": {
            "application/vnd.google.colaboratory.intrinsic+json": {
              "type": "dataframe",
              "variable_name": "train_fullMerg_df"
            },
            "text/html": [
              "\n",
              "  <div id=\"df-ee041f39-894e-4309-a68b-5a0fc6e78c4e\" class=\"colab-df-container\">\n",
              "    <div>\n",
              "<style scoped>\n",
              "    .dataframe tbody tr th:only-of-type {\n",
              "        vertical-align: middle;\n",
              "    }\n",
              "\n",
              "    .dataframe tbody tr th {\n",
              "        vertical-align: top;\n",
              "    }\n",
              "\n",
              "    .dataframe thead th {\n",
              "        text-align: right;\n",
              "    }\n",
              "</style>\n",
              "<table border=\"1\" class=\"dataframe\">\n",
              "  <thead>\n",
              "    <tr style=\"text-align: right;\">\n",
              "      <th></th>\n",
              "      <th>title</th>\n",
              "      <th>label</th>\n",
              "      <th>text</th>\n",
              "      <th>word_count</th>\n",
              "    </tr>\n",
              "  </thead>\n",
              "  <tbody>\n",
              "    <tr>\n",
              "      <th>0</th>\n",
              "      <td>James Scobie</td>\n",
              "      <td>0</td>\n",
              "      <td>James Scobie (29 November 1826 – 7 October 185...</td>\n",
              "      <td>175</td>\n",
              "    </tr>\n",
              "    <tr>\n",
              "      <th>1</th>\n",
              "      <td>James Scobie</td>\n",
              "      <td>1</td>\n",
              "      <td>James Scobie (29 November 1826 – 7 October 189...</td>\n",
              "      <td>242</td>\n",
              "    </tr>\n",
              "    <tr>\n",
              "      <th>2</th>\n",
              "      <td>Dagliç sheep</td>\n",
              "      <td>0</td>\n",
              "      <td>The Dagliç is a breed of sheep found primarily...</td>\n",
              "      <td>152</td>\n",
              "    </tr>\n",
              "    <tr>\n",
              "      <th>3</th>\n",
              "      <td>Dagliç sheep</td>\n",
              "      <td>1</td>\n",
              "      <td>The Dagliç is a breed of sheep that is found i...</td>\n",
              "      <td>33</td>\n",
              "    </tr>\n",
              "    <tr>\n",
              "      <th>4</th>\n",
              "      <td>Hamdard India</td>\n",
              "      <td>0</td>\n",
              "      <td>Hamdard Laboratories (India), is a Unani pharm...</td>\n",
              "      <td>160</td>\n",
              "    </tr>\n",
              "    <tr>\n",
              "      <th>...</th>\n",
              "      <td>...</td>\n",
              "      <td>...</td>\n",
              "      <td>...</td>\n",
              "      <td>...</td>\n",
              "    </tr>\n",
              "    <tr>\n",
              "      <th>157995</th>\n",
              "      <td>Effects of bonding type and interface geometry...</td>\n",
              "      <td>1</td>\n",
              "      <td>The coherent transport of magnetic information...</td>\n",
              "      <td>286</td>\n",
              "    </tr>\n",
              "    <tr>\n",
              "      <th>157996</th>\n",
              "      <td>GOODS-Herschel: The far-infrared view of star ...</td>\n",
              "      <td>0</td>\n",
              "      <td>We present a study of the infrared properties ...</td>\n",
              "      <td>330</td>\n",
              "    </tr>\n",
              "    <tr>\n",
              "      <th>157997</th>\n",
              "      <td>GOODS-Herschel: The far-infrared view of star ...</td>\n",
              "      <td>1</td>\n",
              "      <td>This paper presents the results of a study of ...</td>\n",
              "      <td>339</td>\n",
              "    </tr>\n",
              "    <tr>\n",
              "      <th>157998</th>\n",
              "      <td>Single-qubit peration sharing with Bell and W ...</td>\n",
              "      <td>0</td>\n",
              "      <td>Two tripartite schemes are put forward with sh...</td>\n",
              "      <td>98</td>\n",
              "    </tr>\n",
              "    <tr>\n",
              "      <th>157999</th>\n",
              "      <td>Single-qubit peration sharing with Bell and W ...</td>\n",
              "      <td>1</td>\n",
              "      <td>In quantum computing, sharing single-qubit ope...</td>\n",
              "      <td>95</td>\n",
              "    </tr>\n",
              "  </tbody>\n",
              "</table>\n",
              "<p>158000 rows × 4 columns</p>\n",
              "</div>\n",
              "    <div class=\"colab-df-buttons\">\n",
              "\n",
              "  <div class=\"colab-df-container\">\n",
              "    <button class=\"colab-df-convert\" onclick=\"convertToInteractive('df-ee041f39-894e-4309-a68b-5a0fc6e78c4e')\"\n",
              "            title=\"Convert this dataframe to an interactive table.\"\n",
              "            style=\"display:none;\">\n",
              "\n",
              "  <svg xmlns=\"http://www.w3.org/2000/svg\" height=\"24px\" viewBox=\"0 -960 960 960\">\n",
              "    <path d=\"M120-120v-720h720v720H120Zm60-500h600v-160H180v160Zm220 220h160v-160H400v160Zm0 220h160v-160H400v160ZM180-400h160v-160H180v160Zm440 0h160v-160H620v160ZM180-180h160v-160H180v160Zm440 0h160v-160H620v160Z\"/>\n",
              "  </svg>\n",
              "    </button>\n",
              "\n",
              "  <style>\n",
              "    .colab-df-container {\n",
              "      display:flex;\n",
              "      gap: 12px;\n",
              "    }\n",
              "\n",
              "    .colab-df-convert {\n",
              "      background-color: #E8F0FE;\n",
              "      border: none;\n",
              "      border-radius: 50%;\n",
              "      cursor: pointer;\n",
              "      display: none;\n",
              "      fill: #1967D2;\n",
              "      height: 32px;\n",
              "      padding: 0 0 0 0;\n",
              "      width: 32px;\n",
              "    }\n",
              "\n",
              "    .colab-df-convert:hover {\n",
              "      background-color: #E2EBFA;\n",
              "      box-shadow: 0px 1px 2px rgba(60, 64, 67, 0.3), 0px 1px 3px 1px rgba(60, 64, 67, 0.15);\n",
              "      fill: #174EA6;\n",
              "    }\n",
              "\n",
              "    .colab-df-buttons div {\n",
              "      margin-bottom: 4px;\n",
              "    }\n",
              "\n",
              "    [theme=dark] .colab-df-convert {\n",
              "      background-color: #3B4455;\n",
              "      fill: #D2E3FC;\n",
              "    }\n",
              "\n",
              "    [theme=dark] .colab-df-convert:hover {\n",
              "      background-color: #434B5C;\n",
              "      box-shadow: 0px 1px 3px 1px rgba(0, 0, 0, 0.15);\n",
              "      filter: drop-shadow(0px 1px 2px rgba(0, 0, 0, 0.3));\n",
              "      fill: #FFFFFF;\n",
              "    }\n",
              "  </style>\n",
              "\n",
              "    <script>\n",
              "      const buttonEl =\n",
              "        document.querySelector('#df-ee041f39-894e-4309-a68b-5a0fc6e78c4e button.colab-df-convert');\n",
              "      buttonEl.style.display =\n",
              "        google.colab.kernel.accessAllowed ? 'block' : 'none';\n",
              "\n",
              "      async function convertToInteractive(key) {\n",
              "        const element = document.querySelector('#df-ee041f39-894e-4309-a68b-5a0fc6e78c4e');\n",
              "        const dataTable =\n",
              "          await google.colab.kernel.invokeFunction('convertToInteractive',\n",
              "                                                    [key], {});\n",
              "        if (!dataTable) return;\n",
              "\n",
              "        const docLinkHtml = 'Like what you see? Visit the ' +\n",
              "          '<a target=\"_blank\" href=https://colab.research.google.com/notebooks/data_table.ipynb>data table notebook</a>'\n",
              "          + ' to learn more about interactive tables.';\n",
              "        element.innerHTML = '';\n",
              "        dataTable['output_type'] = 'display_data';\n",
              "        await google.colab.output.renderOutput(dataTable, element);\n",
              "        const docLink = document.createElement('div');\n",
              "        docLink.innerHTML = docLinkHtml;\n",
              "        element.appendChild(docLink);\n",
              "      }\n",
              "    </script>\n",
              "  </div>\n",
              "\n",
              "\n",
              "<div id=\"df-bbe56aa5-6ad9-41b9-8b57-677d5573a414\">\n",
              "  <button class=\"colab-df-quickchart\" onclick=\"quickchart('df-bbe56aa5-6ad9-41b9-8b57-677d5573a414')\"\n",
              "            title=\"Suggest charts\"\n",
              "            style=\"display:none;\">\n",
              "\n",
              "<svg xmlns=\"http://www.w3.org/2000/svg\" height=\"24px\"viewBox=\"0 0 24 24\"\n",
              "     width=\"24px\">\n",
              "    <g>\n",
              "        <path d=\"M19 3H5c-1.1 0-2 .9-2 2v14c0 1.1.9 2 2 2h14c1.1 0 2-.9 2-2V5c0-1.1-.9-2-2-2zM9 17H7v-7h2v7zm4 0h-2V7h2v10zm4 0h-2v-4h2v4z\"/>\n",
              "    </g>\n",
              "</svg>\n",
              "  </button>\n",
              "\n",
              "<style>\n",
              "  .colab-df-quickchart {\n",
              "      --bg-color: #E8F0FE;\n",
              "      --fill-color: #1967D2;\n",
              "      --hover-bg-color: #E2EBFA;\n",
              "      --hover-fill-color: #174EA6;\n",
              "      --disabled-fill-color: #AAA;\n",
              "      --disabled-bg-color: #DDD;\n",
              "  }\n",
              "\n",
              "  [theme=dark] .colab-df-quickchart {\n",
              "      --bg-color: #3B4455;\n",
              "      --fill-color: #D2E3FC;\n",
              "      --hover-bg-color: #434B5C;\n",
              "      --hover-fill-color: #FFFFFF;\n",
              "      --disabled-bg-color: #3B4455;\n",
              "      --disabled-fill-color: #666;\n",
              "  }\n",
              "\n",
              "  .colab-df-quickchart {\n",
              "    background-color: var(--bg-color);\n",
              "    border: none;\n",
              "    border-radius: 50%;\n",
              "    cursor: pointer;\n",
              "    display: none;\n",
              "    fill: var(--fill-color);\n",
              "    height: 32px;\n",
              "    padding: 0;\n",
              "    width: 32px;\n",
              "  }\n",
              "\n",
              "  .colab-df-quickchart:hover {\n",
              "    background-color: var(--hover-bg-color);\n",
              "    box-shadow: 0 1px 2px rgba(60, 64, 67, 0.3), 0 1px 3px 1px rgba(60, 64, 67, 0.15);\n",
              "    fill: var(--button-hover-fill-color);\n",
              "  }\n",
              "\n",
              "  .colab-df-quickchart-complete:disabled,\n",
              "  .colab-df-quickchart-complete:disabled:hover {\n",
              "    background-color: var(--disabled-bg-color);\n",
              "    fill: var(--disabled-fill-color);\n",
              "    box-shadow: none;\n",
              "  }\n",
              "\n",
              "  .colab-df-spinner {\n",
              "    border: 2px solid var(--fill-color);\n",
              "    border-color: transparent;\n",
              "    border-bottom-color: var(--fill-color);\n",
              "    animation:\n",
              "      spin 1s steps(1) infinite;\n",
              "  }\n",
              "\n",
              "  @keyframes spin {\n",
              "    0% {\n",
              "      border-color: transparent;\n",
              "      border-bottom-color: var(--fill-color);\n",
              "      border-left-color: var(--fill-color);\n",
              "    }\n",
              "    20% {\n",
              "      border-color: transparent;\n",
              "      border-left-color: var(--fill-color);\n",
              "      border-top-color: var(--fill-color);\n",
              "    }\n",
              "    30% {\n",
              "      border-color: transparent;\n",
              "      border-left-color: var(--fill-color);\n",
              "      border-top-color: var(--fill-color);\n",
              "      border-right-color: var(--fill-color);\n",
              "    }\n",
              "    40% {\n",
              "      border-color: transparent;\n",
              "      border-right-color: var(--fill-color);\n",
              "      border-top-color: var(--fill-color);\n",
              "    }\n",
              "    60% {\n",
              "      border-color: transparent;\n",
              "      border-right-color: var(--fill-color);\n",
              "    }\n",
              "    80% {\n",
              "      border-color: transparent;\n",
              "      border-right-color: var(--fill-color);\n",
              "      border-bottom-color: var(--fill-color);\n",
              "    }\n",
              "    90% {\n",
              "      border-color: transparent;\n",
              "      border-bottom-color: var(--fill-color);\n",
              "    }\n",
              "  }\n",
              "</style>\n",
              "\n",
              "  <script>\n",
              "    async function quickchart(key) {\n",
              "      const quickchartButtonEl =\n",
              "        document.querySelector('#' + key + ' button');\n",
              "      quickchartButtonEl.disabled = true;  // To prevent multiple clicks.\n",
              "      quickchartButtonEl.classList.add('colab-df-spinner');\n",
              "      try {\n",
              "        const charts = await google.colab.kernel.invokeFunction(\n",
              "            'suggestCharts', [key], {});\n",
              "      } catch (error) {\n",
              "        console.error('Error during call to suggestCharts:', error);\n",
              "      }\n",
              "      quickchartButtonEl.classList.remove('colab-df-spinner');\n",
              "      quickchartButtonEl.classList.add('colab-df-quickchart-complete');\n",
              "    }\n",
              "    (() => {\n",
              "      let quickchartButtonEl =\n",
              "        document.querySelector('#df-bbe56aa5-6ad9-41b9-8b57-677d5573a414 button');\n",
              "      quickchartButtonEl.style.display =\n",
              "        google.colab.kernel.accessAllowed ? 'block' : 'none';\n",
              "    })();\n",
              "  </script>\n",
              "</div>\n",
              "\n",
              "  <div id=\"id_c17065b9-cd93-404a-b05a-35d2e2a5a6dd\">\n",
              "    <style>\n",
              "      .colab-df-generate {\n",
              "        background-color: #E8F0FE;\n",
              "        border: none;\n",
              "        border-radius: 50%;\n",
              "        cursor: pointer;\n",
              "        display: none;\n",
              "        fill: #1967D2;\n",
              "        height: 32px;\n",
              "        padding: 0 0 0 0;\n",
              "        width: 32px;\n",
              "      }\n",
              "\n",
              "      .colab-df-generate:hover {\n",
              "        background-color: #E2EBFA;\n",
              "        box-shadow: 0px 1px 2px rgba(60, 64, 67, 0.3), 0px 1px 3px 1px rgba(60, 64, 67, 0.15);\n",
              "        fill: #174EA6;\n",
              "      }\n",
              "\n",
              "      [theme=dark] .colab-df-generate {\n",
              "        background-color: #3B4455;\n",
              "        fill: #D2E3FC;\n",
              "      }\n",
              "\n",
              "      [theme=dark] .colab-df-generate:hover {\n",
              "        background-color: #434B5C;\n",
              "        box-shadow: 0px 1px 3px 1px rgba(0, 0, 0, 0.15);\n",
              "        filter: drop-shadow(0px 1px 2px rgba(0, 0, 0, 0.3));\n",
              "        fill: #FFFFFF;\n",
              "      }\n",
              "    </style>\n",
              "    <button class=\"colab-df-generate\" onclick=\"generateWithVariable('train_fullMerg_df')\"\n",
              "            title=\"Generate code using this dataframe.\"\n",
              "            style=\"display:none;\">\n",
              "\n",
              "  <svg xmlns=\"http://www.w3.org/2000/svg\" height=\"24px\"viewBox=\"0 0 24 24\"\n",
              "       width=\"24px\">\n",
              "    <path d=\"M7,19H8.4L18.45,9,17,7.55,7,17.6ZM5,21V16.75L18.45,3.32a2,2,0,0,1,2.83,0l1.4,1.43a1.91,1.91,0,0,1,.58,1.4,1.91,1.91,0,0,1-.58,1.4L9.25,21ZM18.45,9,17,7.55Zm-12,3A5.31,5.31,0,0,0,4.9,8.1,5.31,5.31,0,0,0,1,6.5,5.31,5.31,0,0,0,4.9,4.9,5.31,5.31,0,0,0,6.5,1,5.31,5.31,0,0,0,8.1,4.9,5.31,5.31,0,0,0,12,6.5,5.46,5.46,0,0,0,6.5,12Z\"/>\n",
              "  </svg>\n",
              "    </button>\n",
              "    <script>\n",
              "      (() => {\n",
              "      const buttonEl =\n",
              "        document.querySelector('#id_c17065b9-cd93-404a-b05a-35d2e2a5a6dd button.colab-df-generate');\n",
              "      buttonEl.style.display =\n",
              "        google.colab.kernel.accessAllowed ? 'block' : 'none';\n",
              "\n",
              "      buttonEl.onclick = () => {\n",
              "        google.colab.notebook.generateWithVariable('train_fullMerg_df');\n",
              "      }\n",
              "      })();\n",
              "    </script>\n",
              "  </div>\n",
              "\n",
              "    </div>\n",
              "  </div>\n"
            ],
            "text/plain": [
              "                                                    title  label  \\\n",
              "0                                            James Scobie      0   \n",
              "1                                            James Scobie      1   \n",
              "2                                            Dagliç sheep      0   \n",
              "3                                            Dagliç sheep      1   \n",
              "4                                           Hamdard India      0   \n",
              "...                                                   ...    ...   \n",
              "157995  Effects of bonding type and interface geometry...      1   \n",
              "157996  GOODS-Herschel: The far-infrared view of star ...      0   \n",
              "157997  GOODS-Herschel: The far-infrared view of star ...      1   \n",
              "157998  Single-qubit peration sharing with Bell and W ...      0   \n",
              "157999  Single-qubit peration sharing with Bell and W ...      1   \n",
              "\n",
              "                                                     text  word_count  \n",
              "0       James Scobie (29 November 1826 – 7 October 185...         175  \n",
              "1       James Scobie (29 November 1826 – 7 October 189...         242  \n",
              "2       The Dagliç is a breed of sheep found primarily...         152  \n",
              "3       The Dagliç is a breed of sheep that is found i...          33  \n",
              "4       Hamdard Laboratories (India), is a Unani pharm...         160  \n",
              "...                                                   ...         ...  \n",
              "157995  The coherent transport of magnetic information...         286  \n",
              "157996  We present a study of the infrared properties ...         330  \n",
              "157997  This paper presents the results of a study of ...         339  \n",
              "157998  Two tripartite schemes are put forward with sh...          98  \n",
              "157999  In quantum computing, sharing single-qubit ope...          95  \n",
              "\n",
              "[158000 rows x 4 columns]"
            ]
          },
          "execution_count": 25,
          "metadata": {},
          "output_type": "execute_result"
        }
      ],
      "source": [
        "train_fullMerg_df"
      ]
    },
    {
      "cell_type": "markdown",
      "metadata": {
        "id": "IT01tM-R334k"
      },
      "source": [
        "# Initialize Function"
      ]
    },
    {
      "cell_type": "code",
      "execution_count": null,
      "metadata": {
        "id": "vXG0t6Vo334k"
      },
      "outputs": [],
      "source": [
        "import tensorflow as tf\n",
        "import numpy as np\n",
        "from transformers import AutoTokenizer, TFT5EncoderModel, TFAutoModelForSequenceClassification\n",
        "from sklearn.metrics import precision_score, recall_score, f1_score"
      ]
    },
    {
      "cell_type": "markdown",
      "metadata": {
        "id": "LzGITyP4334k"
      },
      "source": [
        "## Preprocessing"
      ]
    },
    {
      "cell_type": "code",
      "execution_count": null,
      "metadata": {
        "id": "e8O6gYqM334l"
      },
      "outputs": [],
      "source": [
        "def preprocess_text(dataframe, tokenizer, max_length=256):\n",
        "    tokenizer.padding_side = 'left'\n",
        "\n",
        "    inputs = tokenizer(\n",
        "        dataframe['text'].tolist(),\n",
        "        padding='max_length',\n",
        "        truncation=True,\n",
        "        return_tensors=\"tf\",\n",
        "        max_length=max_length\n",
        "    )\n",
        "\n",
        "    input_ids = inputs[\"input_ids\"]\n",
        "    attention_mask = inputs[\"attention_mask\"]\n",
        "    return {\"input_ids\": input_ids, \"attention_mask\": attention_mask}"
      ]
    },
    {
      "cell_type": "code",
      "execution_count": null,
      "metadata": {
        "id": "VAYcxPbN334l"
      },
      "outputs": [],
      "source": [
        "def preprocess_label(dataframe):\n",
        "    train_labels = dataframe['label']\n",
        "    # Convert labels to float32\n",
        "    train_labels = train_labels.astype('float32')\n",
        "\n",
        "    return train_labels"
      ]
    },
    {
      "cell_type": "markdown",
      "metadata": {
        "id": "UxXSt_XO334l"
      },
      "source": [
        "## Build Model"
      ]
    },
    {
      "cell_type": "code",
      "execution_count": null,
      "metadata": {
        "id": "le3ko4xU334m"
      },
      "outputs": [],
      "source": [
        "def load_model(base_name, tokenizerBase=AutoTokenizer, modelBase=TFAutoModelForSequenceClassification):\n",
        "    tokenizer = tokenizerBase.from_pretrained(base_name)\n",
        "    model = modelBase.from_pretrained(base_name)\n",
        "\n",
        "    # Freeze model layers\n",
        "    for layer in model.layers:\n",
        "        layer.trainable = False\n",
        "\n",
        "    return tokenizer, model"
      ]
    },
    {
      "cell_type": "code",
      "execution_count": null,
      "metadata": {
        "id": "g2Gl2CHK334u"
      },
      "outputs": [],
      "source": [
        "def create_model(model, isT5=False):\n",
        "    # Define model inputs\n",
        "    input_ids = tf.keras.Input(shape=(256,), dtype=tf.int32, name='input_ids')\n",
        "    attention_mask = tf.keras.Input(shape=(256,), dtype=tf.int32, name='attention_mask')\n",
        "\n",
        "    if isT5:\n",
        "        # Pass inputs through the T5 encoder\n",
        "        encoder_outputs = model({'input_ids': input_ids, 'attention_mask': attention_mask})\n",
        "        sequence_output = encoder_outputs.last_hidden_state\n",
        "\n",
        "        # Pool the sequence output\n",
        "        output = tf.keras.layers.GlobalAveragePooling1D()(sequence_output)\n",
        "\n",
        "    else:\n",
        "        # Pass inputs through model\n",
        "        model_output = model({'input_ids': input_ids, 'attention_mask': attention_mask})\n",
        "\n",
        "        # Get logits output\n",
        "        output = model_output.logits\n",
        "\n",
        "    # Add classification layer\n",
        "    classifier = tf.keras.layers.Dense(1, activation='sigmoid', name='classifier')(output)\n",
        "\n",
        "    # Create and compile the model\n",
        "    final_model = tf.keras.Model(inputs={'input_ids': input_ids, 'attention_mask': attention_mask}, outputs=classifier)\n",
        "    final_model.compile(\n",
        "        optimizer='adam',\n",
        "        loss='binary_crossentropy',\n",
        "        metrics=['accuracy']\n",
        "    )\n",
        "\n",
        "    return final_model"
      ]
    },
    {
      "cell_type": "markdown",
      "metadata": {
        "id": "V8qJXaS9334u"
      },
      "source": [
        "## Training Function"
      ]
    },
    {
      "cell_type": "code",
      "execution_count": null,
      "metadata": {
        "id": "D9heBayT334v"
      },
      "outputs": [],
      "source": [
        "def train_model(model, tokenizer, train_data, val_data, epochs=5, batch_size=128):\n",
        "    # Preprocess training and validation data\n",
        "    train_abstract_inputs = preprocess_text(train_data, tokenizer)\n",
        "    val_abstract_inputs = preprocess_text(val_data, tokenizer)\n",
        "\n",
        "    train_labels = preprocess_label(train_data)\n",
        "    val_labels = preprocess_label(val_data)\n",
        "\n",
        "    print(train_abstract_inputs)\n",
        "    print(\"\\n-------------START TRAINING-------------\\n\")\n",
        "\n",
        "    history = model.fit(\n",
        "                    train_abstract_inputs, train_labels,\n",
        "                    validation_data=(val_abstract_inputs, val_labels),\n",
        "                    epochs=epochs,\n",
        "                    batch_size=batch_size\n",
        "                )\n",
        "\n",
        "    return history"
      ]
    },
    {
      "cell_type": "code",
      "execution_count": null,
      "metadata": {
        "id": "g_UKGY41334v"
      },
      "outputs": [],
      "source": [
        "def evaluate_f1score(data_test, tokenizer, model, path, treshold=0.5):\n",
        "    test_inputs = preprocess_text(data_test, tokenizer)\n",
        "    y_test = data_test['label']\n",
        "\n",
        "    y_pred_prob = model.predict(test_inputs)\n",
        "    y_pred = (y_pred_prob > treshold).astype(int)\n",
        "\n",
        "    # Calculate precision, recall, and F1 score\n",
        "    precision = precision_score(y_test, y_pred)\n",
        "    recall = recall_score(y_test, y_pred)\n",
        "    f1 = f1_score(y_test, y_pred)\n",
        "\n",
        "    print('Precision:', precision)\n",
        "    print('Recall:', recall)\n",
        "    print('F1 Score:', f1)\n",
        "\n",
        "    # Define the file path where you want to save the results\n",
        "    file_path = path\n",
        "\n",
        "    # Open the file in write mode and write the results\n",
        "    with open(file_path, 'w') as file:\n",
        "        file.write(f\"Precision: {precision}\\n\")\n",
        "        file.write(f\"Recall: {recall}\\n\")\n",
        "        file.write(f\"F1 Score: {f1_score}\\n\")\n",
        "\n",
        "    print(f\"Results saved to {file_path}\")"
      ]
    },
    {
      "cell_type": "code",
      "execution_count": null,
      "metadata": {
        "id": "kfWHTAMm334w"
      },
      "outputs": [],
      "source": [
        "def save_history(history_data, path):\n",
        "    # Extract history data\n",
        "    history_dict = history_data.history\n",
        "\n",
        "    # Create a DataFrame from the history dictionary\n",
        "    history_df = pd.DataFrame(history_dict)\n",
        "    print(history_df)\n",
        "\n",
        "    # Save the DataFrame to a CSV file\n",
        "    history_df.to_csv(path, index=False)"
      ]
    },
    {
      "cell_type": "code",
      "execution_count": null,
      "metadata": {
        "id": "bynzrsS6334x"
      },
      "outputs": [],
      "source": [
        "def save_model(model, path):\n",
        "    model.save(path, save_format='tf')"
      ]
    },
    {
      "cell_type": "markdown",
      "metadata": {
        "id": "QqiDNHWO334x"
      },
      "source": [
        "# Training Model"
      ]
    },
    {
      "cell_type": "markdown",
      "metadata": {
        "id": "vwDUIR39334y"
      },
      "source": [
        "## XLNET Model Training"
      ]
    },
    {
      "cell_type": "markdown",
      "metadata": {
        "id": "Sz0euWkF334y"
      },
      "source": [
        "### 1. XLNet-Abstract"
      ]
    },
    {
      "cell_type": "code",
      "execution_count": null,
      "metadata": {
        "id": "OSuxnWh_334y"
      },
      "outputs": [],
      "source": [
        "base_name = 'rubakha/xlnet-new'\n",
        "xlnet_tokenizer, xlnet_model = load_model(base_name)"
      ]
    },
    {
      "cell_type": "code",
      "execution_count": null,
      "metadata": {
        "id": "nrLN6ncS334z"
      },
      "outputs": [],
      "source": [
        "xlnet_model = create_model(xlnet_model)"
      ]
    },
    {
      "cell_type": "code",
      "execution_count": null,
      "metadata": {
        "colab": {
          "base_uri": "https://localhost:8080/"
        },
        "id": "kfbJ4NSG334z",
        "outputId": "be8e84de-58bd-4e75-aec3-31af66595252"
      },
      "outputs": [
        {
          "name": "stdout",
          "output_type": "stream",
          "text": [
            "Model: \"model\"\n",
            "__________________________________________________________________________________________________\n",
            " Layer (type)                Output Shape                 Param #   Connected to                  \n",
            "==================================================================================================\n",
            " attention_mask (InputLayer  [(None, 256)]                0         []                            \n",
            " )                                                                                                \n",
            "                                                                                                  \n",
            " input_ids (InputLayer)      [(None, 256)]                0         []                            \n",
            "                                                                                                  \n",
            " tfxl_net_for_sequence_clas  TFXLNetForSequenceClassifi   1173135   ['attention_mask[0][0]',      \n",
            " sification (TFXLNetForSequ  cationOutput(loss=None, lo   42         'input_ids[0][0]']           \n",
            " enceClassification)         gits=(None, 6),                                                      \n",
            "                              mems=((256, None, 768),                                             \n",
            "                              (256, None, 768),                                                   \n",
            "                              (256, None, 768),                                                   \n",
            "                              (256, None, 768),                                                   \n",
            "                              (256, None, 768),                                                   \n",
            "                              (256, None, 768),                                                   \n",
            "                              (256, None, 768),                                                   \n",
            "                              (256, None, 768),                                                   \n",
            "                              (256, None, 768),                                                   \n",
            "                              (256, None, 768),                                                   \n",
            "                              (256, None, 768),                                                   \n",
            "                              (256, None, 768)),                                                  \n",
            "                              hidden_states=None, atten                                           \n",
            "                             tions=None)                                                          \n",
            "                                                                                                  \n",
            " classifier (Dense)          (None, 1)                    7         ['tfxl_net_for_sequence_classi\n",
            "                                                                    fication[0][0]']              \n",
            "                                                                                                  \n",
            "==================================================================================================\n",
            "Total params: 117313549 (447.52 MB)\n",
            "Trainable params: 7 (28.00 Byte)\n",
            "Non-trainable params: 117313542 (447.52 MB)\n",
            "__________________________________________________________________________________________________\n"
          ]
        }
      ],
      "source": [
        "xlnet_model.summary()"
      ]
    },
    {
      "cell_type": "code",
      "execution_count": null,
      "metadata": {
        "colab": {
          "base_uri": "https://localhost:8080/"
        },
        "id": "Ea0p-2oU334z",
        "outputId": "2ad4c49c-714e-487f-bfc4-9d10261d65fd"
      },
      "outputs": [
        {
          "name": "stdout",
          "output_type": "stream",
          "text": [
            "{'input_ids': <tf.Tensor: shape=(14000, 256), dtype=int32, numpy=\n",
            "array([[  659,   499,   806, ...,   240,     4,     3],\n",
            "       [   67,    52,   757, ...,  1059,     4,     3],\n",
            "       [ 2834,  6490, 17666, ...,   351,     4,     3],\n",
            "       ...,\n",
            "       [  122,  1200,  7579, ...,   131,     4,     3],\n",
            "       [    5,     5,     5, ...,     9,     4,     3],\n",
            "       [    5,     5,     5, ...,     9,     4,     3]], dtype=int32)>, 'attention_mask': <tf.Tensor: shape=(14000, 256), dtype=int32, numpy=\n",
            "array([[1, 1, 1, ..., 1, 1, 1],\n",
            "       [1, 1, 1, ..., 1, 1, 1],\n",
            "       [1, 1, 1, ..., 1, 1, 1],\n",
            "       ...,\n",
            "       [1, 1, 1, ..., 1, 1, 1],\n",
            "       [0, 0, 0, ..., 1, 1, 1],\n",
            "       [0, 0, 0, ..., 1, 1, 1]], dtype=int32)>}\n",
            "\n",
            "-------------START TRAINING-------------\n",
            "\n",
            "Epoch 1/5\n",
            "110/110 [==============================] - 572s 5s/step - loss: 0.8339 - accuracy: 0.3556 - val_loss: 0.7757 - val_accuracy: 0.3883\n",
            "Epoch 2/5\n",
            "110/110 [==============================] - 538s 5s/step - loss: 0.7844 - accuracy: 0.3944 - val_loss: 0.7367 - val_accuracy: 0.4530\n",
            "Epoch 3/5\n",
            "110/110 [==============================] - 537s 5s/step - loss: 0.7439 - accuracy: 0.4615 - val_loss: 0.7030 - val_accuracy: 0.5270\n",
            "Epoch 4/5\n",
            "110/110 [==============================] - 537s 5s/step - loss: 0.7106 - accuracy: 0.5158 - val_loss: 0.6758 - val_accuracy: 0.5837\n",
            "Epoch 5/5\n",
            "110/110 [==============================] - 537s 5s/step - loss: 0.6842 - accuracy: 0.5614 - val_loss: 0.6533 - val_accuracy: 0.6280\n"
          ]
        }
      ],
      "source": [
        "xlnet_abstract_hist = train_model(xlnet_model, xlnet_tokenizer, train_abstract_df, val_abstract_df)"
      ]
    },
    {
      "cell_type": "code",
      "execution_count": null,
      "metadata": {
        "colab": {
          "base_uri": "https://localhost:8080/"
        },
        "id": "N7zxHGF6ThwK",
        "outputId": "5398aa5b-c2e7-4c40-f230-3368ce039959"
      },
      "outputs": [
        {
          "name": "stdout",
          "output_type": "stream",
          "text": [
            "188/188 [==============================] - 167s 851ms/step\n",
            "Precision: 0.5422443107507193\n",
            "Recall: 0.691\n",
            "F1 Score: 0.6076505935805364\n",
            "Results saved to /content/drive/MyDrive/history-skripsi/f1score-history/xlnet_abstract.txt\n"
          ]
        }
      ],
      "source": [
        "test_data = test_balMerg_df\n",
        "evaluate_f1score(test_data, xlnet_tokenizer, xlnet_model, \"/content/drive/MyDrive/history-skripsi/f1score-history/xlnet_abstract.txt\")"
      ]
    },
    {
      "cell_type": "code",
      "execution_count": null,
      "metadata": {
        "colab": {
          "base_uri": "https://localhost:8080/"
        },
        "id": "AjOYEoFtMByr",
        "outputId": "23a9b803-f2cb-4823-9e44-f816262a2632"
      },
      "outputs": [
        {
          "name": "stdout",
          "output_type": "stream",
          "text": [
            "       loss  accuracy  val_loss  val_accuracy\n",
            "0  0.833882  0.355643  0.775709      0.388333\n",
            "1  0.784434  0.394429  0.736654      0.453000\n",
            "2  0.743877  0.461500  0.703010      0.527000\n",
            "3  0.710569  0.515786  0.675797      0.583667\n",
            "4  0.684187  0.561429  0.653269      0.628000\n"
          ]
        }
      ],
      "source": [
        "save_history(xlnet_abstract_hist, \"/content/drive/MyDrive/history-skripsi/train-history/xlnet_abstract_history.csv\")"
      ]
    },
    {
      "cell_type": "code",
      "execution_count": null,
      "metadata": {
        "id": "F3LftwSh3341"
      },
      "outputs": [],
      "source": [
        "save_model(xlnet_model, \"/content/drive/MyDrive/history-skripsi/saved-model/xlnet_abstract.h5\")"
      ]
    },
    {
      "cell_type": "markdown",
      "metadata": {
        "id": "3THLVstr3341"
      },
      "source": [
        "### 2. XLNet-Wiki"
      ]
    },
    {
      "cell_type": "code",
      "execution_count": null,
      "metadata": {
        "id": "-Lp83ncG8hn7"
      },
      "outputs": [],
      "source": [
        "base_name = 'rubakha/xlnet-new'\n",
        "xlnet_tokenizer, xlnet_model = load_model(base_name)"
      ]
    },
    {
      "cell_type": "code",
      "execution_count": null,
      "metadata": {
        "id": "MCV-lCyr8lvC"
      },
      "outputs": [],
      "source": [
        "xlnet_model = create_model(xlnet_model)"
      ]
    },
    {
      "cell_type": "code",
      "execution_count": null,
      "metadata": {
        "colab": {
          "base_uri": "https://localhost:8080/"
        },
        "id": "-S476I4Z8zkG",
        "outputId": "25091bd8-59fc-4abe-fb9b-773b081953fd"
      },
      "outputs": [
        {
          "name": "stdout",
          "output_type": "stream",
          "text": [
            "Model: \"model\"\n",
            "__________________________________________________________________________________________________\n",
            " Layer (type)                Output Shape                 Param #   Connected to                  \n",
            "==================================================================================================\n",
            " attention_mask (InputLayer  [(None, 256)]                0         []                            \n",
            " )                                                                                                \n",
            "                                                                                                  \n",
            " input_ids (InputLayer)      [(None, 256)]                0         []                            \n",
            "                                                                                                  \n",
            " tfxl_net_for_sequence_clas  TFXLNetForSequenceClassifi   1173135   ['attention_mask[0][0]',      \n",
            " sification (TFXLNetForSequ  cationOutput(loss=None, lo   42         'input_ids[0][0]']           \n",
            " enceClassification)         gits=(None, 6),                                                      \n",
            "                              mems=((256, None, 768),                                             \n",
            "                              (256, None, 768),                                                   \n",
            "                              (256, None, 768),                                                   \n",
            "                              (256, None, 768),                                                   \n",
            "                              (256, None, 768),                                                   \n",
            "                              (256, None, 768),                                                   \n",
            "                              (256, None, 768),                                                   \n",
            "                              (256, None, 768),                                                   \n",
            "                              (256, None, 768),                                                   \n",
            "                              (256, None, 768),                                                   \n",
            "                              (256, None, 768),                                                   \n",
            "                              (256, None, 768)),                                                  \n",
            "                              hidden_states=None, atten                                           \n",
            "                             tions=None)                                                          \n",
            "                                                                                                  \n",
            " classifier (Dense)          (None, 1)                    7         ['tfxl_net_for_sequence_classi\n",
            "                                                                    fication[0][0]']              \n",
            "                                                                                                  \n",
            "==================================================================================================\n",
            "Total params: 117313549 (447.52 MB)\n",
            "Trainable params: 7 (28.00 Byte)\n",
            "Non-trainable params: 117313542 (447.52 MB)\n",
            "__________________________________________________________________________________________________\n"
          ]
        }
      ],
      "source": [
        "xlnet_model.summary()"
      ]
    },
    {
      "cell_type": "code",
      "execution_count": null,
      "metadata": {
        "colab": {
          "base_uri": "https://localhost:8080/"
        },
        "id": "WRNhgkMJ83nG",
        "outputId": "3a772715-79f1-4ac9-f314-55904a6fcd66"
      },
      "outputs": [
        {
          "name": "stdout",
          "output_type": "stream",
          "text": [
            "{'input_ids': <tf.Tensor: shape=(144000, 256), dtype=int32, numpy=\n",
            "array([[    5,     5,     5, ...,     9,     4,     3],\n",
            "       [ 1173, 11256, 10698, ...,   237,     4,     3],\n",
            "       [    5,     5,     5, ...,     9,     4,     3],\n",
            "       ...,\n",
            "       [ 4319,   117, 11407, ...,  5808,     4,     3],\n",
            "       [   32,    27,    24, ...,    60,     4,     3],\n",
            "       [    5,     5,     5, ...,     9,     4,     3]], dtype=int32)>, 'attention_mask': <tf.Tensor: shape=(144000, 256), dtype=int32, numpy=\n",
            "array([[0, 0, 0, ..., 1, 1, 1],\n",
            "       [1, 1, 1, ..., 1, 1, 1],\n",
            "       [0, 0, 0, ..., 1, 1, 1],\n",
            "       ...,\n",
            "       [1, 1, 1, ..., 1, 1, 1],\n",
            "       [1, 1, 1, ..., 1, 1, 1],\n",
            "       [0, 0, 0, ..., 1, 1, 1]], dtype=int32)>}\n",
            "\n",
            "-------------START TRAINING-------------\n",
            "\n",
            "Epoch 1/5\n",
            "1125/1125 [==============================] - 4886s 4s/step - loss: 0.6815 - accuracy: 0.5643 - val_loss: 0.6583 - val_accuracy: 0.6029\n",
            "Epoch 2/5\n",
            "1125/1125 [==============================] - 4850s 4s/step - loss: 0.6555 - accuracy: 0.6145 - val_loss: 0.6449 - val_accuracy: 0.6389\n",
            "Epoch 3/5\n",
            "1125/1125 [==============================] - 4852s 4s/step - loss: 0.6465 - accuracy: 0.6296 - val_loss: 0.6356 - val_accuracy: 0.6492\n",
            "Epoch 4/5\n",
            "1125/1125 [==============================] - 4858s 4s/step - loss: 0.6394 - accuracy: 0.6405 - val_loss: 0.6285 - val_accuracy: 0.6588\n",
            "Epoch 5/5\n",
            "1125/1125 [==============================] - 4856s 4s/step - loss: 0.6353 - accuracy: 0.6463 - val_loss: 0.6224 - val_accuracy: 0.6698\n"
          ]
        }
      ],
      "source": [
        "xlnet_wiki_hist = train_model(xlnet_model, xlnet_tokenizer, train_wiki_df, val_wiki_df)"
      ]
    },
    {
      "cell_type": "code",
      "execution_count": null,
      "metadata": {
        "colab": {
          "base_uri": "https://localhost:8080/"
        },
        "id": "StJZpE9E9PL8",
        "outputId": "3a7b8d0d-4dca-4e18-ba97-9a2c3e1f7cf0"
      },
      "outputs": [
        {
          "name": "stdout",
          "output_type": "stream",
          "text": [
            "188/188 [==============================] - 160s 815ms/step\n",
            "Precision: 0.6204180551348076\n",
            "Recall: 0.6826666666666666\n",
            "F1 Score: 0.6500555467386129\n",
            "Results saved to /content/drive/MyDrive/history-skripsi/f1score-history/xlnet_wiki.txt\n"
          ]
        }
      ],
      "source": [
        "test_data = test_balMerg_df\n",
        "evaluate_f1score(test_data, xlnet_tokenizer, xlnet_model, \"/content/drive/MyDrive/history-skripsi/f1score-history/xlnet_wiki.txt\")"
      ]
    },
    {
      "cell_type": "code",
      "execution_count": null,
      "metadata": {
        "colab": {
          "base_uri": "https://localhost:8080/"
        },
        "id": "2ofQmaMR9VmE",
        "outputId": "6fb39fc7-0feb-4862-928e-9ad88d524e3d"
      },
      "outputs": [
        {
          "name": "stdout",
          "output_type": "stream",
          "text": [
            "       loss  accuracy  val_loss  val_accuracy\n",
            "0  0.681533  0.564326  0.658333      0.602938\n",
            "1  0.655474  0.614549  0.644936      0.638875\n",
            "2  0.646506  0.629625  0.635650      0.649250\n",
            "3  0.639427  0.640493  0.628526      0.658813\n",
            "4  0.635299  0.646299  0.622394      0.669813\n"
          ]
        }
      ],
      "source": [
        "save_history(xlnet_wiki_hist, \"/content/drive/MyDrive/history-skripsi/train-history/xlnet_wiki_history.csv\")"
      ]
    },
    {
      "cell_type": "code",
      "execution_count": null,
      "metadata": {
        "id": "hmScdjOr9ZUZ"
      },
      "outputs": [],
      "source": [
        "save_model(xlnet_model, \"/content/drive/MyDrive/history-skripsi/saved-model/xlnet_wiki.h5\")"
      ]
    },
    {
      "cell_type": "markdown",
      "metadata": {
        "id": "q04Kut5P3341"
      },
      "source": [
        "### 3. XLNet-Balance-Merge"
      ]
    },
    {
      "cell_type": "code",
      "execution_count": null,
      "metadata": {
        "id": "-KZ-SgNP8iR1"
      },
      "outputs": [],
      "source": [
        "base_name = 'rubakha/xlnet-new'\n",
        "xlnet_tokenizer, xlnet_model = load_model(base_name)"
      ]
    },
    {
      "cell_type": "code",
      "execution_count": null,
      "metadata": {
        "id": "_-cX6bU38mcl"
      },
      "outputs": [],
      "source": [
        "xlnet_model = create_model(xlnet_model)"
      ]
    },
    {
      "cell_type": "code",
      "execution_count": null,
      "metadata": {
        "colab": {
          "base_uri": "https://localhost:8080/"
        },
        "id": "HOjfJ3eA80KQ",
        "outputId": "f468e81f-a00c-454e-c369-0a2dcd7512d7"
      },
      "outputs": [
        {
          "name": "stdout",
          "output_type": "stream",
          "text": [
            "Model: \"model_1\"\n",
            "__________________________________________________________________________________________________\n",
            " Layer (type)                Output Shape                 Param #   Connected to                  \n",
            "==================================================================================================\n",
            " attention_mask (InputLayer  [(None, 256)]                0         []                            \n",
            " )                                                                                                \n",
            "                                                                                                  \n",
            " input_ids (InputLayer)      [(None, 256)]                0         []                            \n",
            "                                                                                                  \n",
            " tfxl_net_for_sequence_clas  TFXLNetForSequenceClassifi   1173135   ['attention_mask[0][0]',      \n",
            " sification_1 (TFXLNetForSe  cationOutput(loss=None, lo   42         'input_ids[0][0]']           \n",
            " quenceClassification)       gits=(None, 6),                                                      \n",
            "                              mems=((256, None, 768),                                             \n",
            "                              (256, None, 768),                                                   \n",
            "                              (256, None, 768),                                                   \n",
            "                              (256, None, 768),                                                   \n",
            "                              (256, None, 768),                                                   \n",
            "                              (256, None, 768),                                                   \n",
            "                              (256, None, 768),                                                   \n",
            "                              (256, None, 768),                                                   \n",
            "                              (256, None, 768),                                                   \n",
            "                              (256, None, 768),                                                   \n",
            "                              (256, None, 768),                                                   \n",
            "                              (256, None, 768)),                                                  \n",
            "                              hidden_states=None, atten                                           \n",
            "                             tions=None)                                                          \n",
            "                                                                                                  \n",
            " classifier (Dense)          (None, 1)                    7         ['tfxl_net_for_sequence_classi\n",
            "                                                                    fication_1[0][0]']            \n",
            "                                                                                                  \n",
            "==================================================================================================\n",
            "Total params: 117313549 (447.52 MB)\n",
            "Trainable params: 7 (28.00 Byte)\n",
            "Non-trainable params: 117313542 (447.52 MB)\n",
            "__________________________________________________________________________________________________\n"
          ]
        }
      ],
      "source": [
        "xlnet_model.summary()"
      ]
    },
    {
      "cell_type": "code",
      "execution_count": null,
      "metadata": {
        "colab": {
          "base_uri": "https://localhost:8080/"
        },
        "id": "IPIcWdFs84ss",
        "outputId": "2c3ad7ba-29ae-422f-da9d-1ea602b0e114"
      },
      "outputs": [
        {
          "name": "stdout",
          "output_type": "stream",
          "text": [
            "{'input_ids': <tf.Tensor: shape=(28000, 256), dtype=int32, numpy=\n",
            "array([[    5,     5,     5, ...,     9,     4,     3],\n",
            "       [ 1173, 11256, 10698, ...,   237,     4,     3],\n",
            "       [    5,     5,     5, ...,     9,     4,     3],\n",
            "       ...,\n",
            "       [  122,  1200,  7579, ...,   131,     4,     3],\n",
            "       [    5,     5,     5, ...,     9,     4,     3],\n",
            "       [    5,     5,     5, ...,     9,     4,     3]], dtype=int32)>, 'attention_mask': <tf.Tensor: shape=(28000, 256), dtype=int32, numpy=\n",
            "array([[0, 0, 0, ..., 1, 1, 1],\n",
            "       [1, 1, 1, ..., 1, 1, 1],\n",
            "       [0, 0, 0, ..., 1, 1, 1],\n",
            "       ...,\n",
            "       [1, 1, 1, ..., 1, 1, 1],\n",
            "       [0, 0, 0, ..., 1, 1, 1],\n",
            "       [0, 0, 0, ..., 1, 1, 1]], dtype=int32)>}\n",
            "\n",
            "-------------START TRAINING-------------\n",
            "\n",
            "Epoch 1/5\n",
            "219/219 [==============================] - 1060s 5s/step - loss: 0.9823 - accuracy: 0.4986 - val_loss: 0.7900 - val_accuracy: 0.4978\n",
            "Epoch 2/5\n",
            "219/219 [==============================] - 1034s 5s/step - loss: 0.7522 - accuracy: 0.4963 - val_loss: 0.7066 - val_accuracy: 0.5030\n",
            "Epoch 3/5\n",
            "219/219 [==============================] - 1035s 5s/step - loss: 0.7128 - accuracy: 0.5145 - val_loss: 0.6910 - val_accuracy: 0.5663\n",
            "Epoch 4/5\n",
            "219/219 [==============================] - 1033s 5s/step - loss: 0.6962 - accuracy: 0.5442 - val_loss: 0.6805 - val_accuracy: 0.5902\n",
            "Epoch 5/5\n",
            "219/219 [==============================] - 1034s 5s/step - loss: 0.6841 - accuracy: 0.5667 - val_loss: 0.6726 - val_accuracy: 0.5998\n"
          ]
        }
      ],
      "source": [
        "xlnet_balMerg_hist = train_model(xlnet_model, xlnet_tokenizer, train_balMerg_df, val_balMerg_df)"
      ]
    },
    {
      "cell_type": "code",
      "execution_count": null,
      "metadata": {
        "colab": {
          "base_uri": "https://localhost:8080/"
        },
        "id": "MPQI7m9d9R7q",
        "outputId": "e475e82f-21f9-4c1f-aa66-e49b69877526"
      },
      "outputs": [
        {
          "name": "stdout",
          "output_type": "stream",
          "text": [
            "188/188 [==============================] - 159s 810ms/step\n",
            "Precision: 0.5659041394335512\n",
            "Recall: 0.6926666666666667\n",
            "F1 Score: 0.6229016786570744\n",
            "Results saved to /content/drive/MyDrive/history-skripsi/f1score-history/xlnet_balMerg.txt\n"
          ]
        }
      ],
      "source": [
        "test_data = test_balMerg_df\n",
        "evaluate_f1score(test_data, xlnet_tokenizer, xlnet_model, \"/content/drive/MyDrive/history-skripsi/f1score-history/xlnet_balMerg.txt\")"
      ]
    },
    {
      "cell_type": "code",
      "execution_count": null,
      "metadata": {
        "colab": {
          "base_uri": "https://localhost:8080/"
        },
        "id": "EmF2cv_A9WL2",
        "outputId": "284691f3-a33b-4d7c-e208-735c52e12467"
      },
      "outputs": [
        {
          "name": "stdout",
          "output_type": "stream",
          "text": [
            "       loss  accuracy  val_loss  val_accuracy\n",
            "0  0.982350  0.498643  0.789985      0.497833\n",
            "1  0.752209  0.496250  0.706602      0.503000\n",
            "2  0.712801  0.514500  0.691013      0.566333\n",
            "3  0.696158  0.544179  0.680460      0.590167\n",
            "4  0.684148  0.566750  0.672608      0.599833\n"
          ]
        }
      ],
      "source": [
        "save_history(xlnet_balMerg_hist, \"/content/drive/MyDrive/history-skripsi/train-history/xlnet_balMerg_history.csv\")"
      ]
    },
    {
      "cell_type": "code",
      "execution_count": null,
      "metadata": {
        "id": "5Yas1hwK9Z_b"
      },
      "outputs": [],
      "source": [
        "save_model(xlnet_model, \"/content/drive/MyDrive/history-skripsi/saved-model/xlnet_balMerg.h5\")"
      ]
    },
    {
      "cell_type": "markdown",
      "metadata": {
        "id": "HSML4pN93341"
      },
      "source": [
        "### 4. XLNet-Full-Merge"
      ]
    },
    {
      "cell_type": "code",
      "execution_count": null,
      "metadata": {
        "id": "Jx9SUCq48iqL"
      },
      "outputs": [],
      "source": [
        "base_name = 'rubakha/xlnet-new'\n",
        "xlnet_tokenizer, xlnet_model = load_model(base_name)"
      ]
    },
    {
      "cell_type": "code",
      "execution_count": null,
      "metadata": {
        "id": "OYqtJh7z8m2j"
      },
      "outputs": [],
      "source": [
        "xlnet_model = create_model(xlnet_model)"
      ]
    },
    {
      "cell_type": "code",
      "execution_count": null,
      "metadata": {
        "colab": {
          "base_uri": "https://localhost:8080/"
        },
        "id": "CZAlzCG880pe",
        "outputId": "fca5e7f4-1cc6-43ae-dc41-7fa1b64c4aed"
      },
      "outputs": [
        {
          "name": "stdout",
          "output_type": "stream",
          "text": [
            "Model: \"model\"\n",
            "__________________________________________________________________________________________________\n",
            " Layer (type)                Output Shape                 Param #   Connected to                  \n",
            "==================================================================================================\n",
            " attention_mask (InputLayer  [(None, 256)]                0         []                            \n",
            " )                                                                                                \n",
            "                                                                                                  \n",
            " input_ids (InputLayer)      [(None, 256)]                0         []                            \n",
            "                                                                                                  \n",
            " tfxl_net_for_sequence_clas  TFXLNetForSequenceClassifi   1173135   ['attention_mask[0][0]',      \n",
            " sification (TFXLNetForSequ  cationOutput(loss=None, lo   42         'input_ids[0][0]']           \n",
            " enceClassification)         gits=(None, 6),                                                      \n",
            "                              mems=((256, None, 768),                                             \n",
            "                              (256, None, 768),                                                   \n",
            "                              (256, None, 768),                                                   \n",
            "                              (256, None, 768),                                                   \n",
            "                              (256, None, 768),                                                   \n",
            "                              (256, None, 768),                                                   \n",
            "                              (256, None, 768),                                                   \n",
            "                              (256, None, 768),                                                   \n",
            "                              (256, None, 768),                                                   \n",
            "                              (256, None, 768),                                                   \n",
            "                              (256, None, 768),                                                   \n",
            "                              (256, None, 768)),                                                  \n",
            "                              hidden_states=None, atten                                           \n",
            "                             tions=None)                                                          \n",
            "                                                                                                  \n",
            " classifier (Dense)          (None, 1)                    7         ['tfxl_net_for_sequence_classi\n",
            "                                                                    fication[0][0]']              \n",
            "                                                                                                  \n",
            "==================================================================================================\n",
            "Total params: 117313549 (447.52 MB)\n",
            "Trainable params: 7 (28.00 Byte)\n",
            "Non-trainable params: 117313542 (447.52 MB)\n",
            "__________________________________________________________________________________________________\n"
          ]
        }
      ],
      "source": [
        "xlnet_model.summary()"
      ]
    },
    {
      "cell_type": "code",
      "execution_count": null,
      "metadata": {
        "colab": {
          "base_uri": "https://localhost:8080/"
        },
        "id": "JUHfVFr285L0",
        "outputId": "21e77f95-d169-4042-8e67-7b3ff0a52d7f"
      },
      "outputs": [
        {
          "name": "stdout",
          "output_type": "stream",
          "text": [
            "{'input_ids': <tf.Tensor: shape=(158000, 256), dtype=int32, numpy=\n",
            "array([[    5,     5,     5, ...,     9,     4,     3],\n",
            "       [ 1173, 11256, 10698, ...,   237,     4,     3],\n",
            "       [    5,     5,     5, ...,     9,     4,     3],\n",
            "       ...,\n",
            "       [  122,  1200,  7579, ...,   131,     4,     3],\n",
            "       [    5,     5,     5, ...,     9,     4,     3],\n",
            "       [    5,     5,     5, ...,     9,     4,     3]], dtype=int32)>, 'attention_mask': <tf.Tensor: shape=(158000, 256), dtype=int32, numpy=\n",
            "array([[0, 0, 0, ..., 1, 1, 1],\n",
            "       [1, 1, 1, ..., 1, 1, 1],\n",
            "       [0, 0, 0, ..., 1, 1, 1],\n",
            "       ...,\n",
            "       [1, 1, 1, ..., 1, 1, 1],\n",
            "       [0, 0, 0, ..., 1, 1, 1],\n",
            "       [0, 0, 0, ..., 1, 1, 1]], dtype=int32)>}\n",
            "\n",
            "-------------START TRAINING-------------\n",
            "\n",
            "Epoch 1/5\n",
            "1235/1235 [==============================] - 5712s 5s/step - loss: 0.7006 - accuracy: 0.5574 - val_loss: 0.6636 - val_accuracy: 0.6055\n",
            "Epoch 2/5\n",
            "1235/1235 [==============================] - 5672s 5s/step - loss: 0.6598 - accuracy: 0.6084 - val_loss: 0.6499 - val_accuracy: 0.6289\n",
            "Epoch 3/5\n",
            "1235/1235 [==============================] - 5674s 5s/step - loss: 0.6504 - accuracy: 0.6255 - val_loss: 0.6410 - val_accuracy: 0.6425\n",
            "Epoch 4/5\n",
            "1235/1235 [==============================] - 5674s 5s/step - loss: 0.6449 - accuracy: 0.6341 - val_loss: 0.6347 - val_accuracy: 0.6518\n",
            "Epoch 5/5\n",
            "1235/1235 [==============================] - 5675s 5s/step - loss: 0.6402 - accuracy: 0.6420 - val_loss: 0.6295 - val_accuracy: 0.6594\n"
          ]
        }
      ],
      "source": [
        "xlnet_fullMerg_hist = train_model(xlnet_model, xlnet_tokenizer, train_fullMerg_df, val_fullMerg_df)"
      ]
    },
    {
      "cell_type": "code",
      "execution_count": null,
      "metadata": {
        "colab": {
          "base_uri": "https://localhost:8080/"
        },
        "id": "_q5U67ue9Sob",
        "outputId": "5633e57c-f7c6-4ec0-c321-d890c15d2d52"
      },
      "outputs": [
        {
          "name": "stdout",
          "output_type": "stream",
          "text": [
            "188/188 [==============================] - 167s 851ms/step\n",
            "Precision: 0.6208489748772741\n",
            "Recall: 0.7166666666666667\n",
            "F1 Score: 0.6653257001392542\n",
            "Results saved to /content/drive/MyDrive/history-skripsi/f1score-history/xlnet_fullMerg.txt\n"
          ]
        }
      ],
      "source": [
        "test_data = test_balMerg_df\n",
        "evaluate_f1score(test_data, xlnet_tokenizer, xlnet_model, \"/content/drive/MyDrive/history-skripsi/f1score-history/xlnet_fullMerg.txt\")"
      ]
    },
    {
      "cell_type": "code",
      "execution_count": null,
      "metadata": {
        "id": "C0mYP2yd9WtL"
      },
      "outputs": [],
      "source": [
        "save_history(xlnet_fullMerg_hist, \"/content/drive/MyDrive/history-skripsi/train-history/xlnet_fullMerg_history.csv\")"
      ]
    },
    {
      "cell_type": "code",
      "execution_count": null,
      "metadata": {
        "id": "omFQfu0I9amz"
      },
      "outputs": [],
      "source": [
        "save_model(xlnet_model, \"/content/drive/MyDrive/history-skripsi/saved-model/xlnet_fullMerg.h5\")"
      ]
    },
    {
      "cell_type": "markdown",
      "metadata": {
        "id": "AsVdmpsDavEc"
      },
      "source": [
        "## ERNIE Model Training"
      ]
    },
    {
      "cell_type": "markdown",
      "metadata": {
        "id": "r0C4cvK8a0VR"
      },
      "source": [
        "### 1. ERNIE-Abstract"
      ]
    },
    {
      "cell_type": "code",
      "execution_count": null,
      "metadata": {
        "id": "aFR_yYwfbj_I"
      },
      "outputs": [],
      "source": [
        "base_name = 'seamew/THUCNews_ernie'\n",
        "ernie_tokenizer, ernie_model = load_model(base_name)"
      ]
    },
    {
      "cell_type": "code",
      "execution_count": null,
      "metadata": {
        "id": "87pr04jkcIof"
      },
      "outputs": [],
      "source": [
        "ernie_model = create_model(ernie_model)"
      ]
    },
    {
      "cell_type": "code",
      "execution_count": null,
      "metadata": {
        "colab": {
          "base_uri": "https://localhost:8080/"
        },
        "id": "B_EfoemDcQso",
        "outputId": "bf62f53a-ee8f-4901-b004-4c9c0c1d6620"
      },
      "outputs": [
        {
          "name": "stdout",
          "output_type": "stream",
          "text": [
            "Model: \"model\"\n",
            "__________________________________________________________________________________________________\n",
            " Layer (type)                Output Shape                 Param #   Connected to                  \n",
            "==================================================================================================\n",
            " attention_mask (InputLayer  [(None, 256)]                0         []                            \n",
            " )                                                                                                \n",
            "                                                                                                  \n",
            " input_ids (InputLayer)      [(None, 256)]                0         []                            \n",
            "                                                                                                  \n",
            " tf_bert_for_sequence_class  TFSequenceClassifierOutput   9987380   ['attention_mask[0][0]',      \n",
            " ification (TFBertForSequen  (loss=None, logits=(None,    2          'input_ids[0][0]']           \n",
            " ceClassification)           10),                                                                 \n",
            "                              hidden_states=None, atten                                           \n",
            "                             tions=None)                                                          \n",
            "                                                                                                  \n",
            " classifier (Dense)          (None, 1)                    11        ['tf_bert_for_sequence_classif\n",
            "                                                                    ication[0][0]']               \n",
            "                                                                                                  \n",
            "==================================================================================================\n",
            "Total params: 99873813 (380.99 MB)\n",
            "Trainable params: 11 (44.00 Byte)\n",
            "Non-trainable params: 99873802 (380.99 MB)\n",
            "__________________________________________________________________________________________________\n"
          ]
        }
      ],
      "source": [
        "ernie_model.summary()"
      ]
    },
    {
      "cell_type": "code",
      "execution_count": null,
      "metadata": {
        "colab": {
          "base_uri": "https://localhost:8080/"
        },
        "id": "u-TPVQlhdRR-",
        "outputId": "82c49bba-8874-4cca-c60f-587f2df0fe77"
      },
      "outputs": [
        {
          "name": "stdout",
          "output_type": "stream",
          "text": [
            "{'input_ids': <tf.Tensor: shape=(14000, 256), dtype=int32, numpy=\n",
            "array([[    1,  4850,  9749, ..., 11452,  1499,     2],\n",
            "       [    1,  2089,  3730, ..., 11617, 10032,     2],\n",
            "       [    1,  4675, 17963, ..., 17963,  1904,     2],\n",
            "       ...,\n",
            "       [    1,  3730, 10649, ...,  1662,  8368,     2],\n",
            "       [    0,     0,     0, ...,  3777,    42,     2],\n",
            "       [    0,     0,     0, ...,  9478,    42,     2]], dtype=int32)>, 'attention_mask': <tf.Tensor: shape=(14000, 256), dtype=int32, numpy=\n",
            "array([[1, 1, 1, ..., 1, 1, 1],\n",
            "       [1, 1, 1, ..., 1, 1, 1],\n",
            "       [1, 1, 1, ..., 1, 1, 1],\n",
            "       ...,\n",
            "       [1, 1, 1, ..., 1, 1, 1],\n",
            "       [0, 0, 0, ..., 1, 1, 1],\n",
            "       [0, 0, 0, ..., 1, 1, 1]], dtype=int32)>}\n",
            "\n",
            "-------------START TRAINING-------------\n",
            "\n",
            "Epoch 1/5\n",
            "110/110 [==============================] - 353s 3s/step - loss: 1.5597 - accuracy: 0.5014 - val_loss: 1.4603 - val_accuracy: 0.5010\n",
            "Epoch 2/5\n",
            "110/110 [==============================] - 311s 3s/step - loss: 1.0611 - accuracy: 0.5015 - val_loss: 0.9938 - val_accuracy: 0.5090\n",
            "Epoch 3/5\n",
            "110/110 [==============================] - 311s 3s/step - loss: 0.8197 - accuracy: 0.5077 - val_loss: 0.7997 - val_accuracy: 0.5293\n",
            "Epoch 4/5\n",
            "110/110 [==============================] - 310s 3s/step - loss: 0.7528 - accuracy: 0.5223 - val_loss: 0.7426 - val_accuracy: 0.5460\n",
            "Epoch 5/5\n",
            "110/110 [==============================] - 310s 3s/step - loss: 0.7387 - accuracy: 0.5251 - val_loss: 0.7234 - val_accuracy: 0.5580\n"
          ]
        }
      ],
      "source": [
        "ernie_abstract_hist = train_model(ernie_model, ernie_tokenizer, train_abstract_df, val_abstract_df)"
      ]
    },
    {
      "cell_type": "code",
      "execution_count": null,
      "metadata": {
        "colab": {
          "base_uri": "https://localhost:8080/"
        },
        "id": "mFeDAs2ZlZNu",
        "outputId": "568c27f7-2f90-42c7-d523-c3d78e9ac7ce"
      },
      "outputs": [
        {
          "name": "stdout",
          "output_type": "stream",
          "text": [
            "188/188 [==============================] - 109s 531ms/step\n",
            "Precision: 0.522300036859565\n",
            "Recall: 0.4723333333333333\n",
            "F1 Score: 0.49606161386311914\n",
            "Results saved to /content/drive/MyDrive/history-skripsi/f1score-history/ernie_abstract.txt\n"
          ]
        }
      ],
      "source": [
        "test_data = test_balMerg_df\n",
        "evaluate_f1score(test_data, ernie_tokenizer, ernie_model, \"/content/drive/MyDrive/history-skripsi/f1score-history/ernie_abstract.txt\")"
      ]
    },
    {
      "cell_type": "code",
      "execution_count": null,
      "metadata": {
        "colab": {
          "base_uri": "https://localhost:8080/"
        },
        "id": "24inaLPBlfA9",
        "outputId": "94e96ba1-1110-4d26-e7b8-8061c04e1dc8"
      },
      "outputs": [
        {
          "name": "stdout",
          "output_type": "stream",
          "text": [
            "       loss  accuracy  val_loss  val_accuracy\n",
            "0  1.559722  0.501429  1.460291      0.501000\n",
            "1  1.061074  0.501500  0.993786      0.509000\n",
            "2  0.819745  0.507714  0.799731      0.529333\n",
            "3  0.752833  0.522286  0.742585      0.546000\n",
            "4  0.738667  0.525071  0.723356      0.558000\n"
          ]
        }
      ],
      "source": [
        "save_history(ernie_abstract_hist, \"/content/drive/MyDrive/history-skripsi/train-history/ernie_abstract_history.csv\")"
      ]
    },
    {
      "cell_type": "code",
      "execution_count": null,
      "metadata": {
        "id": "Wyxx-z5ymSIc"
      },
      "outputs": [],
      "source": [
        "save_model(ernie_model, \"/content/drive/MyDrive/history-skripsi/saved-model/ernie_abstract.h5\")"
      ]
    },
    {
      "cell_type": "markdown",
      "metadata": {
        "id": "YV3ILUyQa68x"
      },
      "source": [
        "### 2. ERNIE-Wiki"
      ]
    },
    {
      "cell_type": "code",
      "execution_count": null,
      "metadata": {
        "id": "Knw0eKg3Cdjl"
      },
      "outputs": [],
      "source": [
        "base_name = 'seamew/THUCNews_ernie'\n",
        "ernie_tokenizer, ernie_model = load_model(base_name)"
      ]
    },
    {
      "cell_type": "code",
      "execution_count": null,
      "metadata": {
        "id": "EVIiDxnVCdjm"
      },
      "outputs": [],
      "source": [
        "ernie_model = create_model(ernie_model)"
      ]
    },
    {
      "cell_type": "code",
      "execution_count": null,
      "metadata": {
        "colab": {
          "base_uri": "https://localhost:8080/"
        },
        "id": "vTPS-ZxSCdjn",
        "outputId": "cf6d4ad6-6b24-4a9b-e4d3-30c3bcbb090e"
      },
      "outputs": [
        {
          "name": "stdout",
          "output_type": "stream",
          "text": [
            "Model: \"model_1\"\n",
            "__________________________________________________________________________________________________\n",
            " Layer (type)                Output Shape                 Param #   Connected to                  \n",
            "==================================================================================================\n",
            " attention_mask (InputLayer  [(None, 256)]                0         []                            \n",
            " )                                                                                                \n",
            "                                                                                                  \n",
            " input_ids (InputLayer)      [(None, 256)]                0         []                            \n",
            "                                                                                                  \n",
            " tf_bert_for_sequence_class  TFSequenceClassifierOutput   9987380   ['attention_mask[0][0]',      \n",
            " ification_1 (TFBertForSequ  (loss=None, logits=(None,    2          'input_ids[0][0]']           \n",
            " enceClassification)         10),                                                                 \n",
            "                              hidden_states=None, atten                                           \n",
            "                             tions=None)                                                          \n",
            "                                                                                                  \n",
            " classifier (Dense)          (None, 1)                    11        ['tf_bert_for_sequence_classif\n",
            "                                                                    ication_1[0][0]']             \n",
            "                                                                                                  \n",
            "==================================================================================================\n",
            "Total params: 99873813 (380.99 MB)\n",
            "Trainable params: 11 (44.00 Byte)\n",
            "Non-trainable params: 99873802 (380.99 MB)\n",
            "__________________________________________________________________________________________________\n"
          ]
        }
      ],
      "source": [
        "ernie_model.summary()"
      ]
    },
    {
      "cell_type": "code",
      "execution_count": null,
      "metadata": {
        "colab": {
          "base_uri": "https://localhost:8080/"
        },
        "id": "nUGFvy0ZCdjo",
        "outputId": "7343915b-fa13-425d-c83d-10bb2052ee3b"
      },
      "outputs": [
        {
          "name": "stdout",
          "output_type": "stream",
          "text": [
            "{'input_ids': <tf.Tensor: shape=(144000, 256), dtype=int32, numpy=\n",
            "array([[    1,  5219,  7004, ...,  9561,  6070,     2],\n",
            "       [    1,  5219,  7004, ...,  6474, 10131,     2],\n",
            "       [    1,  1499,  7102, ...,  9751,  4640,     2],\n",
            "       ...,\n",
            "       [    1,  5841,  9499, ..., 11898,  9570,     2],\n",
            "       [    1,  1499,  2775, ...,  9701,  9742,     2],\n",
            "       [    0,     0,     0, ..., 11272,    42,     2]], dtype=int32)>, 'attention_mask': <tf.Tensor: shape=(144000, 256), dtype=int32, numpy=\n",
            "array([[1, 1, 1, ..., 1, 1, 1],\n",
            "       [1, 1, 1, ..., 1, 1, 1],\n",
            "       [1, 1, 1, ..., 1, 1, 1],\n",
            "       ...,\n",
            "       [1, 1, 1, ..., 1, 1, 1],\n",
            "       [1, 1, 1, ..., 1, 1, 1],\n",
            "       [0, 0, 0, ..., 1, 1, 1]], dtype=int32)>}\n",
            "\n",
            "-------------START TRAINING-------------\n",
            "\n",
            "Epoch 1/5\n",
            "1125/1125 [==============================] - 2774s 2s/step - loss: 0.7615 - accuracy: 0.5094 - val_loss: 0.6800 - val_accuracy: 0.5856\n",
            "Epoch 2/5\n",
            "1125/1125 [==============================] - 2750s 2s/step - loss: 0.6677 - accuracy: 0.5969 - val_loss: 0.6504 - val_accuracy: 0.6248\n",
            "Epoch 3/5\n",
            "1125/1125 [==============================] - 2749s 2s/step - loss: 0.6565 - accuracy: 0.6122 - val_loss: 0.6396 - val_accuracy: 0.6370\n",
            "Epoch 4/5\n",
            "1125/1125 [==============================] - 2748s 2s/step - loss: 0.6532 - accuracy: 0.6160 - val_loss: 0.6379 - val_accuracy: 0.6388\n",
            "Epoch 5/5\n",
            "1125/1125 [==============================] - 2747s 2s/step - loss: 0.6528 - accuracy: 0.6157 - val_loss: 0.6364 - val_accuracy: 0.6397\n"
          ]
        }
      ],
      "source": [
        "ernie_wiki_hist = train_model(ernie_model, ernie_tokenizer, train_wiki_df, val_wiki_df)"
      ]
    },
    {
      "cell_type": "code",
      "execution_count": null,
      "metadata": {
        "colab": {
          "base_uri": "https://localhost:8080/"
        },
        "id": "mJZNySa-Cdjp",
        "outputId": "5ce30177-31e1-448f-bf00-133ff73c631a"
      },
      "outputs": [
        {
          "name": "stdout",
          "output_type": "stream",
          "text": [
            "188/188 [==============================] - 104s 508ms/step\n",
            "Precision: 0.5838365071992568\n",
            "Recall: 0.419\n",
            "F1 Score: 0.4878711430234814\n",
            "Results saved to /content/drive/MyDrive/history-skripsi/f1score-history/ernie_wiki.txt\n"
          ]
        }
      ],
      "source": [
        "test_data = test_balMerg_df\n",
        "evaluate_f1score(test_data, ernie_tokenizer, ernie_model, \"/content/drive/MyDrive/history-skripsi/f1score-history/ernie_wiki.txt\")"
      ]
    },
    {
      "cell_type": "code",
      "execution_count": null,
      "metadata": {
        "colab": {
          "base_uri": "https://localhost:8080/"
        },
        "id": "IFFeeL_dCdjq",
        "outputId": "12e01591-327c-4e63-96da-9512b3d2c815"
      },
      "outputs": [
        {
          "name": "stdout",
          "output_type": "stream",
          "text": [
            "       loss  accuracy  val_loss  val_accuracy\n",
            "0  0.761479  0.509410  0.679959      0.585625\n",
            "1  0.667726  0.596917  0.650398      0.624750\n",
            "2  0.656533  0.612153  0.639566      0.637000\n",
            "3  0.653245  0.616035  0.637917      0.638750\n",
            "4  0.652846  0.615687  0.636357      0.639687\n"
          ]
        }
      ],
      "source": [
        "save_history(ernie_wiki_hist, \"/content/drive/MyDrive/history-skripsi/train-history/ernie_wiki_history.csv\")"
      ]
    },
    {
      "cell_type": "code",
      "execution_count": null,
      "metadata": {
        "id": "zbreWeIxCdjs"
      },
      "outputs": [],
      "source": [
        "save_model(ernie_model, \"/content/drive/MyDrive/history-skripsi/saved-model/ernie_wiki.h5\")"
      ]
    },
    {
      "cell_type": "markdown",
      "metadata": {
        "id": "hT89LESTa_L5"
      },
      "source": [
        "### 3. ERNIE-Balance-Merge"
      ]
    },
    {
      "cell_type": "code",
      "execution_count": null,
      "metadata": {
        "id": "uCfGVVJfCfsa"
      },
      "outputs": [],
      "source": [
        "base_name = 'seamew/THUCNews_ernie'\n",
        "ernie_tokenizer, ernie_model = load_model(base_name)"
      ]
    },
    {
      "cell_type": "code",
      "execution_count": null,
      "metadata": {
        "id": "yxUfmwGCCfsa"
      },
      "outputs": [],
      "source": [
        "ernie_model = create_model(ernie_model)"
      ]
    },
    {
      "cell_type": "code",
      "execution_count": null,
      "metadata": {
        "colab": {
          "base_uri": "https://localhost:8080/"
        },
        "id": "c9zjkS0pCfsb",
        "outputId": "a77ae0b7-63a8-4540-c7ab-b102b0fbdcee"
      },
      "outputs": [
        {
          "name": "stdout",
          "output_type": "stream",
          "text": [
            "Model: \"model_1\"\n",
            "__________________________________________________________________________________________________\n",
            " Layer (type)                Output Shape                 Param #   Connected to                  \n",
            "==================================================================================================\n",
            " attention_mask (InputLayer  [(None, 256)]                0         []                            \n",
            " )                                                                                                \n",
            "                                                                                                  \n",
            " input_ids (InputLayer)      [(None, 256)]                0         []                            \n",
            "                                                                                                  \n",
            " tf_bert_for_sequence_class  TFSequenceClassifierOutput   9987380   ['attention_mask[0][0]',      \n",
            " ification_1 (TFBertForSequ  (loss=None, logits=(None,    2          'input_ids[0][0]']           \n",
            " enceClassification)         10),                                                                 \n",
            "                              hidden_states=None, atten                                           \n",
            "                             tions=None)                                                          \n",
            "                                                                                                  \n",
            " classifier (Dense)          (None, 1)                    11        ['tf_bert_for_sequence_classif\n",
            "                                                                    ication_1[0][0]']             \n",
            "                                                                                                  \n",
            "==================================================================================================\n",
            "Total params: 99873813 (380.99 MB)\n",
            "Trainable params: 11 (44.00 Byte)\n",
            "Non-trainable params: 99873802 (380.99 MB)\n",
            "__________________________________________________________________________________________________\n"
          ]
        }
      ],
      "source": [
        "ernie_model.summary()"
      ]
    },
    {
      "cell_type": "code",
      "execution_count": null,
      "metadata": {
        "colab": {
          "base_uri": "https://localhost:8080/"
        },
        "id": "Ejn4YOsyCfsb",
        "outputId": "f3765450-9ce6-427c-9fee-3adb2b602632"
      },
      "outputs": [
        {
          "name": "stdout",
          "output_type": "stream",
          "text": [
            "{'input_ids': <tf.Tensor: shape=(28000, 256), dtype=int32, numpy=\n",
            "array([[    1,  5219,  7004, ...,  9561,  6070,     2],\n",
            "       [    1,  5219,  7004, ...,  6474, 10131,     2],\n",
            "       [    1,  1499,  7102, ...,  9751,  4640,     2],\n",
            "       ...,\n",
            "       [    1,  3730, 10649, ...,  1662,  8368,     2],\n",
            "       [    0,     0,     0, ...,  3777,    42,     2],\n",
            "       [    0,     0,     0, ...,  9478,    42,     2]], dtype=int32)>, 'attention_mask': <tf.Tensor: shape=(28000, 256), dtype=int32, numpy=\n",
            "array([[1, 1, 1, ..., 1, 1, 1],\n",
            "       [1, 1, 1, ..., 1, 1, 1],\n",
            "       [1, 1, 1, ..., 1, 1, 1],\n",
            "       ...,\n",
            "       [1, 1, 1, ..., 1, 1, 1],\n",
            "       [0, 0, 0, ..., 1, 1, 1],\n",
            "       [0, 0, 0, ..., 1, 1, 1]], dtype=int32)>}\n",
            "\n",
            "-------------START TRAINING-------------\n",
            "\n",
            "Epoch 1/5\n",
            "219/219 [==============================] - 654s 3s/step - loss: 1.2821 - accuracy: 0.4901 - val_loss: 1.0260 - val_accuracy: 0.4780\n",
            "Epoch 2/5\n",
            "219/219 [==============================] - 621s 3s/step - loss: 0.8229 - accuracy: 0.5002 - val_loss: 0.8221 - val_accuracy: 0.5012\n",
            "Epoch 3/5\n",
            "219/219 [==============================] - 621s 3s/step - loss: 0.7478 - accuracy: 0.5282 - val_loss: 0.7635 - val_accuracy: 0.5167\n",
            "Epoch 4/5\n",
            "219/219 [==============================] - 621s 3s/step - loss: 0.7210 - accuracy: 0.5359 - val_loss: 0.7312 - val_accuracy: 0.5240\n",
            "Epoch 5/5\n",
            "219/219 [==============================] - 621s 3s/step - loss: 0.7055 - accuracy: 0.5493 - val_loss: 0.7118 - val_accuracy: 0.5343\n"
          ]
        }
      ],
      "source": [
        "ernie_balMerg_hist = train_model(ernie_model, ernie_tokenizer, train_balMerg_df, val_balMerg_df)"
      ]
    },
    {
      "cell_type": "code",
      "execution_count": null,
      "metadata": {
        "colab": {
          "base_uri": "https://localhost:8080/"
        },
        "id": "pTn6A6CBCfsc",
        "outputId": "c34c5a37-77ee-4681-ac49-7e1b53804101"
      },
      "outputs": [
        {
          "name": "stdout",
          "output_type": "stream",
          "text": [
            "188/188 [==============================] - 109s 531ms/step\n",
            "Precision: 0.5322151224707136\n",
            "Recall: 0.6663333333333333\n",
            "F1 Score: 0.5917702782711664\n",
            "Results saved to /content/drive/MyDrive/history-skripsi/f1score-history/ernie_balMerg.txt\n"
          ]
        }
      ],
      "source": [
        "test_data = test_balMerg_df\n",
        "evaluate_f1score(test_data, ernie_tokenizer, ernie_model, \"/content/drive/MyDrive/history-skripsi/f1score-history/ernie_balMerg.txt\")"
      ]
    },
    {
      "cell_type": "code",
      "execution_count": null,
      "metadata": {
        "colab": {
          "base_uri": "https://localhost:8080/"
        },
        "id": "_Hfgqwq3Cfsc",
        "outputId": "1a256bc3-ebfa-4240-cfcc-b5d91a0b008b"
      },
      "outputs": [
        {
          "name": "stdout",
          "output_type": "stream",
          "text": [
            "       loss  accuracy  val_loss  val_accuracy\n",
            "0  1.282145  0.490143  1.026009      0.478000\n",
            "1  0.822874  0.500250  0.822095      0.501167\n",
            "2  0.747790  0.528214  0.763462      0.516667\n",
            "3  0.721039  0.535929  0.731217      0.524000\n",
            "4  0.705499  0.549250  0.711788      0.534333\n"
          ]
        }
      ],
      "source": [
        "save_history(ernie_balMerg_hist, \"/content/drive/MyDrive/history-skripsi/train-history/ernie_balMerg_history.csv\")"
      ]
    },
    {
      "cell_type": "code",
      "execution_count": null,
      "metadata": {
        "id": "TqVeNNoqCfsc"
      },
      "outputs": [],
      "source": [
        "save_model(ernie_model, \"/content/drive/MyDrive/history-skripsi/saved-model/ernie_balMerg.h5\")"
      ]
    },
    {
      "cell_type": "markdown",
      "metadata": {
        "id": "FYCwR4jzbDbT"
      },
      "source": [
        "### 4. ERNIE-Full-Merge"
      ]
    },
    {
      "cell_type": "code",
      "execution_count": null,
      "metadata": {
        "id": "N5KMWzVBCgrs"
      },
      "outputs": [],
      "source": [
        "base_name = 'seamew/THUCNews_ernie'\n",
        "ernie_tokenizer, ernie_model = load_model(base_name)"
      ]
    },
    {
      "cell_type": "code",
      "execution_count": null,
      "metadata": {
        "id": "XoiQ3U3OCgrt"
      },
      "outputs": [],
      "source": [
        "ernie_model = create_model(ernie_model)"
      ]
    },
    {
      "cell_type": "code",
      "execution_count": null,
      "metadata": {
        "colab": {
          "base_uri": "https://localhost:8080/"
        },
        "id": "Rszq7odRCgrt",
        "outputId": "1b048281-f40c-46f8-da92-fa74f3a63a12"
      },
      "outputs": [
        {
          "name": "stdout",
          "output_type": "stream",
          "text": [
            "Model: \"model\"\n",
            "__________________________________________________________________________________________________\n",
            " Layer (type)                Output Shape                 Param #   Connected to                  \n",
            "==================================================================================================\n",
            " attention_mask (InputLayer  [(None, 256)]                0         []                            \n",
            " )                                                                                                \n",
            "                                                                                                  \n",
            " input_ids (InputLayer)      [(None, 256)]                0         []                            \n",
            "                                                                                                  \n",
            " tf_bert_for_sequence_class  TFSequenceClassifierOutput   9987380   ['attention_mask[0][0]',      \n",
            " ification (TFBertForSequen  (loss=None, logits=(None,    2          'input_ids[0][0]']           \n",
            " ceClassification)           10),                                                                 \n",
            "                              hidden_states=None, atten                                           \n",
            "                             tions=None)                                                          \n",
            "                                                                                                  \n",
            " classifier (Dense)          (None, 1)                    11        ['tf_bert_for_sequence_classif\n",
            "                                                                    ication[0][0]']               \n",
            "                                                                                                  \n",
            "==================================================================================================\n",
            "Total params: 99873813 (380.99 MB)\n",
            "Trainable params: 11 (44.00 Byte)\n",
            "Non-trainable params: 99873802 (380.99 MB)\n",
            "__________________________________________________________________________________________________\n"
          ]
        }
      ],
      "source": [
        "ernie_model.summary()"
      ]
    },
    {
      "cell_type": "code",
      "execution_count": null,
      "metadata": {
        "colab": {
          "base_uri": "https://localhost:8080/"
        },
        "id": "3zj8IYPDCgrt",
        "outputId": "9f0027d3-7330-418b-b0b2-32499fa33ab0"
      },
      "outputs": [
        {
          "name": "stdout",
          "output_type": "stream",
          "text": [
            "{'input_ids': <tf.Tensor: shape=(158000, 256), dtype=int32, numpy=\n",
            "array([[    1,  5219,  7004, ...,  9561,  6070,     2],\n",
            "       [    1,  5219,  7004, ...,  6474, 10131,     2],\n",
            "       [    1,  1499,  7102, ...,  9751,  4640,     2],\n",
            "       ...,\n",
            "       [    1,  3730, 10649, ...,  1662,  8368,     2],\n",
            "       [    0,     0,     0, ...,  3777,    42,     2],\n",
            "       [    0,     0,     0, ...,  9478,    42,     2]], dtype=int32)>, 'attention_mask': <tf.Tensor: shape=(158000, 256), dtype=int32, numpy=\n",
            "array([[1, 1, 1, ..., 1, 1, 1],\n",
            "       [1, 1, 1, ..., 1, 1, 1],\n",
            "       [1, 1, 1, ..., 1, 1, 1],\n",
            "       ...,\n",
            "       [1, 1, 1, ..., 1, 1, 1],\n",
            "       [0, 0, 0, ..., 1, 1, 1],\n",
            "       [0, 0, 0, ..., 1, 1, 1]], dtype=int32)>}\n",
            "\n",
            "-------------START TRAINING-------------\n",
            "\n",
            "Epoch 1/5\n",
            "1235/1235 [==============================] - 3126s 3s/step - loss: 0.7619 - accuracy: 0.5576 - val_loss: 0.6651 - val_accuracy: 0.5975\n",
            "Epoch 2/5\n",
            "1235/1235 [==============================] - 3086s 2s/step - loss: 0.6693 - accuracy: 0.5922 - val_loss: 0.6559 - val_accuracy: 0.6109\n",
            "Epoch 3/5\n",
            "1235/1235 [==============================] - 3084s 2s/step - loss: 0.6684 - accuracy: 0.5925 - val_loss: 0.6560 - val_accuracy: 0.6078\n",
            "Epoch 4/5\n",
            "1235/1235 [==============================] - 3085s 2s/step - loss: 0.6665 - accuracy: 0.5948 - val_loss: 0.6541 - val_accuracy: 0.6141\n",
            "Epoch 5/5\n",
            "1235/1235 [==============================] - 3087s 2s/step - loss: 0.6656 - accuracy: 0.5974 - val_loss: 0.6538 - val_accuracy: 0.6158\n"
          ]
        }
      ],
      "source": [
        "ernie_fullMerg_hist = train_model(ernie_model, ernie_tokenizer, train_fullMerg_df, val_fullMerg_df)"
      ]
    },
    {
      "cell_type": "code",
      "execution_count": null,
      "metadata": {
        "colab": {
          "base_uri": "https://localhost:8080/"
        },
        "id": "UcjjyorLCgru",
        "outputId": "7267e9fc-ecdd-4c1f-ea69-8dc03c1ee24e"
      },
      "outputs": [
        {
          "name": "stdout",
          "output_type": "stream",
          "text": [
            "188/188 [==============================] - 105s 510ms/step\n",
            "Precision: 0.5865058424425179\n",
            "Recall: 0.5186666666666667\n",
            "F1 Score: 0.5505041570847338\n",
            "Results saved to /content/drive/MyDrive/history-skripsi/f1score-history/ernie_fullMerg.txt\n"
          ]
        }
      ],
      "source": [
        "test_data = test_balMerg_df\n",
        "evaluate_f1score(test_data, ernie_tokenizer, ernie_model, \"/content/drive/MyDrive/history-skripsi/f1score-history/ernie_fullMerg.txt\")"
      ]
    },
    {
      "cell_type": "code",
      "execution_count": null,
      "metadata": {
        "colab": {
          "base_uri": "https://localhost:8080/"
        },
        "id": "mxhtYYz7Cgru",
        "outputId": "6876a796-4eb5-499e-c536-fd852abc98af"
      },
      "outputs": [
        {
          "name": "stdout",
          "output_type": "stream",
          "text": [
            "       loss  accuracy  val_loss  val_accuracy\n",
            "0  0.761884  0.557595  0.665119      0.597474\n",
            "1  0.669305  0.592247  0.655946      0.610947\n",
            "2  0.668380  0.592544  0.655959      0.607789\n",
            "3  0.666532  0.594804  0.654109      0.614105\n",
            "4  0.665569  0.597430  0.653764      0.615842\n"
          ]
        }
      ],
      "source": [
        "save_history(ernie_fullMerg_hist, \"/content/drive/MyDrive/history-skripsi/train-history/ernie_fullMerg_history.csv\")"
      ]
    },
    {
      "cell_type": "code",
      "execution_count": null,
      "metadata": {
        "id": "L_aqEwZ0Cgru"
      },
      "outputs": [],
      "source": [
        "save_model(ernie_model, \"/content/drive/MyDrive/history-skripsi/saved-model/ernie_fullMerg.h5\")"
      ]
    },
    {
      "cell_type": "markdown",
      "metadata": {
        "id": "iqIjS0nibLtB"
      },
      "source": [
        "## T5 Model Training"
      ]
    },
    {
      "cell_type": "markdown",
      "metadata": {
        "id": "YrwdRomzbOzA"
      },
      "source": [
        "### 1. T5-Abstract"
      ]
    },
    {
      "cell_type": "code",
      "execution_count": null,
      "metadata": {
        "id": "Zor2UwptmlvV"
      },
      "outputs": [],
      "source": [
        "base_name = 'michelecafagna26/t5-base-finetuned-sst2-sentiment'\n",
        "t5_tokenizer, t5_model = load_model(base_name, modelBase=TFT5EncoderModel)"
      ]
    },
    {
      "cell_type": "code",
      "execution_count": null,
      "metadata": {
        "id": "rWbOq_ETnKKe"
      },
      "outputs": [],
      "source": [
        "t5_model = create_model(t5_model, isT5=True)"
      ]
    },
    {
      "cell_type": "code",
      "execution_count": null,
      "metadata": {
        "colab": {
          "base_uri": "https://localhost:8080/"
        },
        "id": "CemiMOfQnRlw",
        "outputId": "e40f3b95-b5f4-4646-8d90-db3f1c1882d9"
      },
      "outputs": [
        {
          "name": "stdout",
          "output_type": "stream",
          "text": [
            "Model: \"model_3\"\n",
            "__________________________________________________________________________________________________\n",
            " Layer (type)                Output Shape                 Param #   Connected to                  \n",
            "==================================================================================================\n",
            " attention_mask (InputLayer  [(None, 256)]                0         []                            \n",
            " )                                                                                                \n",
            "                                                                                                  \n",
            " input_ids (InputLayer)      [(None, 256)]                0         []                            \n",
            "                                                                                                  \n",
            " tft5_encoder_model_2 (TFT5  TFBaseModelOutput(last_hid   1096285   ['attention_mask[0][0]',      \n",
            " EncoderModel)               den_state=(None, 256, 768)   44         'input_ids[0][0]']           \n",
            "                             , hidden_states=None, atte                                           \n",
            "                             ntions=None)                                                         \n",
            "                                                                                                  \n",
            " global_average_pooling1d_2  (None, 768)                  0         ['tft5_encoder_model_2[0][0]']\n",
            "  (GlobalAveragePooling1D)                                                                        \n",
            "                                                                                                  \n",
            " classifier (Dense)          (None, 1)                    769       ['global_average_pooling1d_2[0\n",
            "                                                                    ][0]']                        \n",
            "                                                                                                  \n",
            "==================================================================================================\n",
            "Total params: 109629313 (418.20 MB)\n",
            "Trainable params: 769 (3.00 KB)\n",
            "Non-trainable params: 109628544 (418.20 MB)\n",
            "__________________________________________________________________________________________________\n"
          ]
        }
      ],
      "source": [
        "t5_model.summary()"
      ]
    },
    {
      "cell_type": "code",
      "execution_count": null,
      "metadata": {
        "colab": {
          "base_uri": "https://localhost:8080/"
        },
        "id": "fSzViqunpvXJ",
        "outputId": "7e358f73-c932-495d-8883-ed2bb3c6a671"
      },
      "outputs": [
        {
          "name": "stdout",
          "output_type": "stream",
          "text": [
            "{'input_ids': <tf.Tensor: shape=(14000, 256), dtype=int32, numpy=\n",
            "array([[  638,   413,   697, ...,   125, 15439,     1],\n",
            "       [   86,    48,   810, ...,     6,    62,     1],\n",
            "       [ 1563,  1514,     2, ...,     2,    18,     1],\n",
            "       ...,\n",
            "       [  100,  1040,  6621, ...,     3,  4894,     1],\n",
            "       [    0,     0,     0, ...,    80,     5,     1],\n",
            "       [    0,     0,     0, ...,  5275,     5,     1]], dtype=int32)>, 'attention_mask': <tf.Tensor: shape=(14000, 256), dtype=int32, numpy=\n",
            "array([[1, 1, 1, ..., 1, 1, 1],\n",
            "       [1, 1, 1, ..., 1, 1, 1],\n",
            "       [1, 1, 1, ..., 1, 1, 1],\n",
            "       ...,\n",
            "       [1, 1, 1, ..., 1, 1, 1],\n",
            "       [0, 0, 0, ..., 1, 1, 1],\n",
            "       [0, 0, 0, ..., 1, 1, 1]], dtype=int32)>}\n",
            "\n",
            "-------------START TRAINING-------------\n",
            "\n",
            "Epoch 1/5\n",
            "110/110 [==============================] - 321s 3s/step - loss: 0.5835 - accuracy: 0.7699 - val_loss: 0.4846 - val_accuracy: 0.8463\n",
            "Epoch 2/5\n",
            "110/110 [==============================] - 288s 3s/step - loss: 0.4344 - accuracy: 0.8907 - val_loss: 0.3943 - val_accuracy: 0.8540\n",
            "Epoch 3/5\n",
            "110/110 [==============================] - 287s 3s/step - loss: 0.3583 - accuracy: 0.9081 - val_loss: 0.3339 - val_accuracy: 0.8777\n",
            "Epoch 4/5\n",
            "110/110 [==============================] - 287s 3s/step - loss: 0.3092 - accuracy: 0.9205 - val_loss: 0.2947 - val_accuracy: 0.8997\n",
            "Epoch 5/5\n",
            "110/110 [==============================] - 287s 3s/step - loss: 0.2750 - accuracy: 0.9294 - val_loss: 0.2743 - val_accuracy: 0.8990\n"
          ]
        }
      ],
      "source": [
        "t5_abstract_hist = train_model(t5_model, t5_tokenizer, train_abstract_df, val_abstract_df)"
      ]
    },
    {
      "cell_type": "code",
      "execution_count": null,
      "metadata": {
        "colab": {
          "base_uri": "https://localhost:8080/"
        },
        "id": "zWflqPmwp3xM",
        "outputId": "0e2d5b7a-f435-4740-e821-88fd4e7f7902"
      },
      "outputs": [
        {
          "name": "stdout",
          "output_type": "stream",
          "text": [
            "188/188 [==============================] - 100s 482ms/step\n",
            "Precision: 0.7419614147909968\n",
            "Recall: 0.923\n",
            "F1 Score: 0.8226381461675579\n",
            "Results saved to /content/drive/MyDrive/history-skripsi/f1score-history/t5_abstract.txt\n"
          ]
        }
      ],
      "source": [
        "test_data = test_balMerg_df\n",
        "evaluate_f1score(test_data, t5_tokenizer, t5_model, \"/content/drive/MyDrive/history-skripsi/f1score-history/t5_abstract.txt\")"
      ]
    },
    {
      "cell_type": "code",
      "execution_count": null,
      "metadata": {
        "colab": {
          "base_uri": "https://localhost:8080/"
        },
        "id": "y4itenkFqMax",
        "outputId": "71c8910b-254c-41cd-a928-f66f2b3f88ee"
      },
      "outputs": [
        {
          "name": "stdout",
          "output_type": "stream",
          "text": [
            "       loss  accuracy  val_loss  val_accuracy\n",
            "0  0.583533  0.769929  0.484587      0.846333\n",
            "1  0.434370  0.890714  0.394272      0.854000\n",
            "2  0.358287  0.908143  0.333935      0.877667\n",
            "3  0.309184  0.920500  0.294674      0.899667\n",
            "4  0.275022  0.929357  0.274339      0.899000\n"
          ]
        }
      ],
      "source": [
        "save_history(t5_abstract_hist, \"/content/drive/MyDrive/history-skripsi/train-history/t5_abstract_history.csv\")"
      ]
    },
    {
      "cell_type": "code",
      "execution_count": null,
      "metadata": {
        "id": "Lb7Xnd36qUe3"
      },
      "outputs": [],
      "source": [
        "save_model(t5_model, \"/content/drive/MyDrive/history-skripsi/saved-model/t5_abstract.h5\")"
      ]
    },
    {
      "cell_type": "markdown",
      "metadata": {
        "id": "oDQvNeQ4bSVA"
      },
      "source": [
        "### 2. T5-Wiki"
      ]
    },
    {
      "cell_type": "code",
      "execution_count": null,
      "metadata": {
        "id": "gZYhtT0cCnLb"
      },
      "outputs": [],
      "source": [
        "base_name = 'michelecafagna26/t5-base-finetuned-sst2-sentiment'\n",
        "t5_tokenizer, t5_model = load_model(base_name, modelBase=TFT5EncoderModel)"
      ]
    },
    {
      "cell_type": "code",
      "execution_count": null,
      "metadata": {
        "id": "Q3-qyLbjCnLv"
      },
      "outputs": [],
      "source": [
        "t5_model = create_model(t5_model, isT5=True)"
      ]
    },
    {
      "cell_type": "code",
      "execution_count": null,
      "metadata": {
        "colab": {
          "base_uri": "https://localhost:8080/"
        },
        "id": "AeSpyvRYCnLv",
        "outputId": "ad0e3b8f-3418-4a3e-93f2-804aa4837525"
      },
      "outputs": [
        {
          "name": "stdout",
          "output_type": "stream",
          "text": [
            "Model: \"model\"\n",
            "__________________________________________________________________________________________________\n",
            " Layer (type)                Output Shape                 Param #   Connected to                  \n",
            "==================================================================================================\n",
            " attention_mask (InputLayer  [(None, 256)]                0         []                            \n",
            " )                                                                                                \n",
            "                                                                                                  \n",
            " input_ids (InputLayer)      [(None, 256)]                0         []                            \n",
            "                                                                                                  \n",
            " tft5_encoder_model (TFT5En  TFBaseModelOutput(last_hid   1096285   ['attention_mask[0][0]',      \n",
            " coderModel)                 den_state=(None, 256, 768)   44         'input_ids[0][0]']           \n",
            "                             , hidden_states=None, atte                                           \n",
            "                             ntions=None)                                                         \n",
            "                                                                                                  \n",
            " global_average_pooling1d (  (None, 768)                  0         ['tft5_encoder_model[0][0]']  \n",
            " GlobalAveragePooling1D)                                                                          \n",
            "                                                                                                  \n",
            " classifier (Dense)          (None, 1)                    769       ['global_average_pooling1d[0][\n",
            "                                                                    0]']                          \n",
            "                                                                                                  \n",
            "==================================================================================================\n",
            "Total params: 109629313 (418.20 MB)\n",
            "Trainable params: 769 (3.00 KB)\n",
            "Non-trainable params: 109628544 (418.20 MB)\n",
            "__________________________________________________________________________________________________\n"
          ]
        }
      ],
      "source": [
        "t5_model.summary()"
      ]
    },
    {
      "cell_type": "code",
      "execution_count": null,
      "metadata": {
        "colab": {
          "base_uri": "https://localhost:8080/"
        },
        "id": "cv389x9sCnLv",
        "outputId": "182a931f-d43a-4dc9-b8ce-fd59d2786085"
      },
      "outputs": [
        {
          "name": "stdout",
          "output_type": "stream",
          "text": [
            "{'input_ids': <tf.Tensor: shape=(144000, 256), dtype=int32, numpy=\n",
            "array([[    0,     0,     0, ...,  3654,     5,     1],\n",
            "       [ 2549, 10711,  4232, ...,    16,   960,     1],\n",
            "       [    0,     0,     0, ...,   477,     5,     1],\n",
            "       ...,\n",
            "       [  961,    63,  4612, ...,    86,  5541,     1],\n",
            "       [   37,    19,     3, ...,    10,  3411,     1],\n",
            "       [    0,     0,     0, ..., 20325,     5,     1]], dtype=int32)>, 'attention_mask': <tf.Tensor: shape=(144000, 256), dtype=int32, numpy=\n",
            "array([[0, 0, 0, ..., 1, 1, 1],\n",
            "       [1, 1, 1, ..., 1, 1, 1],\n",
            "       [0, 0, 0, ..., 1, 1, 1],\n",
            "       ...,\n",
            "       [1, 1, 1, ..., 1, 1, 1],\n",
            "       [1, 1, 1, ..., 1, 1, 1],\n",
            "       [0, 0, 0, ..., 1, 1, 1]], dtype=int32)>}\n",
            "\n",
            "-------------START TRAINING-------------\n",
            "\n",
            "Epoch 1/5\n",
            "1125/1125 [==============================] - 2662s 2s/step - loss: 0.3053 - accuracy: 0.8754 - val_loss: 0.2257 - val_accuracy: 0.9250\n",
            "Epoch 2/5\n",
            "1125/1125 [==============================] - 2625s 2s/step - loss: 0.1687 - accuracy: 0.9501 - val_loss: 0.1774 - val_accuracy: 0.9341\n",
            "Epoch 3/5\n",
            "1125/1125 [==============================] - 2625s 2s/step - loss: 0.1271 - accuracy: 0.9639 - val_loss: 0.1744 - val_accuracy: 0.9282\n",
            "Epoch 4/5\n",
            "1125/1125 [==============================] - 2625s 2s/step - loss: 0.1059 - accuracy: 0.9694 - val_loss: 0.1691 - val_accuracy: 0.9281\n",
            "Epoch 5/5\n",
            "1125/1125 [==============================] - 2625s 2s/step - loss: 0.0932 - accuracy: 0.9720 - val_loss: 0.1556 - val_accuracy: 0.9350\n"
          ]
        }
      ],
      "source": [
        "t5_wiki_hist = train_model(t5_model, t5_tokenizer, train_wiki_df, val_wiki_df)"
      ]
    },
    {
      "cell_type": "code",
      "execution_count": null,
      "metadata": {
        "colab": {
          "base_uri": "https://localhost:8080/"
        },
        "id": "-4hNRm2uCnLw",
        "outputId": "cdc01020-7f01-4ea5-efe9-35c13436e0a6"
      },
      "outputs": [
        {
          "name": "stdout",
          "output_type": "stream",
          "text": [
            "188/188 [==============================] - 94s 454ms/step\n",
            "Precision: 0.8490264921800191\n",
            "Recall: 0.8866666666666667\n",
            "F1 Score: 0.867438447741725\n",
            "Results saved to /content/drive/MyDrive/history-skripsi/f1score-history/t5_wiki.txt\n"
          ]
        }
      ],
      "source": [
        "test_data = test_balMerg_df\n",
        "evaluate_f1score(test_data, t5_tokenizer, t5_model, \"/content/drive/MyDrive/history-skripsi/f1score-history/t5_wiki.txt\")"
      ]
    },
    {
      "cell_type": "code",
      "execution_count": null,
      "metadata": {
        "colab": {
          "base_uri": "https://localhost:8080/"
        },
        "id": "ivShJpdtCnLw",
        "outputId": "c98942bc-5dc9-4785-b119-122cb2987c91"
      },
      "outputs": [
        {
          "name": "stdout",
          "output_type": "stream",
          "text": [
            "       loss  accuracy  val_loss  val_accuracy\n",
            "0  0.305285  0.875444  0.225733      0.925000\n",
            "1  0.168739  0.950090  0.177389      0.934125\n",
            "2  0.127121  0.963931  0.174444      0.928187\n",
            "3  0.105878  0.969382  0.169067      0.928062\n",
            "4  0.093189  0.972049  0.155638      0.935000\n"
          ]
        }
      ],
      "source": [
        "save_history(t5_wiki_hist, \"/content/drive/MyDrive/history-skripsi/train-history/t5_wiki_history.csv\")"
      ]
    },
    {
      "cell_type": "code",
      "execution_count": null,
      "metadata": {
        "id": "eLzGyISMCnLx"
      },
      "outputs": [],
      "source": [
        "save_model(t5_model, \"/content/drive/MyDrive/history-skripsi/saved-model/t5_wiki.h5\")"
      ]
    },
    {
      "cell_type": "markdown",
      "metadata": {
        "id": "CyF5brGUbUz6"
      },
      "source": [
        "### 3. T5-Balance-Merge"
      ]
    },
    {
      "cell_type": "code",
      "execution_count": null,
      "metadata": {
        "id": "UsENzw2nCn0Y"
      },
      "outputs": [],
      "source": [
        "base_name = 'michelecafagna26/t5-base-finetuned-sst2-sentiment'\n",
        "t5_tokenizer, t5_model = load_model(base_name, modelBase=TFT5EncoderModel)"
      ]
    },
    {
      "cell_type": "code",
      "execution_count": null,
      "metadata": {
        "id": "-lEuVbctCn0Z"
      },
      "outputs": [],
      "source": [
        "t5_model = create_model(t5_model, isT5=True)"
      ]
    },
    {
      "cell_type": "code",
      "execution_count": null,
      "metadata": {
        "colab": {
          "base_uri": "https://localhost:8080/"
        },
        "id": "LxW1lmOGCn0Z",
        "outputId": "96e79547-dcfc-4035-bd46-dcf11979b017"
      },
      "outputs": [
        {
          "name": "stdout",
          "output_type": "stream",
          "text": [
            "Model: \"model_2\"\n",
            "__________________________________________________________________________________________________\n",
            " Layer (type)                Output Shape                 Param #   Connected to                  \n",
            "==================================================================================================\n",
            " attention_mask (InputLayer  [(None, 256)]                0         []                            \n",
            " )                                                                                                \n",
            "                                                                                                  \n",
            " input_ids (InputLayer)      [(None, 256)]                0         []                            \n",
            "                                                                                                  \n",
            " tft5_encoder_model_1 (TFT5  TFBaseModelOutput(last_hid   1096285   ['attention_mask[0][0]',      \n",
            " EncoderModel)               den_state=(None, 256, 768)   44         'input_ids[0][0]']           \n",
            "                             , hidden_states=None, atte                                           \n",
            "                             ntions=None)                                                         \n",
            "                                                                                                  \n",
            " global_average_pooling1d_1  (None, 768)                  0         ['tft5_encoder_model_1[0][0]']\n",
            "  (GlobalAveragePooling1D)                                                                        \n",
            "                                                                                                  \n",
            " classifier (Dense)          (None, 1)                    769       ['global_average_pooling1d_1[0\n",
            "                                                                    ][0]']                        \n",
            "                                                                                                  \n",
            "==================================================================================================\n",
            "Total params: 109629313 (418.20 MB)\n",
            "Trainable params: 769 (3.00 KB)\n",
            "Non-trainable params: 109628544 (418.20 MB)\n",
            "__________________________________________________________________________________________________\n"
          ]
        }
      ],
      "source": [
        "t5_model.summary()"
      ]
    },
    {
      "cell_type": "code",
      "execution_count": null,
      "metadata": {
        "colab": {
          "base_uri": "https://localhost:8080/"
        },
        "id": "alInqcjjCn0a",
        "outputId": "fc4c4748-9f55-43e7-e285-699a4aa8f3c0"
      },
      "outputs": [
        {
          "name": "stdout",
          "output_type": "stream",
          "text": [
            "{'input_ids': <tf.Tensor: shape=(28000, 256), dtype=int32, numpy=\n",
            "array([[    0,     0,     0, ...,  3654,     5,     1],\n",
            "       [ 2549, 10711,  4232, ...,    16,   960,     1],\n",
            "       [    0,     0,     0, ...,   477,     5,     1],\n",
            "       ...,\n",
            "       [  100,  1040,  6621, ...,     3,  4894,     1],\n",
            "       [    0,     0,     0, ...,    80,     5,     1],\n",
            "       [    0,     0,     0, ...,  5275,     5,     1]], dtype=int32)>, 'attention_mask': <tf.Tensor: shape=(28000, 256), dtype=int32, numpy=\n",
            "array([[0, 0, 0, ..., 1, 1, 1],\n",
            "       [1, 1, 1, ..., 1, 1, 1],\n",
            "       [0, 0, 0, ..., 1, 1, 1],\n",
            "       ...,\n",
            "       [1, 1, 1, ..., 1, 1, 1],\n",
            "       [0, 0, 0, ..., 1, 1, 1],\n",
            "       [0, 0, 0, ..., 1, 1, 1]], dtype=int32)>}\n",
            "\n",
            "-------------START TRAINING-------------\n",
            "\n",
            "Epoch 1/5\n",
            "219/219 [==============================] - 608s 3s/step - loss: 0.5207 - accuracy: 0.7723 - val_loss: 0.4289 - val_accuracy: 0.8333\n",
            "Epoch 2/5\n",
            "219/219 [==============================] - 575s 3s/step - loss: 0.3782 - accuracy: 0.8687 - val_loss: 0.3508 - val_accuracy: 0.8652\n",
            "Epoch 3/5\n",
            "219/219 [==============================] - 575s 3s/step - loss: 0.3115 - accuracy: 0.9000 - val_loss: 0.3038 - val_accuracy: 0.8840\n",
            "Epoch 4/5\n",
            "219/219 [==============================] - 575s 3s/step - loss: 0.2706 - accuracy: 0.9147 - val_loss: 0.2772 - val_accuracy: 0.8923\n",
            "Epoch 5/5\n",
            "219/219 [==============================] - 575s 3s/step - loss: 0.2417 - accuracy: 0.9248 - val_loss: 0.2615 - val_accuracy: 0.8980\n"
          ]
        }
      ],
      "source": [
        "t5_balMerg_hist = train_model(t5_model, t5_tokenizer, train_balMerg_df, val_balMerg_df)"
      ]
    },
    {
      "cell_type": "code",
      "execution_count": null,
      "metadata": {
        "colab": {
          "base_uri": "https://localhost:8080/"
        },
        "id": "x49EPYCSCn0a",
        "outputId": "ee0ae0b1-0b0a-4400-9a34-18acf74a7267"
      },
      "outputs": [
        {
          "name": "stdout",
          "output_type": "stream",
          "text": [
            "188/188 [==============================] - 99s 480ms/step\n",
            "Precision: 0.8430804863925883\n",
            "Recall: 0.9706666666666667\n",
            "F1 Score: 0.9023861171366595\n",
            "Results saved to /content/drive/MyDrive/history-skripsi/f1score-history/t5_balMerg.txt\n"
          ]
        }
      ],
      "source": [
        "test_data = test_balMerg_df\n",
        "evaluate_f1score(test_data, t5_tokenizer, t5_model, \"/content/drive/MyDrive/history-skripsi/f1score-history/t5_balMerg.txt\")"
      ]
    },
    {
      "cell_type": "code",
      "execution_count": null,
      "metadata": {
        "colab": {
          "base_uri": "https://localhost:8080/"
        },
        "id": "puNvz8OxCn0a",
        "outputId": "59d5658e-63dc-4554-d5c5-7995b716f7d0"
      },
      "outputs": [
        {
          "name": "stdout",
          "output_type": "stream",
          "text": [
            "       loss  accuracy  val_loss  val_accuracy\n",
            "0  0.520731  0.772321  0.428923      0.833333\n",
            "1  0.378170  0.868750  0.350767      0.865167\n",
            "2  0.311461  0.900036  0.303842      0.884000\n",
            "3  0.270647  0.914750  0.277154      0.892333\n",
            "4  0.241680  0.924786  0.261545      0.898000\n"
          ]
        }
      ],
      "source": [
        "save_history(t5_balMerg_hist, \"/content/drive/MyDrive/history-skripsi/train-history/t5_balMerg_history.csv\")"
      ]
    },
    {
      "cell_type": "code",
      "execution_count": null,
      "metadata": {
        "id": "x3jys5sTCn0a"
      },
      "outputs": [],
      "source": [
        "save_model(t5_model, \"/content/drive/MyDrive/history-skripsi/saved-model/t5_balMerg.h5\")"
      ]
    },
    {
      "cell_type": "markdown",
      "metadata": {
        "id": "vYNIr9QJbYa_"
      },
      "source": [
        "### 4. T5-Full-Merge"
      ]
    },
    {
      "cell_type": "code",
      "execution_count": null,
      "metadata": {
        "id": "Qx5fW7QDCogv"
      },
      "outputs": [],
      "source": [
        "base_name = 'michelecafagna26/t5-base-finetuned-sst2-sentiment'\n",
        "t5_tokenizer, t5_model = load_model(base_name, modelBase=TFT5EncoderModel)"
      ]
    },
    {
      "cell_type": "code",
      "execution_count": null,
      "metadata": {
        "id": "u3v5y-3kCogw"
      },
      "outputs": [],
      "source": [
        "t5_model = create_model(t5_model, isT5=True)"
      ]
    },
    {
      "cell_type": "code",
      "execution_count": null,
      "metadata": {
        "colab": {
          "base_uri": "https://localhost:8080/"
        },
        "id": "3dEof6JjCogw",
        "outputId": "c30fcd90-3961-4271-fe8d-16916aa77838"
      },
      "outputs": [
        {
          "name": "stdout",
          "output_type": "stream",
          "text": [
            "Model: \"model_1\"\n",
            "__________________________________________________________________________________________________\n",
            " Layer (type)                Output Shape                 Param #   Connected to                  \n",
            "==================================================================================================\n",
            " attention_mask (InputLayer  [(None, 256)]                0         []                            \n",
            " )                                                                                                \n",
            "                                                                                                  \n",
            " input_ids (InputLayer)      [(None, 256)]                0         []                            \n",
            "                                                                                                  \n",
            " tft5_encoder_model (TFT5En  TFBaseModelOutput(last_hid   1096285   ['attention_mask[0][0]',      \n",
            " coderModel)                 den_state=(None, 256, 768)   44         'input_ids[0][0]']           \n",
            "                             , hidden_states=None, atte                                           \n",
            "                             ntions=None)                                                         \n",
            "                                                                                                  \n",
            " global_average_pooling1d (  (None, 768)                  0         ['tft5_encoder_model[0][0]']  \n",
            " GlobalAveragePooling1D)                                                                          \n",
            "                                                                                                  \n",
            " classifier (Dense)          (None, 1)                    769       ['global_average_pooling1d[0][\n",
            "                                                                    0]']                          \n",
            "                                                                                                  \n",
            "==================================================================================================\n",
            "Total params: 109629313 (418.20 MB)\n",
            "Trainable params: 769 (3.00 KB)\n",
            "Non-trainable params: 109628544 (418.20 MB)\n",
            "__________________________________________________________________________________________________\n"
          ]
        }
      ],
      "source": [
        "t5_model.summary()"
      ]
    },
    {
      "cell_type": "code",
      "execution_count": null,
      "metadata": {
        "colab": {
          "base_uri": "https://localhost:8080/"
        },
        "id": "I247yCIwCogw",
        "outputId": "03ee4a93-2963-47e4-b5e8-f7eb08c58abf"
      },
      "outputs": [
        {
          "name": "stdout",
          "output_type": "stream",
          "text": [
            "{'input_ids': <tf.Tensor: shape=(158000, 256), dtype=int32, numpy=\n",
            "array([[    0,     0,     0, ...,  3654,     5,     1],\n",
            "       [ 2549, 10711,  4232, ...,    16,   960,     1],\n",
            "       [    0,     0,     0, ...,   477,     5,     1],\n",
            "       ...,\n",
            "       [  100,  1040,  6621, ...,     3,  4894,     1],\n",
            "       [    0,     0,     0, ...,    80,     5,     1],\n",
            "       [    0,     0,     0, ...,  5275,     5,     1]], dtype=int32)>, 'attention_mask': <tf.Tensor: shape=(158000, 256), dtype=int32, numpy=\n",
            "array([[0, 0, 0, ..., 1, 1, 1],\n",
            "       [1, 1, 1, ..., 1, 1, 1],\n",
            "       [0, 0, 0, ..., 1, 1, 1],\n",
            "       ...,\n",
            "       [1, 1, 1, ..., 1, 1, 1],\n",
            "       [0, 0, 0, ..., 1, 1, 1],\n",
            "       [0, 0, 0, ..., 1, 1, 1]], dtype=int32)>}\n",
            "\n",
            "-------------START TRAINING-------------\n",
            "\n",
            "Epoch 1/5\n",
            "1235/1235 [==============================] - 3050s 2s/step - loss: 0.3243 - accuracy: 0.8693 - val_loss: 0.2497 - val_accuracy: 0.9145\n",
            "Epoch 2/5\n",
            "1235/1235 [==============================] - 3015s 2s/step - loss: 0.1800 - accuracy: 0.9461 - val_loss: 0.2161 - val_accuracy: 0.9142\n",
            "Epoch 3/5\n",
            "1235/1235 [==============================] - 3015s 2s/step - loss: 0.1373 - accuracy: 0.9593 - val_loss: 0.1932 - val_accuracy: 0.9214\n",
            "Epoch 4/5\n",
            "1235/1235 [==============================] - 3016s 2s/step - loss: 0.1167 - accuracy: 0.9640 - val_loss: 0.1897 - val_accuracy: 0.9214\n",
            "Epoch 5/5\n",
            "1235/1235 [==============================] - 3016s 2s/step - loss: 0.1044 - accuracy: 0.9675 - val_loss: 0.1870 - val_accuracy: 0.9213\n"
          ]
        }
      ],
      "source": [
        "t5_fullMerg_hist = train_model(t5_model, t5_tokenizer, train_fullMerg_df, val_fullMerg_df)"
      ]
    },
    {
      "cell_type": "code",
      "execution_count": null,
      "metadata": {
        "colab": {
          "base_uri": "https://localhost:8080/"
        },
        "id": "TrkWTrkICogx",
        "outputId": "5616e1e1-279d-4384-885a-2484fcfc142b"
      },
      "outputs": [
        {
          "name": "stdout",
          "output_type": "stream",
          "text": [
            "188/188 [==============================] - 99s 481ms/step\n",
            "Precision: 0.8473998294970162\n",
            "Recall: 0.994\n",
            "F1 Score: 0.9148642429820525\n",
            "Results saved to /content/drive/MyDrive/history-skripsi/f1score-history/t5_fullMerg.txt\n"
          ]
        }
      ],
      "source": [
        "test_data = test_balMerg_df\n",
        "evaluate_f1score(test_data, t5_tokenizer, t5_model, \"/content/drive/MyDrive/history-skripsi/f1score-history/t5_fullMerg.txt\")"
      ]
    },
    {
      "cell_type": "code",
      "execution_count": null,
      "metadata": {
        "colab": {
          "base_uri": "https://localhost:8080/"
        },
        "id": "w0mJM4RNCogx",
        "outputId": "07e28064-8a0c-4754-9a79-3312b9d916b2"
      },
      "outputs": [
        {
          "name": "stdout",
          "output_type": "stream",
          "text": [
            "       loss  accuracy  val_loss  val_accuracy\n",
            "0  0.324349  0.869323  0.249727      0.914526\n",
            "1  0.179996  0.946051  0.216128      0.914158\n",
            "2  0.137300  0.959297  0.193172      0.921421\n",
            "3  0.116688  0.963968  0.189727      0.921368\n",
            "4  0.104366  0.967513  0.187026      0.921316\n"
          ]
        }
      ],
      "source": [
        "save_history(t5_fullMerg_hist, \"/content/drive/MyDrive/history-skripsi/train-history/t5_fullMerg_history.csv\")"
      ]
    },
    {
      "cell_type": "code",
      "execution_count": null,
      "metadata": {
        "id": "c_YQY0KTCogx"
      },
      "outputs": [],
      "source": [
        "save_model(t5_model, \"/content/drive/MyDrive/history-skripsi/saved-model/t5_fullMerg.h5\")"
      ]
    }
  ],
  "metadata": {
    "accelerator": "GPU",
    "colab": {
      "collapsed_sections": [
        "0_GcWEDeE09u",
        "FnEZQSYjE878",
        "Yx0s1i3mT8nJ",
        "28FlLoLzFDP0",
        "btB3DbgMFOhk",
        "p9Y_GYa9UC4e",
        "UHgd5yaeXKhv",
        "HLNdWSZx334i",
        "IT01tM-R334k",
        "LzGITyP4334k",
        "UxXSt_XO334l",
        "V8qJXaS9334u",
        "vwDUIR39334y",
        "Sz0euWkF334y",
        "3THLVstr3341",
        "q04Kut5P3341",
        "HSML4pN93341",
        "AsVdmpsDavEc",
        "r0C4cvK8a0VR",
        "YV3ILUyQa68x",
        "hT89LESTa_L5",
        "FYCwR4jzbDbT",
        "iqIjS0nibLtB",
        "YrwdRomzbOzA",
        "oDQvNeQ4bSVA",
        "CyF5brGUbUz6",
        "vYNIr9QJbYa_"
      ],
      "gpuType": "T4",
      "machine_shape": "hm",
      "provenance": []
    },
    "kernelspec": {
      "display_name": "Python 3",
      "name": "python3"
    },
    "language_info": {
      "codemirror_mode": {
        "name": "ipython",
        "version": 3
      },
      "file_extension": ".py",
      "mimetype": "text/x-python",
      "name": "python",
      "nbconvert_exporter": "python",
      "pygments_lexer": "ipython3",
      "version": "3.10.7"
    },
    "widgets": {
      "application/vnd.jupyter.widget-state+json": {
        "022b45bef5904e10b4b0941907f50747": {
          "model_module": "@jupyter-widgets/controls",
          "model_module_version": "1.5.0",
          "model_name": "HTMLModel",
          "state": {
            "_dom_classes": [],
            "_model_module": "@jupyter-widgets/controls",
            "_model_module_version": "1.5.0",
            "_model_name": "HTMLModel",
            "_view_count": null,
            "_view_module": "@jupyter-widgets/controls",
            "_view_module_version": "1.5.0",
            "_view_name": "HTMLView",
            "description": "",
            "description_tooltip": null,
            "layout": "IPY_MODEL_8e535cf0e10a401a8fce024f304f8e8d",
            "placeholder": "​",
            "style": "IPY_MODEL_1fafe044103f4f20b0a31977177d25f7",
            "value": "Downloading data: 100%"
          }
        },
        "0297bdf047a047afa195a1e469a53605": {
          "model_module": "@jupyter-widgets/controls",
          "model_module_version": "1.5.0",
          "model_name": "HBoxModel",
          "state": {
            "_dom_classes": [],
            "_model_module": "@jupyter-widgets/controls",
            "_model_module_version": "1.5.0",
            "_model_name": "HBoxModel",
            "_view_count": null,
            "_view_module": "@jupyter-widgets/controls",
            "_view_module_version": "1.5.0",
            "_view_name": "HBoxView",
            "box_style": "",
            "children": [
              "IPY_MODEL_20c91f94933f4652b82adb5c82bebbd8",
              "IPY_MODEL_142b6b2f9ff04fb994b3d1f96de3392f",
              "IPY_MODEL_d25d34a48eca4f67b9992685d22bdb37"
            ],
            "layout": "IPY_MODEL_8973eefd35c247fbbd0865b4fb061de5"
          }
        },
        "076d9ed96ebd4b3d822c181f2131c274": {
          "model_module": "@jupyter-widgets/base",
          "model_module_version": "1.2.0",
          "model_name": "LayoutModel",
          "state": {
            "_model_module": "@jupyter-widgets/base",
            "_model_module_version": "1.2.0",
            "_model_name": "LayoutModel",
            "_view_count": null,
            "_view_module": "@jupyter-widgets/base",
            "_view_module_version": "1.2.0",
            "_view_name": "LayoutView",
            "align_content": null,
            "align_items": null,
            "align_self": null,
            "border": null,
            "bottom": null,
            "display": null,
            "flex": null,
            "flex_flow": null,
            "grid_area": null,
            "grid_auto_columns": null,
            "grid_auto_flow": null,
            "grid_auto_rows": null,
            "grid_column": null,
            "grid_gap": null,
            "grid_row": null,
            "grid_template_areas": null,
            "grid_template_columns": null,
            "grid_template_rows": null,
            "height": null,
            "justify_content": null,
            "justify_items": null,
            "left": null,
            "margin": null,
            "max_height": null,
            "max_width": null,
            "min_height": null,
            "min_width": null,
            "object_fit": null,
            "object_position": null,
            "order": null,
            "overflow": null,
            "overflow_x": null,
            "overflow_y": null,
            "padding": null,
            "right": null,
            "top": null,
            "visibility": null,
            "width": null
          }
        },
        "07badbdf2364462f8cadd1fd5ccb9360": {
          "model_module": "@jupyter-widgets/controls",
          "model_module_version": "1.5.0",
          "model_name": "HBoxModel",
          "state": {
            "_dom_classes": [],
            "_model_module": "@jupyter-widgets/controls",
            "_model_module_version": "1.5.0",
            "_model_name": "HBoxModel",
            "_view_count": null,
            "_view_module": "@jupyter-widgets/controls",
            "_view_module_version": "1.5.0",
            "_view_name": "HBoxView",
            "box_style": "",
            "children": [
              "IPY_MODEL_4c9b2b5241ff4fc28d67dd74c7c98d86",
              "IPY_MODEL_c805f201f9834828ad927b04a7ec5385",
              "IPY_MODEL_f3d57a4caa6d4d1d903bbc8fa9c15ee2"
            ],
            "layout": "IPY_MODEL_bb759a2973064c31b2ac7e7787d3a730"
          }
        },
        "08948786bd3349969950c08560dc0da9": {
          "model_module": "@jupyter-widgets/controls",
          "model_module_version": "1.5.0",
          "model_name": "HBoxModel",
          "state": {
            "_dom_classes": [],
            "_model_module": "@jupyter-widgets/controls",
            "_model_module_version": "1.5.0",
            "_model_name": "HBoxModel",
            "_view_count": null,
            "_view_module": "@jupyter-widgets/controls",
            "_view_module_version": "1.5.0",
            "_view_name": "HBoxView",
            "box_style": "",
            "children": [
              "IPY_MODEL_7fbcea77bc9c4963b8f1a71716076fd9",
              "IPY_MODEL_1f5abaf1aa8a46e9b6cc4d2fcaac6813",
              "IPY_MODEL_79d70057bacb4cce906f41b4a2179154"
            ],
            "layout": "IPY_MODEL_eb7b7b659383490e9d731814ba8b4bae"
          }
        },
        "0a2e0e200d16439b8648bc2a6282fc16": {
          "model_module": "@jupyter-widgets/controls",
          "model_module_version": "1.5.0",
          "model_name": "HTMLModel",
          "state": {
            "_dom_classes": [],
            "_model_module": "@jupyter-widgets/controls",
            "_model_module_version": "1.5.0",
            "_model_name": "HTMLModel",
            "_view_count": null,
            "_view_module": "@jupyter-widgets/controls",
            "_view_module_version": "1.5.0",
            "_view_name": "HTMLView",
            "description": "",
            "description_tooltip": null,
            "layout": "IPY_MODEL_a0deb3721f2e4ac3b0de6517f5f7e678",
            "placeholder": "​",
            "style": "IPY_MODEL_b4a1f2d0ba3b41299ade4df77ccd4108",
            "value": "Downloading data: 100%"
          }
        },
        "0f9c38a71c4842c6a5fbaa34cb3c0b60": {
          "model_module": "@jupyter-widgets/base",
          "model_module_version": "1.2.0",
          "model_name": "LayoutModel",
          "state": {
            "_model_module": "@jupyter-widgets/base",
            "_model_module_version": "1.2.0",
            "_model_name": "LayoutModel",
            "_view_count": null,
            "_view_module": "@jupyter-widgets/base",
            "_view_module_version": "1.2.0",
            "_view_name": "LayoutView",
            "align_content": null,
            "align_items": null,
            "align_self": null,
            "border": null,
            "bottom": null,
            "display": null,
            "flex": null,
            "flex_flow": null,
            "grid_area": null,
            "grid_auto_columns": null,
            "grid_auto_flow": null,
            "grid_auto_rows": null,
            "grid_column": null,
            "grid_gap": null,
            "grid_row": null,
            "grid_template_areas": null,
            "grid_template_columns": null,
            "grid_template_rows": null,
            "height": null,
            "justify_content": null,
            "justify_items": null,
            "left": null,
            "margin": null,
            "max_height": null,
            "max_width": null,
            "min_height": null,
            "min_width": null,
            "object_fit": null,
            "object_position": null,
            "order": null,
            "overflow": null,
            "overflow_x": null,
            "overflow_y": null,
            "padding": null,
            "right": null,
            "top": null,
            "visibility": null,
            "width": null
          }
        },
        "133763c63fe743d095cf4da2451490be": {
          "model_module": "@jupyter-widgets/base",
          "model_module_version": "1.2.0",
          "model_name": "LayoutModel",
          "state": {
            "_model_module": "@jupyter-widgets/base",
            "_model_module_version": "1.2.0",
            "_model_name": "LayoutModel",
            "_view_count": null,
            "_view_module": "@jupyter-widgets/base",
            "_view_module_version": "1.2.0",
            "_view_name": "LayoutView",
            "align_content": null,
            "align_items": null,
            "align_self": null,
            "border": null,
            "bottom": null,
            "display": null,
            "flex": null,
            "flex_flow": null,
            "grid_area": null,
            "grid_auto_columns": null,
            "grid_auto_flow": null,
            "grid_auto_rows": null,
            "grid_column": null,
            "grid_gap": null,
            "grid_row": null,
            "grid_template_areas": null,
            "grid_template_columns": null,
            "grid_template_rows": null,
            "height": null,
            "justify_content": null,
            "justify_items": null,
            "left": null,
            "margin": null,
            "max_height": null,
            "max_width": null,
            "min_height": null,
            "min_width": null,
            "object_fit": null,
            "object_position": null,
            "order": null,
            "overflow": null,
            "overflow_x": null,
            "overflow_y": null,
            "padding": null,
            "right": null,
            "top": null,
            "visibility": null,
            "width": null
          }
        },
        "142b6b2f9ff04fb994b3d1f96de3392f": {
          "model_module": "@jupyter-widgets/controls",
          "model_module_version": "1.5.0",
          "model_name": "FloatProgressModel",
          "state": {
            "_dom_classes": [],
            "_model_module": "@jupyter-widgets/controls",
            "_model_module_version": "1.5.0",
            "_model_name": "FloatProgressModel",
            "_view_count": null,
            "_view_module": "@jupyter-widgets/controls",
            "_view_module_version": "1.5.0",
            "_view_name": "ProgressView",
            "bar_style": "success",
            "description": "",
            "description_tooltip": null,
            "layout": "IPY_MODEL_c496464675924e159a4d2bd6576efec4",
            "max": 45000,
            "min": 0,
            "orientation": "horizontal",
            "style": "IPY_MODEL_ea8c3d3bf7a742cea79a5b5f617121c2",
            "value": 45000
          }
        },
        "18a85e2adb5544108f7dd8cb1124c6bf": {
          "model_module": "@jupyter-widgets/controls",
          "model_module_version": "1.5.0",
          "model_name": "DescriptionStyleModel",
          "state": {
            "_model_module": "@jupyter-widgets/controls",
            "_model_module_version": "1.5.0",
            "_model_name": "DescriptionStyleModel",
            "_view_count": null,
            "_view_module": "@jupyter-widgets/base",
            "_view_module_version": "1.2.0",
            "_view_name": "StyleView",
            "description_width": ""
          }
        },
        "1f5abaf1aa8a46e9b6cc4d2fcaac6813": {
          "model_module": "@jupyter-widgets/controls",
          "model_module_version": "1.5.0",
          "model_name": "FloatProgressModel",
          "state": {
            "_dom_classes": [],
            "_model_module": "@jupyter-widgets/controls",
            "_model_module_version": "1.5.0",
            "_model_name": "FloatProgressModel",
            "_view_count": null,
            "_view_module": "@jupyter-widgets/controls",
            "_view_module_version": "1.5.0",
            "_view_name": "ProgressView",
            "bar_style": "success",
            "description": "",
            "description_tooltip": null,
            "layout": "IPY_MODEL_40bf61b95b214e139d78d2dcc791960a",
            "max": 27789378,
            "min": 0,
            "orientation": "horizontal",
            "style": "IPY_MODEL_456f0b1e22994e0f9caead0b0270d922",
            "value": 27789378
          }
        },
        "1fafe044103f4f20b0a31977177d25f7": {
          "model_module": "@jupyter-widgets/controls",
          "model_module_version": "1.5.0",
          "model_name": "DescriptionStyleModel",
          "state": {
            "_model_module": "@jupyter-widgets/controls",
            "_model_module_version": "1.5.0",
            "_model_name": "DescriptionStyleModel",
            "_view_count": null,
            "_view_module": "@jupyter-widgets/base",
            "_view_module_version": "1.2.0",
            "_view_name": "StyleView",
            "description_width": ""
          }
        },
        "20957e2416ef4dc6972465eba084f1cb": {
          "model_module": "@jupyter-widgets/base",
          "model_module_version": "1.2.0",
          "model_name": "LayoutModel",
          "state": {
            "_model_module": "@jupyter-widgets/base",
            "_model_module_version": "1.2.0",
            "_model_name": "LayoutModel",
            "_view_count": null,
            "_view_module": "@jupyter-widgets/base",
            "_view_module_version": "1.2.0",
            "_view_name": "LayoutView",
            "align_content": null,
            "align_items": null,
            "align_self": null,
            "border": null,
            "bottom": null,
            "display": null,
            "flex": null,
            "flex_flow": null,
            "grid_area": null,
            "grid_auto_columns": null,
            "grid_auto_flow": null,
            "grid_auto_rows": null,
            "grid_column": null,
            "grid_gap": null,
            "grid_row": null,
            "grid_template_areas": null,
            "grid_template_columns": null,
            "grid_template_rows": null,
            "height": null,
            "justify_content": null,
            "justify_items": null,
            "left": null,
            "margin": null,
            "max_height": null,
            "max_width": null,
            "min_height": null,
            "min_width": null,
            "object_fit": null,
            "object_position": null,
            "order": null,
            "overflow": null,
            "overflow_x": null,
            "overflow_y": null,
            "padding": null,
            "right": null,
            "top": null,
            "visibility": null,
            "width": null
          }
        },
        "20c91f94933f4652b82adb5c82bebbd8": {
          "model_module": "@jupyter-widgets/controls",
          "model_module_version": "1.5.0",
          "model_name": "HTMLModel",
          "state": {
            "_dom_classes": [],
            "_model_module": "@jupyter-widgets/controls",
            "_model_module_version": "1.5.0",
            "_model_name": "HTMLModel",
            "_view_count": null,
            "_view_module": "@jupyter-widgets/controls",
            "_view_module_version": "1.5.0",
            "_view_name": "HTMLView",
            "description": "",
            "description_tooltip": null,
            "layout": "IPY_MODEL_d536c7198ade4424a824494aba875a0c",
            "placeholder": "​",
            "style": "IPY_MODEL_9435a8890fae4374a24f3673472864ee",
            "value": "Generating test split: 100%"
          }
        },
        "218c6451989f4323b8bb0022421442e4": {
          "model_module": "@jupyter-widgets/base",
          "model_module_version": "1.2.0",
          "model_name": "LayoutModel",
          "state": {
            "_model_module": "@jupyter-widgets/base",
            "_model_module_version": "1.2.0",
            "_model_name": "LayoutModel",
            "_view_count": null,
            "_view_module": "@jupyter-widgets/base",
            "_view_module_version": "1.2.0",
            "_view_name": "LayoutView",
            "align_content": null,
            "align_items": null,
            "align_self": null,
            "border": null,
            "bottom": null,
            "display": null,
            "flex": null,
            "flex_flow": null,
            "grid_area": null,
            "grid_auto_columns": null,
            "grid_auto_flow": null,
            "grid_auto_rows": null,
            "grid_column": null,
            "grid_gap": null,
            "grid_row": null,
            "grid_template_areas": null,
            "grid_template_columns": null,
            "grid_template_rows": null,
            "height": null,
            "justify_content": null,
            "justify_items": null,
            "left": null,
            "margin": null,
            "max_height": null,
            "max_width": null,
            "min_height": null,
            "min_width": null,
            "object_fit": null,
            "object_position": null,
            "order": null,
            "overflow": null,
            "overflow_x": null,
            "overflow_y": null,
            "padding": null,
            "right": null,
            "top": null,
            "visibility": null,
            "width": null
          }
        },
        "23f4918716eb45e48a08d309d7015bc6": {
          "model_module": "@jupyter-widgets/controls",
          "model_module_version": "1.5.0",
          "model_name": "HBoxModel",
          "state": {
            "_dom_classes": [],
            "_model_module": "@jupyter-widgets/controls",
            "_model_module_version": "1.5.0",
            "_model_name": "HBoxModel",
            "_view_count": null,
            "_view_module": "@jupyter-widgets/controls",
            "_view_module_version": "1.5.0",
            "_view_name": "HBoxView",
            "box_style": "",
            "children": [
              "IPY_MODEL_4a90bddeda944e8aab75b49d38c2b8db",
              "IPY_MODEL_49f8fba6b4fb477fb29c756314bf9430",
              "IPY_MODEL_96dbb0522d464cbd8b6f8f5da5274bb1"
            ],
            "layout": "IPY_MODEL_857b32f334e24f698f4d3785caaafdfe"
          }
        },
        "288e54da33754212995d3fe071be6f26": {
          "model_module": "@jupyter-widgets/base",
          "model_module_version": "1.2.0",
          "model_name": "LayoutModel",
          "state": {
            "_model_module": "@jupyter-widgets/base",
            "_model_module_version": "1.2.0",
            "_model_name": "LayoutModel",
            "_view_count": null,
            "_view_module": "@jupyter-widgets/base",
            "_view_module_version": "1.2.0",
            "_view_name": "LayoutView",
            "align_content": null,
            "align_items": null,
            "align_self": null,
            "border": null,
            "bottom": null,
            "display": null,
            "flex": null,
            "flex_flow": null,
            "grid_area": null,
            "grid_auto_columns": null,
            "grid_auto_flow": null,
            "grid_auto_rows": null,
            "grid_column": null,
            "grid_gap": null,
            "grid_row": null,
            "grid_template_areas": null,
            "grid_template_columns": null,
            "grid_template_rows": null,
            "height": null,
            "justify_content": null,
            "justify_items": null,
            "left": null,
            "margin": null,
            "max_height": null,
            "max_width": null,
            "min_height": null,
            "min_width": null,
            "object_fit": null,
            "object_position": null,
            "order": null,
            "overflow": null,
            "overflow_x": null,
            "overflow_y": null,
            "padding": null,
            "right": null,
            "top": null,
            "visibility": null,
            "width": null
          }
        },
        "29252cc4384a4d06a20c4ab2beab8b0a": {
          "model_module": "@jupyter-widgets/base",
          "model_module_version": "1.2.0",
          "model_name": "LayoutModel",
          "state": {
            "_model_module": "@jupyter-widgets/base",
            "_model_module_version": "1.2.0",
            "_model_name": "LayoutModel",
            "_view_count": null,
            "_view_module": "@jupyter-widgets/base",
            "_view_module_version": "1.2.0",
            "_view_name": "LayoutView",
            "align_content": null,
            "align_items": null,
            "align_self": null,
            "border": null,
            "bottom": null,
            "display": null,
            "flex": null,
            "flex_flow": null,
            "grid_area": null,
            "grid_auto_columns": null,
            "grid_auto_flow": null,
            "grid_auto_rows": null,
            "grid_column": null,
            "grid_gap": null,
            "grid_row": null,
            "grid_template_areas": null,
            "grid_template_columns": null,
            "grid_template_rows": null,
            "height": null,
            "justify_content": null,
            "justify_items": null,
            "left": null,
            "margin": null,
            "max_height": null,
            "max_width": null,
            "min_height": null,
            "min_width": null,
            "object_fit": null,
            "object_position": null,
            "order": null,
            "overflow": null,
            "overflow_x": null,
            "overflow_y": null,
            "padding": null,
            "right": null,
            "top": null,
            "visibility": null,
            "width": null
          }
        },
        "29c568cfa1464e41ba807f3bec8e318e": {
          "model_module": "@jupyter-widgets/controls",
          "model_module_version": "1.5.0",
          "model_name": "HTMLModel",
          "state": {
            "_dom_classes": [],
            "_model_module": "@jupyter-widgets/controls",
            "_model_module_version": "1.5.0",
            "_model_name": "HTMLModel",
            "_view_count": null,
            "_view_module": "@jupyter-widgets/controls",
            "_view_module_version": "1.5.0",
            "_view_name": "HTMLView",
            "description": "",
            "description_tooltip": null,
            "layout": "IPY_MODEL_a3e7d56755c741919a03627638eef582",
            "placeholder": "​",
            "style": "IPY_MODEL_5ca8fda5e9d7408ba797a573b1b13f16",
            "value": " 3000/3000 [00:00&lt;00:00, 81825.18 examples/s]"
          }
        },
        "2a25d8bd814e4615ada926e99c7a4c80": {
          "model_module": "@jupyter-widgets/base",
          "model_module_version": "1.2.0",
          "model_name": "LayoutModel",
          "state": {
            "_model_module": "@jupyter-widgets/base",
            "_model_module_version": "1.2.0",
            "_model_name": "LayoutModel",
            "_view_count": null,
            "_view_module": "@jupyter-widgets/base",
            "_view_module_version": "1.2.0",
            "_view_name": "LayoutView",
            "align_content": null,
            "align_items": null,
            "align_self": null,
            "border": null,
            "bottom": null,
            "display": null,
            "flex": null,
            "flex_flow": null,
            "grid_area": null,
            "grid_auto_columns": null,
            "grid_auto_flow": null,
            "grid_auto_rows": null,
            "grid_column": null,
            "grid_gap": null,
            "grid_row": null,
            "grid_template_areas": null,
            "grid_template_columns": null,
            "grid_template_rows": null,
            "height": null,
            "justify_content": null,
            "justify_items": null,
            "left": null,
            "margin": null,
            "max_height": null,
            "max_width": null,
            "min_height": null,
            "min_width": null,
            "object_fit": null,
            "object_position": null,
            "order": null,
            "overflow": null,
            "overflow_x": null,
            "overflow_y": null,
            "padding": null,
            "right": null,
            "top": null,
            "visibility": null,
            "width": null
          }
        },
        "2ba3baebb1c34f8f831f10bffe802e36": {
          "model_module": "@jupyter-widgets/controls",
          "model_module_version": "1.5.0",
          "model_name": "HBoxModel",
          "state": {
            "_dom_classes": [],
            "_model_module": "@jupyter-widgets/controls",
            "_model_module_version": "1.5.0",
            "_model_name": "HBoxModel",
            "_view_count": null,
            "_view_module": "@jupyter-widgets/controls",
            "_view_module_version": "1.5.0",
            "_view_name": "HBoxView",
            "box_style": "",
            "children": [
              "IPY_MODEL_8ab1ff1e498a41a3b08bd0a9eb6c377f",
              "IPY_MODEL_9f5f87908ce44d63948e827d883435f0",
              "IPY_MODEL_6c620c548c944aa491ee6578b49a7367"
            ],
            "layout": "IPY_MODEL_98c98920b5334226be9ffd5b6939aeb8"
          }
        },
        "2bc6ae3ec9cf4fffb51b62c21f1cfe70": {
          "model_module": "@jupyter-widgets/controls",
          "model_module_version": "1.5.0",
          "model_name": "DescriptionStyleModel",
          "state": {
            "_model_module": "@jupyter-widgets/controls",
            "_model_module_version": "1.5.0",
            "_model_name": "DescriptionStyleModel",
            "_view_count": null,
            "_view_module": "@jupyter-widgets/base",
            "_view_module_version": "1.2.0",
            "_view_name": "StyleView",
            "description_width": ""
          }
        },
        "2cc38b7129d04bbcbb91361f7ff9676b": {
          "model_module": "@jupyter-widgets/controls",
          "model_module_version": "1.5.0",
          "model_name": "HTMLModel",
          "state": {
            "_dom_classes": [],
            "_model_module": "@jupyter-widgets/controls",
            "_model_module_version": "1.5.0",
            "_model_name": "HTMLModel",
            "_view_count": null,
            "_view_module": "@jupyter-widgets/controls",
            "_view_module_version": "1.5.0",
            "_view_name": "HTMLView",
            "description": "",
            "description_tooltip": null,
            "layout": "IPY_MODEL_5eb5a302f87f4bdf8d0742b719a4c390",
            "placeholder": "​",
            "style": "IPY_MODEL_9667384b77f542e8b85e3b8ae47a9554",
            "value": " 27.8M/27.8M [00:00&lt;00:00, 68.1MB/s]"
          }
        },
        "2d12661a0dec47ba9fbf60c4c8fd4a2a": {
          "model_module": "@jupyter-widgets/controls",
          "model_module_version": "1.5.0",
          "model_name": "HTMLModel",
          "state": {
            "_dom_classes": [],
            "_model_module": "@jupyter-widgets/controls",
            "_model_module_version": "1.5.0",
            "_model_name": "HTMLModel",
            "_view_count": null,
            "_view_module": "@jupyter-widgets/controls",
            "_view_module_version": "1.5.0",
            "_view_name": "HTMLView",
            "description": "",
            "description_tooltip": null,
            "layout": "IPY_MODEL_ae05542a08b5464aba971239bb5c322c",
            "placeholder": "​",
            "style": "IPY_MODEL_705242c7335a4e558b7f3fb5fdde79be",
            "value": " 10.1M/10.1M [00:00&lt;00:00, 54.7MB/s]"
          }
        },
        "2fceb0677e8845708356efa0f733ddf5": {
          "model_module": "@jupyter-widgets/controls",
          "model_module_version": "1.5.0",
          "model_name": "HTMLModel",
          "state": {
            "_dom_classes": [],
            "_model_module": "@jupyter-widgets/controls",
            "_model_module_version": "1.5.0",
            "_model_name": "HTMLModel",
            "_view_count": null,
            "_view_module": "@jupyter-widgets/controls",
            "_view_module_version": "1.5.0",
            "_view_name": "HTMLView",
            "description": "",
            "description_tooltip": null,
            "layout": "IPY_MODEL_20957e2416ef4dc6972465eba084f1cb",
            "placeholder": "​",
            "style": "IPY_MODEL_b722b27caeb34f0a8a23d81d89b40f89",
            "value": "Generating train split: 100%"
          }
        },
        "32625b6b4994450ab91be9c62ac651fa": {
          "model_module": "@jupyter-widgets/base",
          "model_module_version": "1.2.0",
          "model_name": "LayoutModel",
          "state": {
            "_model_module": "@jupyter-widgets/base",
            "_model_module_version": "1.2.0",
            "_model_name": "LayoutModel",
            "_view_count": null,
            "_view_module": "@jupyter-widgets/base",
            "_view_module_version": "1.2.0",
            "_view_name": "LayoutView",
            "align_content": null,
            "align_items": null,
            "align_self": null,
            "border": null,
            "bottom": null,
            "display": null,
            "flex": null,
            "flex_flow": null,
            "grid_area": null,
            "grid_auto_columns": null,
            "grid_auto_flow": null,
            "grid_auto_rows": null,
            "grid_column": null,
            "grid_gap": null,
            "grid_row": null,
            "grid_template_areas": null,
            "grid_template_columns": null,
            "grid_template_rows": null,
            "height": null,
            "justify_content": null,
            "justify_items": null,
            "left": null,
            "margin": null,
            "max_height": null,
            "max_width": null,
            "min_height": null,
            "min_width": null,
            "object_fit": null,
            "object_position": null,
            "order": null,
            "overflow": null,
            "overflow_x": null,
            "overflow_y": null,
            "padding": null,
            "right": null,
            "top": null,
            "visibility": null,
            "width": null
          }
        },
        "3a692a2ff2dc4160aad4b49cfbec1d06": {
          "model_module": "@jupyter-widgets/base",
          "model_module_version": "1.2.0",
          "model_name": "LayoutModel",
          "state": {
            "_model_module": "@jupyter-widgets/base",
            "_model_module_version": "1.2.0",
            "_model_name": "LayoutModel",
            "_view_count": null,
            "_view_module": "@jupyter-widgets/base",
            "_view_module_version": "1.2.0",
            "_view_name": "LayoutView",
            "align_content": null,
            "align_items": null,
            "align_self": null,
            "border": null,
            "bottom": null,
            "display": null,
            "flex": null,
            "flex_flow": null,
            "grid_area": null,
            "grid_auto_columns": null,
            "grid_auto_flow": null,
            "grid_auto_rows": null,
            "grid_column": null,
            "grid_gap": null,
            "grid_row": null,
            "grid_template_areas": null,
            "grid_template_columns": null,
            "grid_template_rows": null,
            "height": null,
            "justify_content": null,
            "justify_items": null,
            "left": null,
            "margin": null,
            "max_height": null,
            "max_width": null,
            "min_height": null,
            "min_width": null,
            "object_fit": null,
            "object_position": null,
            "order": null,
            "overflow": null,
            "overflow_x": null,
            "overflow_y": null,
            "padding": null,
            "right": null,
            "top": null,
            "visibility": null,
            "width": null
          }
        },
        "3bf7fc7e7ca9468f8628e1b0fa4036a5": {
          "model_module": "@jupyter-widgets/controls",
          "model_module_version": "1.5.0",
          "model_name": "ProgressStyleModel",
          "state": {
            "_model_module": "@jupyter-widgets/controls",
            "_model_module_version": "1.5.0",
            "_model_name": "ProgressStyleModel",
            "_view_count": null,
            "_view_module": "@jupyter-widgets/base",
            "_view_module_version": "1.2.0",
            "_view_name": "StyleView",
            "bar_color": null,
            "description_width": ""
          }
        },
        "3d1a6f8e2c7042fc80fdbedf81bb281c": {
          "model_module": "@jupyter-widgets/controls",
          "model_module_version": "1.5.0",
          "model_name": "FloatProgressModel",
          "state": {
            "_dom_classes": [],
            "_model_module": "@jupyter-widgets/controls",
            "_model_module_version": "1.5.0",
            "_model_name": "FloatProgressModel",
            "_view_count": null,
            "_view_module": "@jupyter-widgets/controls",
            "_view_module_version": "1.5.0",
            "_view_name": "ProgressView",
            "bar_style": "success",
            "description": "",
            "description_tooltip": null,
            "layout": "IPY_MODEL_4c0eccfe13f242e898d01f2ccf8efd31",
            "max": 210000,
            "min": 0,
            "orientation": "horizontal",
            "style": "IPY_MODEL_f1cc23cd12cb410caf73cdd4799a6b44",
            "value": 210000
          }
        },
        "3d66a2f6f12f484993ca183c76f888c6": {
          "model_module": "@jupyter-widgets/base",
          "model_module_version": "1.2.0",
          "model_name": "LayoutModel",
          "state": {
            "_model_module": "@jupyter-widgets/base",
            "_model_module_version": "1.2.0",
            "_model_name": "LayoutModel",
            "_view_count": null,
            "_view_module": "@jupyter-widgets/base",
            "_view_module_version": "1.2.0",
            "_view_name": "LayoutView",
            "align_content": null,
            "align_items": null,
            "align_self": null,
            "border": null,
            "bottom": null,
            "display": null,
            "flex": null,
            "flex_flow": null,
            "grid_area": null,
            "grid_auto_columns": null,
            "grid_auto_flow": null,
            "grid_auto_rows": null,
            "grid_column": null,
            "grid_gap": null,
            "grid_row": null,
            "grid_template_areas": null,
            "grid_template_columns": null,
            "grid_template_rows": null,
            "height": null,
            "justify_content": null,
            "justify_items": null,
            "left": null,
            "margin": null,
            "max_height": null,
            "max_width": null,
            "min_height": null,
            "min_width": null,
            "object_fit": null,
            "object_position": null,
            "order": null,
            "overflow": null,
            "overflow_x": null,
            "overflow_y": null,
            "padding": null,
            "right": null,
            "top": null,
            "visibility": null,
            "width": null
          }
        },
        "3d834db0eea64bbab19c6cbed3b489c3": {
          "model_module": "@jupyter-widgets/base",
          "model_module_version": "1.2.0",
          "model_name": "LayoutModel",
          "state": {
            "_model_module": "@jupyter-widgets/base",
            "_model_module_version": "1.2.0",
            "_model_name": "LayoutModel",
            "_view_count": null,
            "_view_module": "@jupyter-widgets/base",
            "_view_module_version": "1.2.0",
            "_view_name": "LayoutView",
            "align_content": null,
            "align_items": null,
            "align_self": null,
            "border": null,
            "bottom": null,
            "display": null,
            "flex": null,
            "flex_flow": null,
            "grid_area": null,
            "grid_auto_columns": null,
            "grid_auto_flow": null,
            "grid_auto_rows": null,
            "grid_column": null,
            "grid_gap": null,
            "grid_row": null,
            "grid_template_areas": null,
            "grid_template_columns": null,
            "grid_template_rows": null,
            "height": null,
            "justify_content": null,
            "justify_items": null,
            "left": null,
            "margin": null,
            "max_height": null,
            "max_width": null,
            "min_height": null,
            "min_width": null,
            "object_fit": null,
            "object_position": null,
            "order": null,
            "overflow": null,
            "overflow_x": null,
            "overflow_y": null,
            "padding": null,
            "right": null,
            "top": null,
            "visibility": null,
            "width": null
          }
        },
        "3e39d337d4a84a1b99cacc59fb1e466d": {
          "model_module": "@jupyter-widgets/base",
          "model_module_version": "1.2.0",
          "model_name": "LayoutModel",
          "state": {
            "_model_module": "@jupyter-widgets/base",
            "_model_module_version": "1.2.0",
            "_model_name": "LayoutModel",
            "_view_count": null,
            "_view_module": "@jupyter-widgets/base",
            "_view_module_version": "1.2.0",
            "_view_name": "LayoutView",
            "align_content": null,
            "align_items": null,
            "align_self": null,
            "border": null,
            "bottom": null,
            "display": null,
            "flex": null,
            "flex_flow": null,
            "grid_area": null,
            "grid_auto_columns": null,
            "grid_auto_flow": null,
            "grid_auto_rows": null,
            "grid_column": null,
            "grid_gap": null,
            "grid_row": null,
            "grid_template_areas": null,
            "grid_template_columns": null,
            "grid_template_rows": null,
            "height": null,
            "justify_content": null,
            "justify_items": null,
            "left": null,
            "margin": null,
            "max_height": null,
            "max_width": null,
            "min_height": null,
            "min_width": null,
            "object_fit": null,
            "object_position": null,
            "order": null,
            "overflow": null,
            "overflow_x": null,
            "overflow_y": null,
            "padding": null,
            "right": null,
            "top": null,
            "visibility": null,
            "width": null
          }
        },
        "400857def22442488685c0e85eead789": {
          "model_module": "@jupyter-widgets/controls",
          "model_module_version": "1.5.0",
          "model_name": "HTMLModel",
          "state": {
            "_dom_classes": [],
            "_model_module": "@jupyter-widgets/controls",
            "_model_module_version": "1.5.0",
            "_model_name": "HTMLModel",
            "_view_count": null,
            "_view_module": "@jupyter-widgets/controls",
            "_view_module_version": "1.5.0",
            "_view_name": "HTMLView",
            "description": "",
            "description_tooltip": null,
            "layout": "IPY_MODEL_0f9c38a71c4842c6a5fbaa34cb3c0b60",
            "placeholder": "​",
            "style": "IPY_MODEL_18a85e2adb5544108f7dd8cb1124c6bf",
            "value": " 3000/3000 [00:00&lt;00:00, 82754.01 examples/s]"
          }
        },
        "409ab2dab6e84b43a1d1b120d6b2b0a1": {
          "model_module": "@jupyter-widgets/controls",
          "model_module_version": "1.5.0",
          "model_name": "DescriptionStyleModel",
          "state": {
            "_model_module": "@jupyter-widgets/controls",
            "_model_module_version": "1.5.0",
            "_model_name": "DescriptionStyleModel",
            "_view_count": null,
            "_view_module": "@jupyter-widgets/base",
            "_view_module_version": "1.2.0",
            "_view_name": "StyleView",
            "description_width": ""
          }
        },
        "40bf61b95b214e139d78d2dcc791960a": {
          "model_module": "@jupyter-widgets/base",
          "model_module_version": "1.2.0",
          "model_name": "LayoutModel",
          "state": {
            "_model_module": "@jupyter-widgets/base",
            "_model_module_version": "1.2.0",
            "_model_name": "LayoutModel",
            "_view_count": null,
            "_view_module": "@jupyter-widgets/base",
            "_view_module_version": "1.2.0",
            "_view_name": "LayoutView",
            "align_content": null,
            "align_items": null,
            "align_self": null,
            "border": null,
            "bottom": null,
            "display": null,
            "flex": null,
            "flex_flow": null,
            "grid_area": null,
            "grid_auto_columns": null,
            "grid_auto_flow": null,
            "grid_auto_rows": null,
            "grid_column": null,
            "grid_gap": null,
            "grid_row": null,
            "grid_template_areas": null,
            "grid_template_columns": null,
            "grid_template_rows": null,
            "height": null,
            "justify_content": null,
            "justify_items": null,
            "left": null,
            "margin": null,
            "max_height": null,
            "max_width": null,
            "min_height": null,
            "min_width": null,
            "object_fit": null,
            "object_position": null,
            "order": null,
            "overflow": null,
            "overflow_x": null,
            "overflow_y": null,
            "padding": null,
            "right": null,
            "top": null,
            "visibility": null,
            "width": null
          }
        },
        "456f0b1e22994e0f9caead0b0270d922": {
          "model_module": "@jupyter-widgets/controls",
          "model_module_version": "1.5.0",
          "model_name": "ProgressStyleModel",
          "state": {
            "_model_module": "@jupyter-widgets/controls",
            "_model_module_version": "1.5.0",
            "_model_name": "ProgressStyleModel",
            "_view_count": null,
            "_view_module": "@jupyter-widgets/base",
            "_view_module_version": "1.2.0",
            "_view_name": "StyleView",
            "bar_color": null,
            "description_width": ""
          }
        },
        "49f8fba6b4fb477fb29c756314bf9430": {
          "model_module": "@jupyter-widgets/controls",
          "model_module_version": "1.5.0",
          "model_name": "FloatProgressModel",
          "state": {
            "_dom_classes": [],
            "_model_module": "@jupyter-widgets/controls",
            "_model_module_version": "1.5.0",
            "_model_name": "FloatProgressModel",
            "_view_count": null,
            "_view_module": "@jupyter-widgets/controls",
            "_view_module_version": "1.5.0",
            "_view_name": "ProgressView",
            "bar_style": "success",
            "description": "",
            "description_tooltip": null,
            "layout": "IPY_MODEL_ec5ab2e59fc142a38cf52f3d98a7e558",
            "max": 2144776,
            "min": 0,
            "orientation": "horizontal",
            "style": "IPY_MODEL_bbe0c703641d4324a8b51858b9494277",
            "value": 2144776
          }
        },
        "4a90bddeda944e8aab75b49d38c2b8db": {
          "model_module": "@jupyter-widgets/controls",
          "model_module_version": "1.5.0",
          "model_name": "HTMLModel",
          "state": {
            "_dom_classes": [],
            "_model_module": "@jupyter-widgets/controls",
            "_model_module_version": "1.5.0",
            "_model_name": "HTMLModel",
            "_view_count": null,
            "_view_module": "@jupyter-widgets/controls",
            "_view_module_version": "1.5.0",
            "_view_name": "HTMLView",
            "description": "",
            "description_tooltip": null,
            "layout": "IPY_MODEL_32625b6b4994450ab91be9c62ac651fa",
            "placeholder": "​",
            "style": "IPY_MODEL_b6374302388f42f6b88271a19e24c201",
            "value": "Downloading data: 100%"
          }
        },
        "4c0eccfe13f242e898d01f2ccf8efd31": {
          "model_module": "@jupyter-widgets/base",
          "model_module_version": "1.2.0",
          "model_name": "LayoutModel",
          "state": {
            "_model_module": "@jupyter-widgets/base",
            "_model_module_version": "1.2.0",
            "_model_name": "LayoutModel",
            "_view_count": null,
            "_view_module": "@jupyter-widgets/base",
            "_view_module_version": "1.2.0",
            "_view_name": "LayoutView",
            "align_content": null,
            "align_items": null,
            "align_self": null,
            "border": null,
            "bottom": null,
            "display": null,
            "flex": null,
            "flex_flow": null,
            "grid_area": null,
            "grid_auto_columns": null,
            "grid_auto_flow": null,
            "grid_auto_rows": null,
            "grid_column": null,
            "grid_gap": null,
            "grid_row": null,
            "grid_template_areas": null,
            "grid_template_columns": null,
            "grid_template_rows": null,
            "height": null,
            "justify_content": null,
            "justify_items": null,
            "left": null,
            "margin": null,
            "max_height": null,
            "max_width": null,
            "min_height": null,
            "min_width": null,
            "object_fit": null,
            "object_position": null,
            "order": null,
            "overflow": null,
            "overflow_x": null,
            "overflow_y": null,
            "padding": null,
            "right": null,
            "top": null,
            "visibility": null,
            "width": null
          }
        },
        "4c9b2b5241ff4fc28d67dd74c7c98d86": {
          "model_module": "@jupyter-widgets/controls",
          "model_module_version": "1.5.0",
          "model_name": "HTMLModel",
          "state": {
            "_dom_classes": [],
            "_model_module": "@jupyter-widgets/controls",
            "_model_module_version": "1.5.0",
            "_model_name": "HTMLModel",
            "_view_count": null,
            "_view_module": "@jupyter-widgets/controls",
            "_view_module_version": "1.5.0",
            "_view_name": "HTMLView",
            "description": "",
            "description_tooltip": null,
            "layout": "IPY_MODEL_a0e8a9cc86d443a3b11c1506ca8525ce",
            "placeholder": "​",
            "style": "IPY_MODEL_7c8d14adff71489f9798f06f6e028af5",
            "value": "Generating train split: 100%"
          }
        },
        "50ab110e6dc044b79ec7142ec4452b66": {
          "model_module": "@jupyter-widgets/base",
          "model_module_version": "1.2.0",
          "model_name": "LayoutModel",
          "state": {
            "_model_module": "@jupyter-widgets/base",
            "_model_module_version": "1.2.0",
            "_model_name": "LayoutModel",
            "_view_count": null,
            "_view_module": "@jupyter-widgets/base",
            "_view_module_version": "1.2.0",
            "_view_name": "LayoutView",
            "align_content": null,
            "align_items": null,
            "align_self": null,
            "border": null,
            "bottom": null,
            "display": null,
            "flex": null,
            "flex_flow": null,
            "grid_area": null,
            "grid_auto_columns": null,
            "grid_auto_flow": null,
            "grid_auto_rows": null,
            "grid_column": null,
            "grid_gap": null,
            "grid_row": null,
            "grid_template_areas": null,
            "grid_template_columns": null,
            "grid_template_rows": null,
            "height": null,
            "justify_content": null,
            "justify_items": null,
            "left": null,
            "margin": null,
            "max_height": null,
            "max_width": null,
            "min_height": null,
            "min_width": null,
            "object_fit": null,
            "object_position": null,
            "order": null,
            "overflow": null,
            "overflow_x": null,
            "overflow_y": null,
            "padding": null,
            "right": null,
            "top": null,
            "visibility": null,
            "width": null
          }
        },
        "546e450f6e66481db70c184cd09f3c7f": {
          "model_module": "@jupyter-widgets/controls",
          "model_module_version": "1.5.0",
          "model_name": "HBoxModel",
          "state": {
            "_dom_classes": [],
            "_model_module": "@jupyter-widgets/controls",
            "_model_module_version": "1.5.0",
            "_model_name": "HBoxModel",
            "_view_count": null,
            "_view_module": "@jupyter-widgets/controls",
            "_view_module_version": "1.5.0",
            "_view_name": "HBoxView",
            "box_style": "",
            "children": [
              "IPY_MODEL_ae282dc5892846f9893496cc13350620",
              "IPY_MODEL_562002fab00b4451ae49f68a8c6a79e0",
              "IPY_MODEL_29c568cfa1464e41ba807f3bec8e318e"
            ],
            "layout": "IPY_MODEL_ed7617afb23044b6a0befd6b9be83356"
          }
        },
        "562002fab00b4451ae49f68a8c6a79e0": {
          "model_module": "@jupyter-widgets/controls",
          "model_module_version": "1.5.0",
          "model_name": "FloatProgressModel",
          "state": {
            "_dom_classes": [],
            "_model_module": "@jupyter-widgets/controls",
            "_model_module_version": "1.5.0",
            "_model_name": "FloatProgressModel",
            "_view_count": null,
            "_view_module": "@jupyter-widgets/controls",
            "_view_module_version": "1.5.0",
            "_view_name": "ProgressView",
            "bar_style": "success",
            "description": "",
            "description_tooltip": null,
            "layout": "IPY_MODEL_29252cc4384a4d06a20c4ab2beab8b0a",
            "max": 3000,
            "min": 0,
            "orientation": "horizontal",
            "style": "IPY_MODEL_9d42dce979db4472b15ebc383ffda302",
            "value": 3000
          }
        },
        "587ee2bc05d64f80b9aa0899e9d9106b": {
          "model_module": "@jupyter-widgets/base",
          "model_module_version": "1.2.0",
          "model_name": "LayoutModel",
          "state": {
            "_model_module": "@jupyter-widgets/base",
            "_model_module_version": "1.2.0",
            "_model_name": "LayoutModel",
            "_view_count": null,
            "_view_module": "@jupyter-widgets/base",
            "_view_module_version": "1.2.0",
            "_view_name": "LayoutView",
            "align_content": null,
            "align_items": null,
            "align_self": null,
            "border": null,
            "bottom": null,
            "display": null,
            "flex": null,
            "flex_flow": null,
            "grid_area": null,
            "grid_auto_columns": null,
            "grid_auto_flow": null,
            "grid_auto_rows": null,
            "grid_column": null,
            "grid_gap": null,
            "grid_row": null,
            "grid_template_areas": null,
            "grid_template_columns": null,
            "grid_template_rows": null,
            "height": null,
            "justify_content": null,
            "justify_items": null,
            "left": null,
            "margin": null,
            "max_height": null,
            "max_width": null,
            "min_height": null,
            "min_width": null,
            "object_fit": null,
            "object_position": null,
            "order": null,
            "overflow": null,
            "overflow_x": null,
            "overflow_y": null,
            "padding": null,
            "right": null,
            "top": null,
            "visibility": null,
            "width": null
          }
        },
        "5ca8fda5e9d7408ba797a573b1b13f16": {
          "model_module": "@jupyter-widgets/controls",
          "model_module_version": "1.5.0",
          "model_name": "DescriptionStyleModel",
          "state": {
            "_model_module": "@jupyter-widgets/controls",
            "_model_module_version": "1.5.0",
            "_model_name": "DescriptionStyleModel",
            "_view_count": null,
            "_view_module": "@jupyter-widgets/base",
            "_view_module_version": "1.2.0",
            "_view_name": "StyleView",
            "description_width": ""
          }
        },
        "5d39ac20fdcc484bb0eb8805508da0c5": {
          "model_module": "@jupyter-widgets/controls",
          "model_module_version": "1.5.0",
          "model_name": "DescriptionStyleModel",
          "state": {
            "_model_module": "@jupyter-widgets/controls",
            "_model_module_version": "1.5.0",
            "_model_name": "DescriptionStyleModel",
            "_view_count": null,
            "_view_module": "@jupyter-widgets/base",
            "_view_module_version": "1.2.0",
            "_view_name": "StyleView",
            "description_width": ""
          }
        },
        "5d78e88c323045118a212de965107451": {
          "model_module": "@jupyter-widgets/controls",
          "model_module_version": "1.5.0",
          "model_name": "DescriptionStyleModel",
          "state": {
            "_model_module": "@jupyter-widgets/controls",
            "_model_module_version": "1.5.0",
            "_model_name": "DescriptionStyleModel",
            "_view_count": null,
            "_view_module": "@jupyter-widgets/base",
            "_view_module_version": "1.2.0",
            "_view_name": "StyleView",
            "description_width": ""
          }
        },
        "5eb5a302f87f4bdf8d0742b719a4c390": {
          "model_module": "@jupyter-widgets/base",
          "model_module_version": "1.2.0",
          "model_name": "LayoutModel",
          "state": {
            "_model_module": "@jupyter-widgets/base",
            "_model_module_version": "1.2.0",
            "_model_name": "LayoutModel",
            "_view_count": null,
            "_view_module": "@jupyter-widgets/base",
            "_view_module_version": "1.2.0",
            "_view_name": "LayoutView",
            "align_content": null,
            "align_items": null,
            "align_self": null,
            "border": null,
            "bottom": null,
            "display": null,
            "flex": null,
            "flex_flow": null,
            "grid_area": null,
            "grid_auto_columns": null,
            "grid_auto_flow": null,
            "grid_auto_rows": null,
            "grid_column": null,
            "grid_gap": null,
            "grid_row": null,
            "grid_template_areas": null,
            "grid_template_columns": null,
            "grid_template_rows": null,
            "height": null,
            "justify_content": null,
            "justify_items": null,
            "left": null,
            "margin": null,
            "max_height": null,
            "max_width": null,
            "min_height": null,
            "min_width": null,
            "object_fit": null,
            "object_position": null,
            "order": null,
            "overflow": null,
            "overflow_x": null,
            "overflow_y": null,
            "padding": null,
            "right": null,
            "top": null,
            "visibility": null,
            "width": null
          }
        },
        "5f13964cb3d74384a38c597cca8ac475": {
          "model_module": "@jupyter-widgets/base",
          "model_module_version": "1.2.0",
          "model_name": "LayoutModel",
          "state": {
            "_model_module": "@jupyter-widgets/base",
            "_model_module_version": "1.2.0",
            "_model_name": "LayoutModel",
            "_view_count": null,
            "_view_module": "@jupyter-widgets/base",
            "_view_module_version": "1.2.0",
            "_view_name": "LayoutView",
            "align_content": null,
            "align_items": null,
            "align_self": null,
            "border": null,
            "bottom": null,
            "display": null,
            "flex": null,
            "flex_flow": null,
            "grid_area": null,
            "grid_auto_columns": null,
            "grid_auto_flow": null,
            "grid_auto_rows": null,
            "grid_column": null,
            "grid_gap": null,
            "grid_row": null,
            "grid_template_areas": null,
            "grid_template_columns": null,
            "grid_template_rows": null,
            "height": null,
            "justify_content": null,
            "justify_items": null,
            "left": null,
            "margin": null,
            "max_height": null,
            "max_width": null,
            "min_height": null,
            "min_width": null,
            "object_fit": null,
            "object_position": null,
            "order": null,
            "overflow": null,
            "overflow_x": null,
            "overflow_y": null,
            "padding": null,
            "right": null,
            "top": null,
            "visibility": null,
            "width": null
          }
        },
        "61902a18675b49da972d2a063e36f713": {
          "model_module": "@jupyter-widgets/base",
          "model_module_version": "1.2.0",
          "model_name": "LayoutModel",
          "state": {
            "_model_module": "@jupyter-widgets/base",
            "_model_module_version": "1.2.0",
            "_model_name": "LayoutModel",
            "_view_count": null,
            "_view_module": "@jupyter-widgets/base",
            "_view_module_version": "1.2.0",
            "_view_name": "LayoutView",
            "align_content": null,
            "align_items": null,
            "align_self": null,
            "border": null,
            "bottom": null,
            "display": null,
            "flex": null,
            "flex_flow": null,
            "grid_area": null,
            "grid_auto_columns": null,
            "grid_auto_flow": null,
            "grid_auto_rows": null,
            "grid_column": null,
            "grid_gap": null,
            "grid_row": null,
            "grid_template_areas": null,
            "grid_template_columns": null,
            "grid_template_rows": null,
            "height": null,
            "justify_content": null,
            "justify_items": null,
            "left": null,
            "margin": null,
            "max_height": null,
            "max_width": null,
            "min_height": null,
            "min_width": null,
            "object_fit": null,
            "object_position": null,
            "order": null,
            "overflow": null,
            "overflow_x": null,
            "overflow_y": null,
            "padding": null,
            "right": null,
            "top": null,
            "visibility": null,
            "width": null
          }
        },
        "6200d93b92fd4dd4ad140fd820210914": {
          "model_module": "@jupyter-widgets/controls",
          "model_module_version": "1.5.0",
          "model_name": "DescriptionStyleModel",
          "state": {
            "_model_module": "@jupyter-widgets/controls",
            "_model_module_version": "1.5.0",
            "_model_name": "DescriptionStyleModel",
            "_view_count": null,
            "_view_module": "@jupyter-widgets/base",
            "_view_module_version": "1.2.0",
            "_view_name": "StyleView",
            "description_width": ""
          }
        },
        "64b4a68e702b4879b19ef3fb3d7038ba": {
          "model_module": "@jupyter-widgets/controls",
          "model_module_version": "1.5.0",
          "model_name": "HBoxModel",
          "state": {
            "_dom_classes": [],
            "_model_module": "@jupyter-widgets/controls",
            "_model_module_version": "1.5.0",
            "_model_name": "HBoxModel",
            "_view_count": null,
            "_view_module": "@jupyter-widgets/controls",
            "_view_module_version": "1.5.0",
            "_view_name": "HBoxView",
            "box_style": "",
            "children": [
              "IPY_MODEL_a70fe4e5116940d193c8e8b144429bb2",
              "IPY_MODEL_9d7bc61b283a4b06b9aec4423297cc37",
              "IPY_MODEL_400857def22442488685c0e85eead789"
            ],
            "layout": "IPY_MODEL_3e39d337d4a84a1b99cacc59fb1e466d"
          }
        },
        "668940578ce349438fd196e791635f74": {
          "model_module": "@jupyter-widgets/controls",
          "model_module_version": "1.5.0",
          "model_name": "DescriptionStyleModel",
          "state": {
            "_model_module": "@jupyter-widgets/controls",
            "_model_module_version": "1.5.0",
            "_model_name": "DescriptionStyleModel",
            "_view_count": null,
            "_view_module": "@jupyter-widgets/base",
            "_view_module_version": "1.2.0",
            "_view_name": "StyleView",
            "description_width": ""
          }
        },
        "6b1a53fec1744cceb2d42746d9dd9ee3": {
          "model_module": "@jupyter-widgets/base",
          "model_module_version": "1.2.0",
          "model_name": "LayoutModel",
          "state": {
            "_model_module": "@jupyter-widgets/base",
            "_model_module_version": "1.2.0",
            "_model_name": "LayoutModel",
            "_view_count": null,
            "_view_module": "@jupyter-widgets/base",
            "_view_module_version": "1.2.0",
            "_view_name": "LayoutView",
            "align_content": null,
            "align_items": null,
            "align_self": null,
            "border": null,
            "bottom": null,
            "display": null,
            "flex": null,
            "flex_flow": null,
            "grid_area": null,
            "grid_auto_columns": null,
            "grid_auto_flow": null,
            "grid_auto_rows": null,
            "grid_column": null,
            "grid_gap": null,
            "grid_row": null,
            "grid_template_areas": null,
            "grid_template_columns": null,
            "grid_template_rows": null,
            "height": null,
            "justify_content": null,
            "justify_items": null,
            "left": null,
            "margin": null,
            "max_height": null,
            "max_width": null,
            "min_height": null,
            "min_width": null,
            "object_fit": null,
            "object_position": null,
            "order": null,
            "overflow": null,
            "overflow_x": null,
            "overflow_y": null,
            "padding": null,
            "right": null,
            "top": null,
            "visibility": null,
            "width": null
          }
        },
        "6b70baa1279c40a58100c7843b48fa09": {
          "model_module": "@jupyter-widgets/controls",
          "model_module_version": "1.5.0",
          "model_name": "HBoxModel",
          "state": {
            "_dom_classes": [],
            "_model_module": "@jupyter-widgets/controls",
            "_model_module_version": "1.5.0",
            "_model_name": "HBoxModel",
            "_view_count": null,
            "_view_module": "@jupyter-widgets/controls",
            "_view_module_version": "1.5.0",
            "_view_name": "HBoxView",
            "box_style": "",
            "children": [
              "IPY_MODEL_0a2e0e200d16439b8648bc2a6282fc16",
              "IPY_MODEL_ca422866283244ef9994546fe97fa4b3",
              "IPY_MODEL_2cc38b7129d04bbcbb91361f7ff9676b"
            ],
            "layout": "IPY_MODEL_2a25d8bd814e4615ada926e99c7a4c80"
          }
        },
        "6c620c548c944aa491ee6578b49a7367": {
          "model_module": "@jupyter-widgets/controls",
          "model_module_version": "1.5.0",
          "model_name": "HTMLModel",
          "state": {
            "_dom_classes": [],
            "_model_module": "@jupyter-widgets/controls",
            "_model_module_version": "1.5.0",
            "_model_name": "HTMLModel",
            "_view_count": null,
            "_view_module": "@jupyter-widgets/controls",
            "_view_module_version": "1.5.0",
            "_view_name": "HTMLView",
            "description": "",
            "description_tooltip": null,
            "layout": "IPY_MODEL_f6c1d9b1f66d42edbea18d1ac718b0d9",
            "placeholder": "​",
            "style": "IPY_MODEL_ddc474ce4be846dfb918aaf59dae028c",
            "value": " 130M/130M [00:01&lt;00:00, 110MB/s]"
          }
        },
        "6ed6c234f4904183beb4a504cfddf5ee": {
          "model_module": "@jupyter-widgets/base",
          "model_module_version": "1.2.0",
          "model_name": "LayoutModel",
          "state": {
            "_model_module": "@jupyter-widgets/base",
            "_model_module_version": "1.2.0",
            "_model_name": "LayoutModel",
            "_view_count": null,
            "_view_module": "@jupyter-widgets/base",
            "_view_module_version": "1.2.0",
            "_view_name": "LayoutView",
            "align_content": null,
            "align_items": null,
            "align_self": null,
            "border": null,
            "bottom": null,
            "display": null,
            "flex": null,
            "flex_flow": null,
            "grid_area": null,
            "grid_auto_columns": null,
            "grid_auto_flow": null,
            "grid_auto_rows": null,
            "grid_column": null,
            "grid_gap": null,
            "grid_row": null,
            "grid_template_areas": null,
            "grid_template_columns": null,
            "grid_template_rows": null,
            "height": null,
            "justify_content": null,
            "justify_items": null,
            "left": null,
            "margin": null,
            "max_height": null,
            "max_width": null,
            "min_height": null,
            "min_width": null,
            "object_fit": null,
            "object_position": null,
            "order": null,
            "overflow": null,
            "overflow_x": null,
            "overflow_y": null,
            "padding": null,
            "right": null,
            "top": null,
            "visibility": null,
            "width": null
          }
        },
        "6f6c646c33284e32b16ca7a990ba2a0a": {
          "model_module": "@jupyter-widgets/base",
          "model_module_version": "1.2.0",
          "model_name": "LayoutModel",
          "state": {
            "_model_module": "@jupyter-widgets/base",
            "_model_module_version": "1.2.0",
            "_model_name": "LayoutModel",
            "_view_count": null,
            "_view_module": "@jupyter-widgets/base",
            "_view_module_version": "1.2.0",
            "_view_name": "LayoutView",
            "align_content": null,
            "align_items": null,
            "align_self": null,
            "border": null,
            "bottom": null,
            "display": null,
            "flex": null,
            "flex_flow": null,
            "grid_area": null,
            "grid_auto_columns": null,
            "grid_auto_flow": null,
            "grid_auto_rows": null,
            "grid_column": null,
            "grid_gap": null,
            "grid_row": null,
            "grid_template_areas": null,
            "grid_template_columns": null,
            "grid_template_rows": null,
            "height": null,
            "justify_content": null,
            "justify_items": null,
            "left": null,
            "margin": null,
            "max_height": null,
            "max_width": null,
            "min_height": null,
            "min_width": null,
            "object_fit": null,
            "object_position": null,
            "order": null,
            "overflow": null,
            "overflow_x": null,
            "overflow_y": null,
            "padding": null,
            "right": null,
            "top": null,
            "visibility": null,
            "width": null
          }
        },
        "701001c3b438414392de07bdb0f85512": {
          "model_module": "@jupyter-widgets/controls",
          "model_module_version": "1.5.0",
          "model_name": "HTMLModel",
          "state": {
            "_dom_classes": [],
            "_model_module": "@jupyter-widgets/controls",
            "_model_module_version": "1.5.0",
            "_model_name": "HTMLModel",
            "_view_count": null,
            "_view_module": "@jupyter-widgets/controls",
            "_view_module_version": "1.5.0",
            "_view_name": "HTMLView",
            "description": "",
            "description_tooltip": null,
            "layout": "IPY_MODEL_3a692a2ff2dc4160aad4b49cfbec1d06",
            "placeholder": "​",
            "style": "IPY_MODEL_5d78e88c323045118a212de965107451",
            "value": " 210000/210000 [00:00&lt;00:00, 240054.53 examples/s]"
          }
        },
        "705242c7335a4e558b7f3fb5fdde79be": {
          "model_module": "@jupyter-widgets/controls",
          "model_module_version": "1.5.0",
          "model_name": "DescriptionStyleModel",
          "state": {
            "_model_module": "@jupyter-widgets/controls",
            "_model_module_version": "1.5.0",
            "_model_name": "DescriptionStyleModel",
            "_view_count": null,
            "_view_module": "@jupyter-widgets/base",
            "_view_module_version": "1.2.0",
            "_view_name": "StyleView",
            "description_width": ""
          }
        },
        "7941838a62d644bf88ff0cee9aa1e9ea": {
          "model_module": "@jupyter-widgets/base",
          "model_module_version": "1.2.0",
          "model_name": "LayoutModel",
          "state": {
            "_model_module": "@jupyter-widgets/base",
            "_model_module_version": "1.2.0",
            "_model_name": "LayoutModel",
            "_view_count": null,
            "_view_module": "@jupyter-widgets/base",
            "_view_module_version": "1.2.0",
            "_view_name": "LayoutView",
            "align_content": null,
            "align_items": null,
            "align_self": null,
            "border": null,
            "bottom": null,
            "display": null,
            "flex": null,
            "flex_flow": null,
            "grid_area": null,
            "grid_auto_columns": null,
            "grid_auto_flow": null,
            "grid_auto_rows": null,
            "grid_column": null,
            "grid_gap": null,
            "grid_row": null,
            "grid_template_areas": null,
            "grid_template_columns": null,
            "grid_template_rows": null,
            "height": null,
            "justify_content": null,
            "justify_items": null,
            "left": null,
            "margin": null,
            "max_height": null,
            "max_width": null,
            "min_height": null,
            "min_width": null,
            "object_fit": null,
            "object_position": null,
            "order": null,
            "overflow": null,
            "overflow_x": null,
            "overflow_y": null,
            "padding": null,
            "right": null,
            "top": null,
            "visibility": null,
            "width": null
          }
        },
        "79d70057bacb4cce906f41b4a2179154": {
          "model_module": "@jupyter-widgets/controls",
          "model_module_version": "1.5.0",
          "model_name": "HTMLModel",
          "state": {
            "_dom_classes": [],
            "_model_module": "@jupyter-widgets/controls",
            "_model_module_version": "1.5.0",
            "_model_name": "HTMLModel",
            "_view_count": null,
            "_view_module": "@jupyter-widgets/controls",
            "_view_module_version": "1.5.0",
            "_view_name": "HTMLView",
            "description": "",
            "description_tooltip": null,
            "layout": "IPY_MODEL_d49abed8a1cd49acbba3aadc45479a41",
            "placeholder": "​",
            "style": "IPY_MODEL_6200d93b92fd4dd4ad140fd820210914",
            "value": " 27.8M/27.8M [00:00&lt;00:00, 94.7MB/s]"
          }
        },
        "7c8d14adff71489f9798f06f6e028af5": {
          "model_module": "@jupyter-widgets/controls",
          "model_module_version": "1.5.0",
          "model_name": "DescriptionStyleModel",
          "state": {
            "_model_module": "@jupyter-widgets/controls",
            "_model_module_version": "1.5.0",
            "_model_name": "DescriptionStyleModel",
            "_view_count": null,
            "_view_module": "@jupyter-widgets/base",
            "_view_module_version": "1.2.0",
            "_view_name": "StyleView",
            "description_width": ""
          }
        },
        "7fbcea77bc9c4963b8f1a71716076fd9": {
          "model_module": "@jupyter-widgets/controls",
          "model_module_version": "1.5.0",
          "model_name": "HTMLModel",
          "state": {
            "_dom_classes": [],
            "_model_module": "@jupyter-widgets/controls",
            "_model_module_version": "1.5.0",
            "_model_name": "HTMLModel",
            "_view_count": null,
            "_view_module": "@jupyter-widgets/controls",
            "_view_module_version": "1.5.0",
            "_view_name": "HTMLView",
            "description": "",
            "description_tooltip": null,
            "layout": "IPY_MODEL_6ed6c234f4904183beb4a504cfddf5ee",
            "placeholder": "​",
            "style": "IPY_MODEL_a078b2d07b754e2a8d59746c8065553d",
            "value": "Downloading data: 100%"
          }
        },
        "80e273fcbf594c3ab922b3cb626b1955": {
          "model_module": "@jupyter-widgets/controls",
          "model_module_version": "1.5.0",
          "model_name": "HTMLModel",
          "state": {
            "_dom_classes": [],
            "_model_module": "@jupyter-widgets/controls",
            "_model_module_version": "1.5.0",
            "_model_name": "HTMLModel",
            "_view_count": null,
            "_view_module": "@jupyter-widgets/controls",
            "_view_module_version": "1.5.0",
            "_view_name": "HTMLView",
            "description": "",
            "description_tooltip": null,
            "layout": "IPY_MODEL_6b1a53fec1744cceb2d42746d9dd9ee3",
            "placeholder": "​",
            "style": "IPY_MODEL_85228c62f8314226b9e4eb14cf7bca7a",
            "value": " 45000/45000 [00:00&lt;00:00, 200582.43 examples/s]"
          }
        },
        "81e81ec3639a4a1bb57d401a6bf8b7a4": {
          "model_module": "@jupyter-widgets/controls",
          "model_module_version": "1.5.0",
          "model_name": "HTMLModel",
          "state": {
            "_dom_classes": [],
            "_model_module": "@jupyter-widgets/controls",
            "_model_module_version": "1.5.0",
            "_model_name": "HTMLModel",
            "_view_count": null,
            "_view_module": "@jupyter-widgets/controls",
            "_view_module_version": "1.5.0",
            "_view_name": "HTMLView",
            "description": "",
            "description_tooltip": null,
            "layout": "IPY_MODEL_587ee2bc05d64f80b9aa0899e9d9106b",
            "placeholder": "​",
            "style": "IPY_MODEL_668940578ce349438fd196e791635f74",
            "value": " 2.15M/2.15M [00:00&lt;00:00, 18.7MB/s]"
          }
        },
        "85228c62f8314226b9e4eb14cf7bca7a": {
          "model_module": "@jupyter-widgets/controls",
          "model_module_version": "1.5.0",
          "model_name": "DescriptionStyleModel",
          "state": {
            "_model_module": "@jupyter-widgets/controls",
            "_model_module_version": "1.5.0",
            "_model_name": "DescriptionStyleModel",
            "_view_count": null,
            "_view_module": "@jupyter-widgets/base",
            "_view_module_version": "1.2.0",
            "_view_name": "StyleView",
            "description_width": ""
          }
        },
        "857b32f334e24f698f4d3785caaafdfe": {
          "model_module": "@jupyter-widgets/base",
          "model_module_version": "1.2.0",
          "model_name": "LayoutModel",
          "state": {
            "_model_module": "@jupyter-widgets/base",
            "_model_module_version": "1.2.0",
            "_model_name": "LayoutModel",
            "_view_count": null,
            "_view_module": "@jupyter-widgets/base",
            "_view_module_version": "1.2.0",
            "_view_name": "LayoutView",
            "align_content": null,
            "align_items": null,
            "align_self": null,
            "border": null,
            "bottom": null,
            "display": null,
            "flex": null,
            "flex_flow": null,
            "grid_area": null,
            "grid_auto_columns": null,
            "grid_auto_flow": null,
            "grid_auto_rows": null,
            "grid_column": null,
            "grid_gap": null,
            "grid_row": null,
            "grid_template_areas": null,
            "grid_template_columns": null,
            "grid_template_rows": null,
            "height": null,
            "justify_content": null,
            "justify_items": null,
            "left": null,
            "margin": null,
            "max_height": null,
            "max_width": null,
            "min_height": null,
            "min_width": null,
            "object_fit": null,
            "object_position": null,
            "order": null,
            "overflow": null,
            "overflow_x": null,
            "overflow_y": null,
            "padding": null,
            "right": null,
            "top": null,
            "visibility": null,
            "width": null
          }
        },
        "86269489c435492297f59cad08430c0a": {
          "model_module": "@jupyter-widgets/controls",
          "model_module_version": "1.5.0",
          "model_name": "DescriptionStyleModel",
          "state": {
            "_model_module": "@jupyter-widgets/controls",
            "_model_module_version": "1.5.0",
            "_model_name": "DescriptionStyleModel",
            "_view_count": null,
            "_view_module": "@jupyter-widgets/base",
            "_view_module_version": "1.2.0",
            "_view_name": "StyleView",
            "description_width": ""
          }
        },
        "86c48e21213643f883421ea00989d645": {
          "model_module": "@jupyter-widgets/controls",
          "model_module_version": "1.5.0",
          "model_name": "DescriptionStyleModel",
          "state": {
            "_model_module": "@jupyter-widgets/controls",
            "_model_module_version": "1.5.0",
            "_model_name": "DescriptionStyleModel",
            "_view_count": null,
            "_view_module": "@jupyter-widgets/base",
            "_view_module_version": "1.2.0",
            "_view_name": "StyleView",
            "description_width": ""
          }
        },
        "88f51f4fa8ba487bbaa8a5dca154ecaa": {
          "model_module": "@jupyter-widgets/controls",
          "model_module_version": "1.5.0",
          "model_name": "FloatProgressModel",
          "state": {
            "_dom_classes": [],
            "_model_module": "@jupyter-widgets/controls",
            "_model_module_version": "1.5.0",
            "_model_name": "FloatProgressModel",
            "_view_count": null,
            "_view_module": "@jupyter-widgets/controls",
            "_view_module_version": "1.5.0",
            "_view_name": "ProgressView",
            "bar_style": "success",
            "description": "",
            "description_tooltip": null,
            "layout": "IPY_MODEL_8a596ad341f04c058e83b0f6e94a2596",
            "max": 2147207,
            "min": 0,
            "orientation": "horizontal",
            "style": "IPY_MODEL_98be0f4248f14702bfaf4f4604b7bb66",
            "value": 2147207
          }
        },
        "8973eefd35c247fbbd0865b4fb061de5": {
          "model_module": "@jupyter-widgets/base",
          "model_module_version": "1.2.0",
          "model_name": "LayoutModel",
          "state": {
            "_model_module": "@jupyter-widgets/base",
            "_model_module_version": "1.2.0",
            "_model_name": "LayoutModel",
            "_view_count": null,
            "_view_module": "@jupyter-widgets/base",
            "_view_module_version": "1.2.0",
            "_view_name": "LayoutView",
            "align_content": null,
            "align_items": null,
            "align_self": null,
            "border": null,
            "bottom": null,
            "display": null,
            "flex": null,
            "flex_flow": null,
            "grid_area": null,
            "grid_auto_columns": null,
            "grid_auto_flow": null,
            "grid_auto_rows": null,
            "grid_column": null,
            "grid_gap": null,
            "grid_row": null,
            "grid_template_areas": null,
            "grid_template_columns": null,
            "grid_template_rows": null,
            "height": null,
            "justify_content": null,
            "justify_items": null,
            "left": null,
            "margin": null,
            "max_height": null,
            "max_width": null,
            "min_height": null,
            "min_width": null,
            "object_fit": null,
            "object_position": null,
            "order": null,
            "overflow": null,
            "overflow_x": null,
            "overflow_y": null,
            "padding": null,
            "right": null,
            "top": null,
            "visibility": null,
            "width": null
          }
        },
        "8a596ad341f04c058e83b0f6e94a2596": {
          "model_module": "@jupyter-widgets/base",
          "model_module_version": "1.2.0",
          "model_name": "LayoutModel",
          "state": {
            "_model_module": "@jupyter-widgets/base",
            "_model_module_version": "1.2.0",
            "_model_name": "LayoutModel",
            "_view_count": null,
            "_view_module": "@jupyter-widgets/base",
            "_view_module_version": "1.2.0",
            "_view_name": "LayoutView",
            "align_content": null,
            "align_items": null,
            "align_self": null,
            "border": null,
            "bottom": null,
            "display": null,
            "flex": null,
            "flex_flow": null,
            "grid_area": null,
            "grid_auto_columns": null,
            "grid_auto_flow": null,
            "grid_auto_rows": null,
            "grid_column": null,
            "grid_gap": null,
            "grid_row": null,
            "grid_template_areas": null,
            "grid_template_columns": null,
            "grid_template_rows": null,
            "height": null,
            "justify_content": null,
            "justify_items": null,
            "left": null,
            "margin": null,
            "max_height": null,
            "max_width": null,
            "min_height": null,
            "min_width": null,
            "object_fit": null,
            "object_position": null,
            "order": null,
            "overflow": null,
            "overflow_x": null,
            "overflow_y": null,
            "padding": null,
            "right": null,
            "top": null,
            "visibility": null,
            "width": null
          }
        },
        "8ab1ff1e498a41a3b08bd0a9eb6c377f": {
          "model_module": "@jupyter-widgets/controls",
          "model_module_version": "1.5.0",
          "model_name": "HTMLModel",
          "state": {
            "_dom_classes": [],
            "_model_module": "@jupyter-widgets/controls",
            "_model_module_version": "1.5.0",
            "_model_name": "HTMLModel",
            "_view_count": null,
            "_view_module": "@jupyter-widgets/controls",
            "_view_module_version": "1.5.0",
            "_view_name": "HTMLView",
            "description": "",
            "description_tooltip": null,
            "layout": "IPY_MODEL_61902a18675b49da972d2a063e36f713",
            "placeholder": "​",
            "style": "IPY_MODEL_2bc6ae3ec9cf4fffb51b62c21f1cfe70",
            "value": "Downloading data: 100%"
          }
        },
        "8aeeadaf235640a59f06c78223de8054": {
          "model_module": "@jupyter-widgets/controls",
          "model_module_version": "1.5.0",
          "model_name": "ProgressStyleModel",
          "state": {
            "_model_module": "@jupyter-widgets/controls",
            "_model_module_version": "1.5.0",
            "_model_name": "ProgressStyleModel",
            "_view_count": null,
            "_view_module": "@jupyter-widgets/base",
            "_view_module_version": "1.2.0",
            "_view_name": "StyleView",
            "bar_color": null,
            "description_width": ""
          }
        },
        "8e535cf0e10a401a8fce024f304f8e8d": {
          "model_module": "@jupyter-widgets/base",
          "model_module_version": "1.2.0",
          "model_name": "LayoutModel",
          "state": {
            "_model_module": "@jupyter-widgets/base",
            "_model_module_version": "1.2.0",
            "_model_name": "LayoutModel",
            "_view_count": null,
            "_view_module": "@jupyter-widgets/base",
            "_view_module_version": "1.2.0",
            "_view_name": "LayoutView",
            "align_content": null,
            "align_items": null,
            "align_self": null,
            "border": null,
            "bottom": null,
            "display": null,
            "flex": null,
            "flex_flow": null,
            "grid_area": null,
            "grid_auto_columns": null,
            "grid_auto_flow": null,
            "grid_auto_rows": null,
            "grid_column": null,
            "grid_gap": null,
            "grid_row": null,
            "grid_template_areas": null,
            "grid_template_columns": null,
            "grid_template_rows": null,
            "height": null,
            "justify_content": null,
            "justify_items": null,
            "left": null,
            "margin": null,
            "max_height": null,
            "max_width": null,
            "min_height": null,
            "min_width": null,
            "object_fit": null,
            "object_position": null,
            "order": null,
            "overflow": null,
            "overflow_x": null,
            "overflow_y": null,
            "padding": null,
            "right": null,
            "top": null,
            "visibility": null,
            "width": null
          }
        },
        "904ca604611d4f37bd5543adde0b250a": {
          "model_module": "@jupyter-widgets/base",
          "model_module_version": "1.2.0",
          "model_name": "LayoutModel",
          "state": {
            "_model_module": "@jupyter-widgets/base",
            "_model_module_version": "1.2.0",
            "_model_name": "LayoutModel",
            "_view_count": null,
            "_view_module": "@jupyter-widgets/base",
            "_view_module_version": "1.2.0",
            "_view_name": "LayoutView",
            "align_content": null,
            "align_items": null,
            "align_self": null,
            "border": null,
            "bottom": null,
            "display": null,
            "flex": null,
            "flex_flow": null,
            "grid_area": null,
            "grid_auto_columns": null,
            "grid_auto_flow": null,
            "grid_auto_rows": null,
            "grid_column": null,
            "grid_gap": null,
            "grid_row": null,
            "grid_template_areas": null,
            "grid_template_columns": null,
            "grid_template_rows": null,
            "height": null,
            "justify_content": null,
            "justify_items": null,
            "left": null,
            "margin": null,
            "max_height": null,
            "max_width": null,
            "min_height": null,
            "min_width": null,
            "object_fit": null,
            "object_position": null,
            "order": null,
            "overflow": null,
            "overflow_x": null,
            "overflow_y": null,
            "padding": null,
            "right": null,
            "top": null,
            "visibility": null,
            "width": null
          }
        },
        "9435a8890fae4374a24f3673472864ee": {
          "model_module": "@jupyter-widgets/controls",
          "model_module_version": "1.5.0",
          "model_name": "DescriptionStyleModel",
          "state": {
            "_model_module": "@jupyter-widgets/controls",
            "_model_module_version": "1.5.0",
            "_model_name": "DescriptionStyleModel",
            "_view_count": null,
            "_view_module": "@jupyter-widgets/base",
            "_view_module_version": "1.2.0",
            "_view_name": "StyleView",
            "description_width": ""
          }
        },
        "95b5586ad403405cb2b546c42f625254": {
          "model_module": "@jupyter-widgets/controls",
          "model_module_version": "1.5.0",
          "model_name": "ProgressStyleModel",
          "state": {
            "_model_module": "@jupyter-widgets/controls",
            "_model_module_version": "1.5.0",
            "_model_name": "ProgressStyleModel",
            "_view_count": null,
            "_view_module": "@jupyter-widgets/base",
            "_view_module_version": "1.2.0",
            "_view_name": "StyleView",
            "bar_color": null,
            "description_width": ""
          }
        },
        "9667384b77f542e8b85e3b8ae47a9554": {
          "model_module": "@jupyter-widgets/controls",
          "model_module_version": "1.5.0",
          "model_name": "DescriptionStyleModel",
          "state": {
            "_model_module": "@jupyter-widgets/controls",
            "_model_module_version": "1.5.0",
            "_model_name": "DescriptionStyleModel",
            "_view_count": null,
            "_view_module": "@jupyter-widgets/base",
            "_view_module_version": "1.2.0",
            "_view_name": "StyleView",
            "description_width": ""
          }
        },
        "96dbb0522d464cbd8b6f8f5da5274bb1": {
          "model_module": "@jupyter-widgets/controls",
          "model_module_version": "1.5.0",
          "model_name": "HTMLModel",
          "state": {
            "_dom_classes": [],
            "_model_module": "@jupyter-widgets/controls",
            "_model_module_version": "1.5.0",
            "_model_name": "HTMLModel",
            "_view_count": null,
            "_view_module": "@jupyter-widgets/controls",
            "_view_module_version": "1.5.0",
            "_view_name": "HTMLView",
            "description": "",
            "description_tooltip": null,
            "layout": "IPY_MODEL_6f6c646c33284e32b16ca7a990ba2a0a",
            "placeholder": "​",
            "style": "IPY_MODEL_409ab2dab6e84b43a1d1b120d6b2b0a1",
            "value": " 2.14M/2.14M [00:00&lt;00:00, 17.6MB/s]"
          }
        },
        "98be0f4248f14702bfaf4f4604b7bb66": {
          "model_module": "@jupyter-widgets/controls",
          "model_module_version": "1.5.0",
          "model_name": "ProgressStyleModel",
          "state": {
            "_model_module": "@jupyter-widgets/controls",
            "_model_module_version": "1.5.0",
            "_model_name": "ProgressStyleModel",
            "_view_count": null,
            "_view_module": "@jupyter-widgets/base",
            "_view_module_version": "1.2.0",
            "_view_name": "StyleView",
            "bar_color": null,
            "description_width": ""
          }
        },
        "98c98920b5334226be9ffd5b6939aeb8": {
          "model_module": "@jupyter-widgets/base",
          "model_module_version": "1.2.0",
          "model_name": "LayoutModel",
          "state": {
            "_model_module": "@jupyter-widgets/base",
            "_model_module_version": "1.2.0",
            "_model_name": "LayoutModel",
            "_view_count": null,
            "_view_module": "@jupyter-widgets/base",
            "_view_module_version": "1.2.0",
            "_view_name": "LayoutView",
            "align_content": null,
            "align_items": null,
            "align_self": null,
            "border": null,
            "bottom": null,
            "display": null,
            "flex": null,
            "flex_flow": null,
            "grid_area": null,
            "grid_auto_columns": null,
            "grid_auto_flow": null,
            "grid_auto_rows": null,
            "grid_column": null,
            "grid_gap": null,
            "grid_row": null,
            "grid_template_areas": null,
            "grid_template_columns": null,
            "grid_template_rows": null,
            "height": null,
            "justify_content": null,
            "justify_items": null,
            "left": null,
            "margin": null,
            "max_height": null,
            "max_width": null,
            "min_height": null,
            "min_width": null,
            "object_fit": null,
            "object_position": null,
            "order": null,
            "overflow": null,
            "overflow_x": null,
            "overflow_y": null,
            "padding": null,
            "right": null,
            "top": null,
            "visibility": null,
            "width": null
          }
        },
        "9c7d239d70f94f7a834a24d623c5966a": {
          "model_module": "@jupyter-widgets/base",
          "model_module_version": "1.2.0",
          "model_name": "LayoutModel",
          "state": {
            "_model_module": "@jupyter-widgets/base",
            "_model_module_version": "1.2.0",
            "_model_name": "LayoutModel",
            "_view_count": null,
            "_view_module": "@jupyter-widgets/base",
            "_view_module_version": "1.2.0",
            "_view_name": "LayoutView",
            "align_content": null,
            "align_items": null,
            "align_self": null,
            "border": null,
            "bottom": null,
            "display": null,
            "flex": null,
            "flex_flow": null,
            "grid_area": null,
            "grid_auto_columns": null,
            "grid_auto_flow": null,
            "grid_auto_rows": null,
            "grid_column": null,
            "grid_gap": null,
            "grid_row": null,
            "grid_template_areas": null,
            "grid_template_columns": null,
            "grid_template_rows": null,
            "height": null,
            "justify_content": null,
            "justify_items": null,
            "left": null,
            "margin": null,
            "max_height": null,
            "max_width": null,
            "min_height": null,
            "min_width": null,
            "object_fit": null,
            "object_position": null,
            "order": null,
            "overflow": null,
            "overflow_x": null,
            "overflow_y": null,
            "padding": null,
            "right": null,
            "top": null,
            "visibility": null,
            "width": null
          }
        },
        "9d42dce979db4472b15ebc383ffda302": {
          "model_module": "@jupyter-widgets/controls",
          "model_module_version": "1.5.0",
          "model_name": "ProgressStyleModel",
          "state": {
            "_model_module": "@jupyter-widgets/controls",
            "_model_module_version": "1.5.0",
            "_model_name": "ProgressStyleModel",
            "_view_count": null,
            "_view_module": "@jupyter-widgets/base",
            "_view_module_version": "1.2.0",
            "_view_name": "StyleView",
            "bar_color": null,
            "description_width": ""
          }
        },
        "9d7bc61b283a4b06b9aec4423297cc37": {
          "model_module": "@jupyter-widgets/controls",
          "model_module_version": "1.5.0",
          "model_name": "FloatProgressModel",
          "state": {
            "_dom_classes": [],
            "_model_module": "@jupyter-widgets/controls",
            "_model_module_version": "1.5.0",
            "_model_name": "FloatProgressModel",
            "_view_count": null,
            "_view_module": "@jupyter-widgets/controls",
            "_view_module_version": "1.5.0",
            "_view_name": "ProgressView",
            "bar_style": "success",
            "description": "",
            "description_tooltip": null,
            "layout": "IPY_MODEL_7941838a62d644bf88ff0cee9aa1e9ea",
            "max": 3000,
            "min": 0,
            "orientation": "horizontal",
            "style": "IPY_MODEL_ed50af4767d847b5af7588304d9cee8f",
            "value": 3000
          }
        },
        "9f5f87908ce44d63948e827d883435f0": {
          "model_module": "@jupyter-widgets/controls",
          "model_module_version": "1.5.0",
          "model_name": "FloatProgressModel",
          "state": {
            "_dom_classes": [],
            "_model_module": "@jupyter-widgets/controls",
            "_model_module_version": "1.5.0",
            "_model_name": "FloatProgressModel",
            "_view_count": null,
            "_view_module": "@jupyter-widgets/controls",
            "_view_module_version": "1.5.0",
            "_view_name": "ProgressView",
            "bar_style": "success",
            "description": "",
            "description_tooltip": null,
            "layout": "IPY_MODEL_af46331912cd4795bcc9928079798829",
            "max": 129519936,
            "min": 0,
            "orientation": "horizontal",
            "style": "IPY_MODEL_d142cb5040d44ba4be5defcd7bcf5ffc",
            "value": 129519936
          }
        },
        "a078b2d07b754e2a8d59746c8065553d": {
          "model_module": "@jupyter-widgets/controls",
          "model_module_version": "1.5.0",
          "model_name": "DescriptionStyleModel",
          "state": {
            "_model_module": "@jupyter-widgets/controls",
            "_model_module_version": "1.5.0",
            "_model_name": "DescriptionStyleModel",
            "_view_count": null,
            "_view_module": "@jupyter-widgets/base",
            "_view_module_version": "1.2.0",
            "_view_name": "StyleView",
            "description_width": ""
          }
        },
        "a0deb3721f2e4ac3b0de6517f5f7e678": {
          "model_module": "@jupyter-widgets/base",
          "model_module_version": "1.2.0",
          "model_name": "LayoutModel",
          "state": {
            "_model_module": "@jupyter-widgets/base",
            "_model_module_version": "1.2.0",
            "_model_name": "LayoutModel",
            "_view_count": null,
            "_view_module": "@jupyter-widgets/base",
            "_view_module_version": "1.2.0",
            "_view_name": "LayoutView",
            "align_content": null,
            "align_items": null,
            "align_self": null,
            "border": null,
            "bottom": null,
            "display": null,
            "flex": null,
            "flex_flow": null,
            "grid_area": null,
            "grid_auto_columns": null,
            "grid_auto_flow": null,
            "grid_auto_rows": null,
            "grid_column": null,
            "grid_gap": null,
            "grid_row": null,
            "grid_template_areas": null,
            "grid_template_columns": null,
            "grid_template_rows": null,
            "height": null,
            "justify_content": null,
            "justify_items": null,
            "left": null,
            "margin": null,
            "max_height": null,
            "max_width": null,
            "min_height": null,
            "min_width": null,
            "object_fit": null,
            "object_position": null,
            "order": null,
            "overflow": null,
            "overflow_x": null,
            "overflow_y": null,
            "padding": null,
            "right": null,
            "top": null,
            "visibility": null,
            "width": null
          }
        },
        "a0e8a9cc86d443a3b11c1506ca8525ce": {
          "model_module": "@jupyter-widgets/base",
          "model_module_version": "1.2.0",
          "model_name": "LayoutModel",
          "state": {
            "_model_module": "@jupyter-widgets/base",
            "_model_module_version": "1.2.0",
            "_model_name": "LayoutModel",
            "_view_count": null,
            "_view_module": "@jupyter-widgets/base",
            "_view_module_version": "1.2.0",
            "_view_name": "LayoutView",
            "align_content": null,
            "align_items": null,
            "align_self": null,
            "border": null,
            "bottom": null,
            "display": null,
            "flex": null,
            "flex_flow": null,
            "grid_area": null,
            "grid_auto_columns": null,
            "grid_auto_flow": null,
            "grid_auto_rows": null,
            "grid_column": null,
            "grid_gap": null,
            "grid_row": null,
            "grid_template_areas": null,
            "grid_template_columns": null,
            "grid_template_rows": null,
            "height": null,
            "justify_content": null,
            "justify_items": null,
            "left": null,
            "margin": null,
            "max_height": null,
            "max_width": null,
            "min_height": null,
            "min_width": null,
            "object_fit": null,
            "object_position": null,
            "order": null,
            "overflow": null,
            "overflow_x": null,
            "overflow_y": null,
            "padding": null,
            "right": null,
            "top": null,
            "visibility": null,
            "width": null
          }
        },
        "a3e7d56755c741919a03627638eef582": {
          "model_module": "@jupyter-widgets/base",
          "model_module_version": "1.2.0",
          "model_name": "LayoutModel",
          "state": {
            "_model_module": "@jupyter-widgets/base",
            "_model_module_version": "1.2.0",
            "_model_name": "LayoutModel",
            "_view_count": null,
            "_view_module": "@jupyter-widgets/base",
            "_view_module_version": "1.2.0",
            "_view_name": "LayoutView",
            "align_content": null,
            "align_items": null,
            "align_self": null,
            "border": null,
            "bottom": null,
            "display": null,
            "flex": null,
            "flex_flow": null,
            "grid_area": null,
            "grid_auto_columns": null,
            "grid_auto_flow": null,
            "grid_auto_rows": null,
            "grid_column": null,
            "grid_gap": null,
            "grid_row": null,
            "grid_template_areas": null,
            "grid_template_columns": null,
            "grid_template_rows": null,
            "height": null,
            "justify_content": null,
            "justify_items": null,
            "left": null,
            "margin": null,
            "max_height": null,
            "max_width": null,
            "min_height": null,
            "min_width": null,
            "object_fit": null,
            "object_position": null,
            "order": null,
            "overflow": null,
            "overflow_x": null,
            "overflow_y": null,
            "padding": null,
            "right": null,
            "top": null,
            "visibility": null,
            "width": null
          }
        },
        "a70fe4e5116940d193c8e8b144429bb2": {
          "model_module": "@jupyter-widgets/controls",
          "model_module_version": "1.5.0",
          "model_name": "HTMLModel",
          "state": {
            "_dom_classes": [],
            "_model_module": "@jupyter-widgets/controls",
            "_model_module_version": "1.5.0",
            "_model_name": "HTMLModel",
            "_view_count": null,
            "_view_module": "@jupyter-widgets/controls",
            "_view_module_version": "1.5.0",
            "_view_name": "HTMLView",
            "description": "",
            "description_tooltip": null,
            "layout": "IPY_MODEL_218c6451989f4323b8bb0022421442e4",
            "placeholder": "​",
            "style": "IPY_MODEL_c6d25675bdc14a97bcbb97817d3b988a",
            "value": "Generating test split: 100%"
          }
        },
        "a7d4393621614acb9d85dfac786575d6": {
          "model_module": "@jupyter-widgets/controls",
          "model_module_version": "1.5.0",
          "model_name": "DescriptionStyleModel",
          "state": {
            "_model_module": "@jupyter-widgets/controls",
            "_model_module_version": "1.5.0",
            "_model_name": "DescriptionStyleModel",
            "_view_count": null,
            "_view_module": "@jupyter-widgets/base",
            "_view_module_version": "1.2.0",
            "_view_name": "StyleView",
            "description_width": ""
          }
        },
        "a9725fb256bd4b4db0128bfc0a1cb21d": {
          "model_module": "@jupyter-widgets/controls",
          "model_module_version": "1.5.0",
          "model_name": "HBoxModel",
          "state": {
            "_dom_classes": [],
            "_model_module": "@jupyter-widgets/controls",
            "_model_module_version": "1.5.0",
            "_model_name": "HBoxModel",
            "_view_count": null,
            "_view_module": "@jupyter-widgets/controls",
            "_view_module_version": "1.5.0",
            "_view_name": "HBoxView",
            "box_style": "",
            "children": [
              "IPY_MODEL_ed3d3c2a5cca49fa9d9a9296e42cc728",
              "IPY_MODEL_e97e1a1eebfb4bd1a5372d70ab2c8222",
              "IPY_MODEL_2d12661a0dec47ba9fbf60c4c8fd4a2a"
            ],
            "layout": "IPY_MODEL_f8e47fdf9bec4712a305bb1e424075ee"
          }
        },
        "ae05542a08b5464aba971239bb5c322c": {
          "model_module": "@jupyter-widgets/base",
          "model_module_version": "1.2.0",
          "model_name": "LayoutModel",
          "state": {
            "_model_module": "@jupyter-widgets/base",
            "_model_module_version": "1.2.0",
            "_model_name": "LayoutModel",
            "_view_count": null,
            "_view_module": "@jupyter-widgets/base",
            "_view_module_version": "1.2.0",
            "_view_name": "LayoutView",
            "align_content": null,
            "align_items": null,
            "align_self": null,
            "border": null,
            "bottom": null,
            "display": null,
            "flex": null,
            "flex_flow": null,
            "grid_area": null,
            "grid_auto_columns": null,
            "grid_auto_flow": null,
            "grid_auto_rows": null,
            "grid_column": null,
            "grid_gap": null,
            "grid_row": null,
            "grid_template_areas": null,
            "grid_template_columns": null,
            "grid_template_rows": null,
            "height": null,
            "justify_content": null,
            "justify_items": null,
            "left": null,
            "margin": null,
            "max_height": null,
            "max_width": null,
            "min_height": null,
            "min_width": null,
            "object_fit": null,
            "object_position": null,
            "order": null,
            "overflow": null,
            "overflow_x": null,
            "overflow_y": null,
            "padding": null,
            "right": null,
            "top": null,
            "visibility": null,
            "width": null
          }
        },
        "ae282dc5892846f9893496cc13350620": {
          "model_module": "@jupyter-widgets/controls",
          "model_module_version": "1.5.0",
          "model_name": "HTMLModel",
          "state": {
            "_dom_classes": [],
            "_model_module": "@jupyter-widgets/controls",
            "_model_module_version": "1.5.0",
            "_model_name": "HTMLModel",
            "_view_count": null,
            "_view_module": "@jupyter-widgets/controls",
            "_view_module_version": "1.5.0",
            "_view_name": "HTMLView",
            "description": "",
            "description_tooltip": null,
            "layout": "IPY_MODEL_3d834db0eea64bbab19c6cbed3b489c3",
            "placeholder": "​",
            "style": "IPY_MODEL_5d39ac20fdcc484bb0eb8805508da0c5",
            "value": "Generating validation split: 100%"
          }
        },
        "af46331912cd4795bcc9928079798829": {
          "model_module": "@jupyter-widgets/base",
          "model_module_version": "1.2.0",
          "model_name": "LayoutModel",
          "state": {
            "_model_module": "@jupyter-widgets/base",
            "_model_module_version": "1.2.0",
            "_model_name": "LayoutModel",
            "_view_count": null,
            "_view_module": "@jupyter-widgets/base",
            "_view_module_version": "1.2.0",
            "_view_name": "LayoutView",
            "align_content": null,
            "align_items": null,
            "align_self": null,
            "border": null,
            "bottom": null,
            "display": null,
            "flex": null,
            "flex_flow": null,
            "grid_area": null,
            "grid_auto_columns": null,
            "grid_auto_flow": null,
            "grid_auto_rows": null,
            "grid_column": null,
            "grid_gap": null,
            "grid_row": null,
            "grid_template_areas": null,
            "grid_template_columns": null,
            "grid_template_rows": null,
            "height": null,
            "justify_content": null,
            "justify_items": null,
            "left": null,
            "margin": null,
            "max_height": null,
            "max_width": null,
            "min_height": null,
            "min_width": null,
            "object_fit": null,
            "object_position": null,
            "order": null,
            "overflow": null,
            "overflow_x": null,
            "overflow_y": null,
            "padding": null,
            "right": null,
            "top": null,
            "visibility": null,
            "width": null
          }
        },
        "afb447d88e2d4313bf7e418be5910b5a": {
          "model_module": "@jupyter-widgets/controls",
          "model_module_version": "1.5.0",
          "model_name": "HBoxModel",
          "state": {
            "_dom_classes": [],
            "_model_module": "@jupyter-widgets/controls",
            "_model_module_version": "1.5.0",
            "_model_name": "HBoxModel",
            "_view_count": null,
            "_view_module": "@jupyter-widgets/controls",
            "_view_module_version": "1.5.0",
            "_view_name": "HBoxView",
            "box_style": "",
            "children": [
              "IPY_MODEL_f190f7174d2e4ae2ae97b9b8aeeb53bb",
              "IPY_MODEL_dd04582aaaa544c1b370a8e27fc8e5cf",
              "IPY_MODEL_80e273fcbf594c3ab922b3cb626b1955"
            ],
            "layout": "IPY_MODEL_133763c63fe743d095cf4da2451490be"
          }
        },
        "b3daf72cc74944a598a7423ff9395b7c": {
          "model_module": "@jupyter-widgets/controls",
          "model_module_version": "1.5.0",
          "model_name": "ProgressStyleModel",
          "state": {
            "_model_module": "@jupyter-widgets/controls",
            "_model_module_version": "1.5.0",
            "_model_name": "ProgressStyleModel",
            "_view_count": null,
            "_view_module": "@jupyter-widgets/base",
            "_view_module_version": "1.2.0",
            "_view_name": "StyleView",
            "bar_color": null,
            "description_width": ""
          }
        },
        "b4a1f2d0ba3b41299ade4df77ccd4108": {
          "model_module": "@jupyter-widgets/controls",
          "model_module_version": "1.5.0",
          "model_name": "DescriptionStyleModel",
          "state": {
            "_model_module": "@jupyter-widgets/controls",
            "_model_module_version": "1.5.0",
            "_model_name": "DescriptionStyleModel",
            "_view_count": null,
            "_view_module": "@jupyter-widgets/base",
            "_view_module_version": "1.2.0",
            "_view_name": "StyleView",
            "description_width": ""
          }
        },
        "b6374302388f42f6b88271a19e24c201": {
          "model_module": "@jupyter-widgets/controls",
          "model_module_version": "1.5.0",
          "model_name": "DescriptionStyleModel",
          "state": {
            "_model_module": "@jupyter-widgets/controls",
            "_model_module_version": "1.5.0",
            "_model_name": "DescriptionStyleModel",
            "_view_count": null,
            "_view_module": "@jupyter-widgets/base",
            "_view_module_version": "1.2.0",
            "_view_name": "StyleView",
            "description_width": ""
          }
        },
        "b722b27caeb34f0a8a23d81d89b40f89": {
          "model_module": "@jupyter-widgets/controls",
          "model_module_version": "1.5.0",
          "model_name": "DescriptionStyleModel",
          "state": {
            "_model_module": "@jupyter-widgets/controls",
            "_model_module_version": "1.5.0",
            "_model_name": "DescriptionStyleModel",
            "_view_count": null,
            "_view_module": "@jupyter-widgets/base",
            "_view_module_version": "1.2.0",
            "_view_name": "StyleView",
            "description_width": ""
          }
        },
        "bb759a2973064c31b2ac7e7787d3a730": {
          "model_module": "@jupyter-widgets/base",
          "model_module_version": "1.2.0",
          "model_name": "LayoutModel",
          "state": {
            "_model_module": "@jupyter-widgets/base",
            "_model_module_version": "1.2.0",
            "_model_name": "LayoutModel",
            "_view_count": null,
            "_view_module": "@jupyter-widgets/base",
            "_view_module_version": "1.2.0",
            "_view_name": "LayoutView",
            "align_content": null,
            "align_items": null,
            "align_self": null,
            "border": null,
            "bottom": null,
            "display": null,
            "flex": null,
            "flex_flow": null,
            "grid_area": null,
            "grid_auto_columns": null,
            "grid_auto_flow": null,
            "grid_auto_rows": null,
            "grid_column": null,
            "grid_gap": null,
            "grid_row": null,
            "grid_template_areas": null,
            "grid_template_columns": null,
            "grid_template_rows": null,
            "height": null,
            "justify_content": null,
            "justify_items": null,
            "left": null,
            "margin": null,
            "max_height": null,
            "max_width": null,
            "min_height": null,
            "min_width": null,
            "object_fit": null,
            "object_position": null,
            "order": null,
            "overflow": null,
            "overflow_x": null,
            "overflow_y": null,
            "padding": null,
            "right": null,
            "top": null,
            "visibility": null,
            "width": null
          }
        },
        "bbe0c703641d4324a8b51858b9494277": {
          "model_module": "@jupyter-widgets/controls",
          "model_module_version": "1.5.0",
          "model_name": "ProgressStyleModel",
          "state": {
            "_model_module": "@jupyter-widgets/controls",
            "_model_module_version": "1.5.0",
            "_model_name": "ProgressStyleModel",
            "_view_count": null,
            "_view_module": "@jupyter-widgets/base",
            "_view_module_version": "1.2.0",
            "_view_name": "StyleView",
            "bar_color": null,
            "description_width": ""
          }
        },
        "bfbabf8709d64191a88f917582fa7e15": {
          "model_module": "@jupyter-widgets/controls",
          "model_module_version": "1.5.0",
          "model_name": "HBoxModel",
          "state": {
            "_dom_classes": [],
            "_model_module": "@jupyter-widgets/controls",
            "_model_module_version": "1.5.0",
            "_model_name": "HBoxModel",
            "_view_count": null,
            "_view_module": "@jupyter-widgets/controls",
            "_view_module_version": "1.5.0",
            "_view_name": "HBoxView",
            "box_style": "",
            "children": [
              "IPY_MODEL_022b45bef5904e10b4b0941907f50747",
              "IPY_MODEL_88f51f4fa8ba487bbaa8a5dca154ecaa",
              "IPY_MODEL_81e81ec3639a4a1bb57d401a6bf8b7a4"
            ],
            "layout": "IPY_MODEL_5f13964cb3d74384a38c597cca8ac475"
          }
        },
        "c177f9fcff234cea95132239d12db1eb": {
          "model_module": "@jupyter-widgets/controls",
          "model_module_version": "1.5.0",
          "model_name": "DescriptionStyleModel",
          "state": {
            "_model_module": "@jupyter-widgets/controls",
            "_model_module_version": "1.5.0",
            "_model_name": "DescriptionStyleModel",
            "_view_count": null,
            "_view_module": "@jupyter-widgets/base",
            "_view_module_version": "1.2.0",
            "_view_name": "StyleView",
            "description_width": ""
          }
        },
        "c496464675924e159a4d2bd6576efec4": {
          "model_module": "@jupyter-widgets/base",
          "model_module_version": "1.2.0",
          "model_name": "LayoutModel",
          "state": {
            "_model_module": "@jupyter-widgets/base",
            "_model_module_version": "1.2.0",
            "_model_name": "LayoutModel",
            "_view_count": null,
            "_view_module": "@jupyter-widgets/base",
            "_view_module_version": "1.2.0",
            "_view_name": "LayoutView",
            "align_content": null,
            "align_items": null,
            "align_self": null,
            "border": null,
            "bottom": null,
            "display": null,
            "flex": null,
            "flex_flow": null,
            "grid_area": null,
            "grid_auto_columns": null,
            "grid_auto_flow": null,
            "grid_auto_rows": null,
            "grid_column": null,
            "grid_gap": null,
            "grid_row": null,
            "grid_template_areas": null,
            "grid_template_columns": null,
            "grid_template_rows": null,
            "height": null,
            "justify_content": null,
            "justify_items": null,
            "left": null,
            "margin": null,
            "max_height": null,
            "max_width": null,
            "min_height": null,
            "min_width": null,
            "object_fit": null,
            "object_position": null,
            "order": null,
            "overflow": null,
            "overflow_x": null,
            "overflow_y": null,
            "padding": null,
            "right": null,
            "top": null,
            "visibility": null,
            "width": null
          }
        },
        "c6d25675bdc14a97bcbb97817d3b988a": {
          "model_module": "@jupyter-widgets/controls",
          "model_module_version": "1.5.0",
          "model_name": "DescriptionStyleModel",
          "state": {
            "_model_module": "@jupyter-widgets/controls",
            "_model_module_version": "1.5.0",
            "_model_name": "DescriptionStyleModel",
            "_view_count": null,
            "_view_module": "@jupyter-widgets/base",
            "_view_module_version": "1.2.0",
            "_view_name": "StyleView",
            "description_width": ""
          }
        },
        "c805f201f9834828ad927b04a7ec5385": {
          "model_module": "@jupyter-widgets/controls",
          "model_module_version": "1.5.0",
          "model_name": "FloatProgressModel",
          "state": {
            "_dom_classes": [],
            "_model_module": "@jupyter-widgets/controls",
            "_model_module_version": "1.5.0",
            "_model_name": "FloatProgressModel",
            "_view_count": null,
            "_view_module": "@jupyter-widgets/controls",
            "_view_module_version": "1.5.0",
            "_view_name": "ProgressView",
            "bar_style": "success",
            "description": "",
            "description_tooltip": null,
            "layout": "IPY_MODEL_fe669f07d89846f8afc27ba83cdd7451",
            "max": 14000,
            "min": 0,
            "orientation": "horizontal",
            "style": "IPY_MODEL_95b5586ad403405cb2b546c42f625254",
            "value": 14000
          }
        },
        "ca422866283244ef9994546fe97fa4b3": {
          "model_module": "@jupyter-widgets/controls",
          "model_module_version": "1.5.0",
          "model_name": "FloatProgressModel",
          "state": {
            "_dom_classes": [],
            "_model_module": "@jupyter-widgets/controls",
            "_model_module_version": "1.5.0",
            "_model_name": "FloatProgressModel",
            "_view_count": null,
            "_view_module": "@jupyter-widgets/controls",
            "_view_module_version": "1.5.0",
            "_view_name": "ProgressView",
            "bar_style": "success",
            "description": "",
            "description_tooltip": null,
            "layout": "IPY_MODEL_50ab110e6dc044b79ec7142ec4452b66",
            "max": 27776531,
            "min": 0,
            "orientation": "horizontal",
            "style": "IPY_MODEL_8aeeadaf235640a59f06c78223de8054",
            "value": 27776531
          }
        },
        "cf24fe8df2984fd7aa4745e549a20919": {
          "model_module": "@jupyter-widgets/base",
          "model_module_version": "1.2.0",
          "model_name": "LayoutModel",
          "state": {
            "_model_module": "@jupyter-widgets/base",
            "_model_module_version": "1.2.0",
            "_model_name": "LayoutModel",
            "_view_count": null,
            "_view_module": "@jupyter-widgets/base",
            "_view_module_version": "1.2.0",
            "_view_name": "LayoutView",
            "align_content": null,
            "align_items": null,
            "align_self": null,
            "border": null,
            "bottom": null,
            "display": null,
            "flex": null,
            "flex_flow": null,
            "grid_area": null,
            "grid_auto_columns": null,
            "grid_auto_flow": null,
            "grid_auto_rows": null,
            "grid_column": null,
            "grid_gap": null,
            "grid_row": null,
            "grid_template_areas": null,
            "grid_template_columns": null,
            "grid_template_rows": null,
            "height": null,
            "justify_content": null,
            "justify_items": null,
            "left": null,
            "margin": null,
            "max_height": null,
            "max_width": null,
            "min_height": null,
            "min_width": null,
            "object_fit": null,
            "object_position": null,
            "order": null,
            "overflow": null,
            "overflow_x": null,
            "overflow_y": null,
            "padding": null,
            "right": null,
            "top": null,
            "visibility": null,
            "width": null
          }
        },
        "d142cb5040d44ba4be5defcd7bcf5ffc": {
          "model_module": "@jupyter-widgets/controls",
          "model_module_version": "1.5.0",
          "model_name": "ProgressStyleModel",
          "state": {
            "_model_module": "@jupyter-widgets/controls",
            "_model_module_version": "1.5.0",
            "_model_name": "ProgressStyleModel",
            "_view_count": null,
            "_view_module": "@jupyter-widgets/base",
            "_view_module_version": "1.2.0",
            "_view_name": "StyleView",
            "bar_color": null,
            "description_width": ""
          }
        },
        "d25d34a48eca4f67b9992685d22bdb37": {
          "model_module": "@jupyter-widgets/controls",
          "model_module_version": "1.5.0",
          "model_name": "HTMLModel",
          "state": {
            "_dom_classes": [],
            "_model_module": "@jupyter-widgets/controls",
            "_model_module_version": "1.5.0",
            "_model_name": "HTMLModel",
            "_view_count": null,
            "_view_module": "@jupyter-widgets/controls",
            "_view_module_version": "1.5.0",
            "_view_name": "HTMLView",
            "description": "",
            "description_tooltip": null,
            "layout": "IPY_MODEL_cf24fe8df2984fd7aa4745e549a20919",
            "placeholder": "​",
            "style": "IPY_MODEL_c177f9fcff234cea95132239d12db1eb",
            "value": " 45000/45000 [00:00&lt;00:00, 218609.55 examples/s]"
          }
        },
        "d49abed8a1cd49acbba3aadc45479a41": {
          "model_module": "@jupyter-widgets/base",
          "model_module_version": "1.2.0",
          "model_name": "LayoutModel",
          "state": {
            "_model_module": "@jupyter-widgets/base",
            "_model_module_version": "1.2.0",
            "_model_name": "LayoutModel",
            "_view_count": null,
            "_view_module": "@jupyter-widgets/base",
            "_view_module_version": "1.2.0",
            "_view_name": "LayoutView",
            "align_content": null,
            "align_items": null,
            "align_self": null,
            "border": null,
            "bottom": null,
            "display": null,
            "flex": null,
            "flex_flow": null,
            "grid_area": null,
            "grid_auto_columns": null,
            "grid_auto_flow": null,
            "grid_auto_rows": null,
            "grid_column": null,
            "grid_gap": null,
            "grid_row": null,
            "grid_template_areas": null,
            "grid_template_columns": null,
            "grid_template_rows": null,
            "height": null,
            "justify_content": null,
            "justify_items": null,
            "left": null,
            "margin": null,
            "max_height": null,
            "max_width": null,
            "min_height": null,
            "min_width": null,
            "object_fit": null,
            "object_position": null,
            "order": null,
            "overflow": null,
            "overflow_x": null,
            "overflow_y": null,
            "padding": null,
            "right": null,
            "top": null,
            "visibility": null,
            "width": null
          }
        },
        "d536c7198ade4424a824494aba875a0c": {
          "model_module": "@jupyter-widgets/base",
          "model_module_version": "1.2.0",
          "model_name": "LayoutModel",
          "state": {
            "_model_module": "@jupyter-widgets/base",
            "_model_module_version": "1.2.0",
            "_model_name": "LayoutModel",
            "_view_count": null,
            "_view_module": "@jupyter-widgets/base",
            "_view_module_version": "1.2.0",
            "_view_name": "LayoutView",
            "align_content": null,
            "align_items": null,
            "align_self": null,
            "border": null,
            "bottom": null,
            "display": null,
            "flex": null,
            "flex_flow": null,
            "grid_area": null,
            "grid_auto_columns": null,
            "grid_auto_flow": null,
            "grid_auto_rows": null,
            "grid_column": null,
            "grid_gap": null,
            "grid_row": null,
            "grid_template_areas": null,
            "grid_template_columns": null,
            "grid_template_rows": null,
            "height": null,
            "justify_content": null,
            "justify_items": null,
            "left": null,
            "margin": null,
            "max_height": null,
            "max_width": null,
            "min_height": null,
            "min_width": null,
            "object_fit": null,
            "object_position": null,
            "order": null,
            "overflow": null,
            "overflow_x": null,
            "overflow_y": null,
            "padding": null,
            "right": null,
            "top": null,
            "visibility": null,
            "width": null
          }
        },
        "dd04582aaaa544c1b370a8e27fc8e5cf": {
          "model_module": "@jupyter-widgets/controls",
          "model_module_version": "1.5.0",
          "model_name": "FloatProgressModel",
          "state": {
            "_dom_classes": [],
            "_model_module": "@jupyter-widgets/controls",
            "_model_module_version": "1.5.0",
            "_model_name": "FloatProgressModel",
            "_view_count": null,
            "_view_module": "@jupyter-widgets/controls",
            "_view_module_version": "1.5.0",
            "_view_name": "ProgressView",
            "bar_style": "success",
            "description": "",
            "description_tooltip": null,
            "layout": "IPY_MODEL_288e54da33754212995d3fe071be6f26",
            "max": 45000,
            "min": 0,
            "orientation": "horizontal",
            "style": "IPY_MODEL_b3daf72cc74944a598a7423ff9395b7c",
            "value": 45000
          }
        },
        "ddc474ce4be846dfb918aaf59dae028c": {
          "model_module": "@jupyter-widgets/controls",
          "model_module_version": "1.5.0",
          "model_name": "DescriptionStyleModel",
          "state": {
            "_model_module": "@jupyter-widgets/controls",
            "_model_module_version": "1.5.0",
            "_model_name": "DescriptionStyleModel",
            "_view_count": null,
            "_view_module": "@jupyter-widgets/base",
            "_view_module_version": "1.2.0",
            "_view_name": "StyleView",
            "description_width": ""
          }
        },
        "dfa8e26361b54908b7be062750678994": {
          "model_module": "@jupyter-widgets/controls",
          "model_module_version": "1.5.0",
          "model_name": "HBoxModel",
          "state": {
            "_dom_classes": [],
            "_model_module": "@jupyter-widgets/controls",
            "_model_module_version": "1.5.0",
            "_model_name": "HBoxModel",
            "_view_count": null,
            "_view_module": "@jupyter-widgets/controls",
            "_view_module_version": "1.5.0",
            "_view_name": "HBoxView",
            "box_style": "",
            "children": [
              "IPY_MODEL_2fceb0677e8845708356efa0f733ddf5",
              "IPY_MODEL_3d1a6f8e2c7042fc80fdbedf81bb281c",
              "IPY_MODEL_701001c3b438414392de07bdb0f85512"
            ],
            "layout": "IPY_MODEL_f5d38d0b235046068504e62b60f4f5ad"
          }
        },
        "e97e1a1eebfb4bd1a5372d70ab2c8222": {
          "model_module": "@jupyter-widgets/controls",
          "model_module_version": "1.5.0",
          "model_name": "FloatProgressModel",
          "state": {
            "_dom_classes": [],
            "_model_module": "@jupyter-widgets/controls",
            "_model_module_version": "1.5.0",
            "_model_name": "FloatProgressModel",
            "_view_count": null,
            "_view_module": "@jupyter-widgets/controls",
            "_view_module_version": "1.5.0",
            "_view_name": "ProgressView",
            "bar_style": "success",
            "description": "",
            "description_tooltip": null,
            "layout": "IPY_MODEL_9c7d239d70f94f7a834a24d623c5966a",
            "max": 10058329,
            "min": 0,
            "orientation": "horizontal",
            "style": "IPY_MODEL_3bf7fc7e7ca9468f8628e1b0fa4036a5",
            "value": 10058329
          }
        },
        "ea8c3d3bf7a742cea79a5b5f617121c2": {
          "model_module": "@jupyter-widgets/controls",
          "model_module_version": "1.5.0",
          "model_name": "ProgressStyleModel",
          "state": {
            "_model_module": "@jupyter-widgets/controls",
            "_model_module_version": "1.5.0",
            "_model_name": "ProgressStyleModel",
            "_view_count": null,
            "_view_module": "@jupyter-widgets/base",
            "_view_module_version": "1.2.0",
            "_view_name": "StyleView",
            "bar_color": null,
            "description_width": ""
          }
        },
        "eb7b7b659383490e9d731814ba8b4bae": {
          "model_module": "@jupyter-widgets/base",
          "model_module_version": "1.2.0",
          "model_name": "LayoutModel",
          "state": {
            "_model_module": "@jupyter-widgets/base",
            "_model_module_version": "1.2.0",
            "_model_name": "LayoutModel",
            "_view_count": null,
            "_view_module": "@jupyter-widgets/base",
            "_view_module_version": "1.2.0",
            "_view_name": "LayoutView",
            "align_content": null,
            "align_items": null,
            "align_self": null,
            "border": null,
            "bottom": null,
            "display": null,
            "flex": null,
            "flex_flow": null,
            "grid_area": null,
            "grid_auto_columns": null,
            "grid_auto_flow": null,
            "grid_auto_rows": null,
            "grid_column": null,
            "grid_gap": null,
            "grid_row": null,
            "grid_template_areas": null,
            "grid_template_columns": null,
            "grid_template_rows": null,
            "height": null,
            "justify_content": null,
            "justify_items": null,
            "left": null,
            "margin": null,
            "max_height": null,
            "max_width": null,
            "min_height": null,
            "min_width": null,
            "object_fit": null,
            "object_position": null,
            "order": null,
            "overflow": null,
            "overflow_x": null,
            "overflow_y": null,
            "padding": null,
            "right": null,
            "top": null,
            "visibility": null,
            "width": null
          }
        },
        "ec5ab2e59fc142a38cf52f3d98a7e558": {
          "model_module": "@jupyter-widgets/base",
          "model_module_version": "1.2.0",
          "model_name": "LayoutModel",
          "state": {
            "_model_module": "@jupyter-widgets/base",
            "_model_module_version": "1.2.0",
            "_model_name": "LayoutModel",
            "_view_count": null,
            "_view_module": "@jupyter-widgets/base",
            "_view_module_version": "1.2.0",
            "_view_name": "LayoutView",
            "align_content": null,
            "align_items": null,
            "align_self": null,
            "border": null,
            "bottom": null,
            "display": null,
            "flex": null,
            "flex_flow": null,
            "grid_area": null,
            "grid_auto_columns": null,
            "grid_auto_flow": null,
            "grid_auto_rows": null,
            "grid_column": null,
            "grid_gap": null,
            "grid_row": null,
            "grid_template_areas": null,
            "grid_template_columns": null,
            "grid_template_rows": null,
            "height": null,
            "justify_content": null,
            "justify_items": null,
            "left": null,
            "margin": null,
            "max_height": null,
            "max_width": null,
            "min_height": null,
            "min_width": null,
            "object_fit": null,
            "object_position": null,
            "order": null,
            "overflow": null,
            "overflow_x": null,
            "overflow_y": null,
            "padding": null,
            "right": null,
            "top": null,
            "visibility": null,
            "width": null
          }
        },
        "ed3d3c2a5cca49fa9d9a9296e42cc728": {
          "model_module": "@jupyter-widgets/controls",
          "model_module_version": "1.5.0",
          "model_name": "HTMLModel",
          "state": {
            "_dom_classes": [],
            "_model_module": "@jupyter-widgets/controls",
            "_model_module_version": "1.5.0",
            "_model_name": "HTMLModel",
            "_view_count": null,
            "_view_module": "@jupyter-widgets/controls",
            "_view_module_version": "1.5.0",
            "_view_name": "HTMLView",
            "description": "",
            "description_tooltip": null,
            "layout": "IPY_MODEL_3d66a2f6f12f484993ca183c76f888c6",
            "placeholder": "​",
            "style": "IPY_MODEL_a7d4393621614acb9d85dfac786575d6",
            "value": "Downloading data: 100%"
          }
        },
        "ed50af4767d847b5af7588304d9cee8f": {
          "model_module": "@jupyter-widgets/controls",
          "model_module_version": "1.5.0",
          "model_name": "ProgressStyleModel",
          "state": {
            "_model_module": "@jupyter-widgets/controls",
            "_model_module_version": "1.5.0",
            "_model_name": "ProgressStyleModel",
            "_view_count": null,
            "_view_module": "@jupyter-widgets/base",
            "_view_module_version": "1.2.0",
            "_view_name": "StyleView",
            "bar_color": null,
            "description_width": ""
          }
        },
        "ed7617afb23044b6a0befd6b9be83356": {
          "model_module": "@jupyter-widgets/base",
          "model_module_version": "1.2.0",
          "model_name": "LayoutModel",
          "state": {
            "_model_module": "@jupyter-widgets/base",
            "_model_module_version": "1.2.0",
            "_model_name": "LayoutModel",
            "_view_count": null,
            "_view_module": "@jupyter-widgets/base",
            "_view_module_version": "1.2.0",
            "_view_name": "LayoutView",
            "align_content": null,
            "align_items": null,
            "align_self": null,
            "border": null,
            "bottom": null,
            "display": null,
            "flex": null,
            "flex_flow": null,
            "grid_area": null,
            "grid_auto_columns": null,
            "grid_auto_flow": null,
            "grid_auto_rows": null,
            "grid_column": null,
            "grid_gap": null,
            "grid_row": null,
            "grid_template_areas": null,
            "grid_template_columns": null,
            "grid_template_rows": null,
            "height": null,
            "justify_content": null,
            "justify_items": null,
            "left": null,
            "margin": null,
            "max_height": null,
            "max_width": null,
            "min_height": null,
            "min_width": null,
            "object_fit": null,
            "object_position": null,
            "order": null,
            "overflow": null,
            "overflow_x": null,
            "overflow_y": null,
            "padding": null,
            "right": null,
            "top": null,
            "visibility": null,
            "width": null
          }
        },
        "f190f7174d2e4ae2ae97b9b8aeeb53bb": {
          "model_module": "@jupyter-widgets/controls",
          "model_module_version": "1.5.0",
          "model_name": "HTMLModel",
          "state": {
            "_dom_classes": [],
            "_model_module": "@jupyter-widgets/controls",
            "_model_module_version": "1.5.0",
            "_model_name": "HTMLModel",
            "_view_count": null,
            "_view_module": "@jupyter-widgets/controls",
            "_view_module_version": "1.5.0",
            "_view_name": "HTMLView",
            "description": "",
            "description_tooltip": null,
            "layout": "IPY_MODEL_076d9ed96ebd4b3d822c181f2131c274",
            "placeholder": "​",
            "style": "IPY_MODEL_86269489c435492297f59cad08430c0a",
            "value": "Generating validation split: 100%"
          }
        },
        "f1cc23cd12cb410caf73cdd4799a6b44": {
          "model_module": "@jupyter-widgets/controls",
          "model_module_version": "1.5.0",
          "model_name": "ProgressStyleModel",
          "state": {
            "_model_module": "@jupyter-widgets/controls",
            "_model_module_version": "1.5.0",
            "_model_name": "ProgressStyleModel",
            "_view_count": null,
            "_view_module": "@jupyter-widgets/base",
            "_view_module_version": "1.2.0",
            "_view_name": "StyleView",
            "bar_color": null,
            "description_width": ""
          }
        },
        "f3d57a4caa6d4d1d903bbc8fa9c15ee2": {
          "model_module": "@jupyter-widgets/controls",
          "model_module_version": "1.5.0",
          "model_name": "HTMLModel",
          "state": {
            "_dom_classes": [],
            "_model_module": "@jupyter-widgets/controls",
            "_model_module_version": "1.5.0",
            "_model_name": "HTMLModel",
            "_view_count": null,
            "_view_module": "@jupyter-widgets/controls",
            "_view_module_version": "1.5.0",
            "_view_name": "HTMLView",
            "description": "",
            "description_tooltip": null,
            "layout": "IPY_MODEL_904ca604611d4f37bd5543adde0b250a",
            "placeholder": "​",
            "style": "IPY_MODEL_86c48e21213643f883421ea00989d645",
            "value": " 14000/14000 [00:00&lt;00:00, 153495.74 examples/s]"
          }
        },
        "f5d38d0b235046068504e62b60f4f5ad": {
          "model_module": "@jupyter-widgets/base",
          "model_module_version": "1.2.0",
          "model_name": "LayoutModel",
          "state": {
            "_model_module": "@jupyter-widgets/base",
            "_model_module_version": "1.2.0",
            "_model_name": "LayoutModel",
            "_view_count": null,
            "_view_module": "@jupyter-widgets/base",
            "_view_module_version": "1.2.0",
            "_view_name": "LayoutView",
            "align_content": null,
            "align_items": null,
            "align_self": null,
            "border": null,
            "bottom": null,
            "display": null,
            "flex": null,
            "flex_flow": null,
            "grid_area": null,
            "grid_auto_columns": null,
            "grid_auto_flow": null,
            "grid_auto_rows": null,
            "grid_column": null,
            "grid_gap": null,
            "grid_row": null,
            "grid_template_areas": null,
            "grid_template_columns": null,
            "grid_template_rows": null,
            "height": null,
            "justify_content": null,
            "justify_items": null,
            "left": null,
            "margin": null,
            "max_height": null,
            "max_width": null,
            "min_height": null,
            "min_width": null,
            "object_fit": null,
            "object_position": null,
            "order": null,
            "overflow": null,
            "overflow_x": null,
            "overflow_y": null,
            "padding": null,
            "right": null,
            "top": null,
            "visibility": null,
            "width": null
          }
        },
        "f6c1d9b1f66d42edbea18d1ac718b0d9": {
          "model_module": "@jupyter-widgets/base",
          "model_module_version": "1.2.0",
          "model_name": "LayoutModel",
          "state": {
            "_model_module": "@jupyter-widgets/base",
            "_model_module_version": "1.2.0",
            "_model_name": "LayoutModel",
            "_view_count": null,
            "_view_module": "@jupyter-widgets/base",
            "_view_module_version": "1.2.0",
            "_view_name": "LayoutView",
            "align_content": null,
            "align_items": null,
            "align_self": null,
            "border": null,
            "bottom": null,
            "display": null,
            "flex": null,
            "flex_flow": null,
            "grid_area": null,
            "grid_auto_columns": null,
            "grid_auto_flow": null,
            "grid_auto_rows": null,
            "grid_column": null,
            "grid_gap": null,
            "grid_row": null,
            "grid_template_areas": null,
            "grid_template_columns": null,
            "grid_template_rows": null,
            "height": null,
            "justify_content": null,
            "justify_items": null,
            "left": null,
            "margin": null,
            "max_height": null,
            "max_width": null,
            "min_height": null,
            "min_width": null,
            "object_fit": null,
            "object_position": null,
            "order": null,
            "overflow": null,
            "overflow_x": null,
            "overflow_y": null,
            "padding": null,
            "right": null,
            "top": null,
            "visibility": null,
            "width": null
          }
        },
        "f8e47fdf9bec4712a305bb1e424075ee": {
          "model_module": "@jupyter-widgets/base",
          "model_module_version": "1.2.0",
          "model_name": "LayoutModel",
          "state": {
            "_model_module": "@jupyter-widgets/base",
            "_model_module_version": "1.2.0",
            "_model_name": "LayoutModel",
            "_view_count": null,
            "_view_module": "@jupyter-widgets/base",
            "_view_module_version": "1.2.0",
            "_view_name": "LayoutView",
            "align_content": null,
            "align_items": null,
            "align_self": null,
            "border": null,
            "bottom": null,
            "display": null,
            "flex": null,
            "flex_flow": null,
            "grid_area": null,
            "grid_auto_columns": null,
            "grid_auto_flow": null,
            "grid_auto_rows": null,
            "grid_column": null,
            "grid_gap": null,
            "grid_row": null,
            "grid_template_areas": null,
            "grid_template_columns": null,
            "grid_template_rows": null,
            "height": null,
            "justify_content": null,
            "justify_items": null,
            "left": null,
            "margin": null,
            "max_height": null,
            "max_width": null,
            "min_height": null,
            "min_width": null,
            "object_fit": null,
            "object_position": null,
            "order": null,
            "overflow": null,
            "overflow_x": null,
            "overflow_y": null,
            "padding": null,
            "right": null,
            "top": null,
            "visibility": null,
            "width": null
          }
        },
        "fe669f07d89846f8afc27ba83cdd7451": {
          "model_module": "@jupyter-widgets/base",
          "model_module_version": "1.2.0",
          "model_name": "LayoutModel",
          "state": {
            "_model_module": "@jupyter-widgets/base",
            "_model_module_version": "1.2.0",
            "_model_name": "LayoutModel",
            "_view_count": null,
            "_view_module": "@jupyter-widgets/base",
            "_view_module_version": "1.2.0",
            "_view_name": "LayoutView",
            "align_content": null,
            "align_items": null,
            "align_self": null,
            "border": null,
            "bottom": null,
            "display": null,
            "flex": null,
            "flex_flow": null,
            "grid_area": null,
            "grid_auto_columns": null,
            "grid_auto_flow": null,
            "grid_auto_rows": null,
            "grid_column": null,
            "grid_gap": null,
            "grid_row": null,
            "grid_template_areas": null,
            "grid_template_columns": null,
            "grid_template_rows": null,
            "height": null,
            "justify_content": null,
            "justify_items": null,
            "left": null,
            "margin": null,
            "max_height": null,
            "max_width": null,
            "min_height": null,
            "min_width": null,
            "object_fit": null,
            "object_position": null,
            "order": null,
            "overflow": null,
            "overflow_x": null,
            "overflow_y": null,
            "padding": null,
            "right": null,
            "top": null,
            "visibility": null,
            "width": null
          }
        }
      }
    }
  },
  "nbformat": 4,
  "nbformat_minor": 0
}
